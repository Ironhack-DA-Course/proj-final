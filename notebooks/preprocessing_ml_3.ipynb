{
 "cells": [
  {
   "cell_type": "code",
   "execution_count": null,
   "metadata": {},
   "outputs": [],
   "source": [
    "# Data handling\n",
    "import numpy as np\n",
    "import pandas as pd\n",
    "import re\n",
    "\n",
    "# Data visualization\n",
    "import matplotlib.pyplot as plt\n",
    "import seaborn as sns\n",
    "import matplotlib.ticker as ticker\n",
    "import graphviz\n",
    "import optuna\n",
    "import optuna.visualization as vis\n",
    "%matplotlib inline\n",
    "\n",
    "# Stats\n",
    "from statsmodels.graphics.gofplots import qqplot\n",
    "import statsmodels.api as sm\n",
    "import scipy.stats as st\n",
    "from scipy.stats import shapiro, norm, chi2_contingency, kstest, boxcox\n",
    "\n",
    "# Preprocessing\n",
    "from sklearn.model_selection import train_test_split, cross_val_score, GridSearchCV, RandomizedSearchCV\n",
    "from sklearn.preprocessing import MinMaxScaler, StandardScaler\n",
    "from sklearn.preprocessing import OneHotEncoder\n",
    "from sklearn.compose import ColumnTransformer\n",
    "\n",
    "# Models\n",
    "from sklearn.linear_model import LinearRegression, LogisticRegression\n",
    "from sklearn.neighbors import KNeighborsRegressor,KNeighborsClassifier\n",
    "from sklearn.ensemble import BaggingRegressor, RandomForestRegressor,AdaBoostRegressor, GradientBoostingRegressor\n",
    "from sklearn.tree import DecisionTreeRegressor, export_graphviz\n",
    "\n",
    "# Metrics\n",
    "from sklearn.metrics import r2_score, mean_absolute_error, mean_squared_error, root_mean_squared_error\n",
    "\n",
    "#lib\n",
    "from lib.clean_data_functions import clean_ext_version, clean_ext_publisher, clean_repo_publisher\n",
    "\n",
    "#\n",
    "from wordcloud import WordCloud,STOPWORDS\n",
    "from ast import literal_eval\n",
    "from collections import Counter\n",
    "\n",
    "# os\n",
    "import os\n",
    "\n",
    "# time\n",
    "import time\n",
    "\n",
    "import warnings\n",
    "# warnings.filterwarnings(\"ignore\")    # (Optional)\n",
    "\n",
    "print(\"Project has been created with Pandas: \" ,pd. __version__,\" And with Numpy: \",np. __version__)"
   ]
  },
  {
   "cell_type": "markdown",
   "metadata": {},
   "source": [
    "### Loading"
   ]
  },
  {
   "cell_type": "code",
   "execution_count": 2,
   "metadata": {},
   "outputs": [],
   "source": [
    "import yaml\n",
    "\n",
    "try:\n",
    "    with open(\"../config.yaml\", \"r\") as file:\n",
    "        config = yaml.safe_load(file)\n",
    "except:\n",
    "    print(\"Yaml configuration file not found!\")"
   ]
  },
  {
   "cell_type": "code",
   "execution_count": null,
   "metadata": {},
   "outputs": [],
   "source": [
    "df = pd.read_csv(config[\"data\"][\"clean\"][\"file_eda_cleaned\"])\n",
    "# df = df.sort_values(by = [\"ext_install_count\", \"ext_rating\"], ascending= False)\n",
    "df.head()"
   ]
  },
  {
   "cell_type": "markdown",
   "metadata": {},
   "source": [
    "### 5. Preprocessing "
   ]
  },
  {
   "cell_type": "code",
   "execution_count": null,
   "metadata": {},
   "outputs": [],
   "source": [
    "cols_num = df.select_dtypes(include = [\"int64\",\"float64\"]).columns.to_list()\n",
    "cols_cat = df.select_dtypes(include = [\"object\",\"category\"]).columns.to_list()"
   ]
  },
  {
   "cell_type": "markdown",
   "metadata": {},
   "source": [
    "Handle duplicated"
   ]
  },
  {
   "cell_type": "code",
   "execution_count": 6,
   "metadata": {},
   "outputs": [
    {
     "data": {
      "text/plain": [
       "np.int64(782)"
      ]
     },
     "execution_count": 6,
     "metadata": {},
     "output_type": "execute_result"
    }
   ],
   "source": [
    "df.duplicated().sum()"
   ]
  },
  {
   "cell_type": "markdown",
   "metadata": {},
   "source": [
    "Handle missing values"
   ]
  },
  {
   "cell_type": "code",
   "execution_count": null,
   "metadata": {},
   "outputs": [],
   "source": [
    "df.duplicated.sum()"
   ]
  },
  {
   "cell_type": "markdown",
   "metadata": {},
   "source": [
    "### Outliers -> will be moved to Preprocessing not belong to EDA"
   ]
  },
  {
   "cell_type": "markdown",
   "metadata": {},
   "source": [
    "**Outliers detection**"
   ]
  },
  {
   "cell_type": "code",
   "execution_count": null,
   "metadata": {},
   "outputs": [],
   "source": [
    "def detect_iqr_outliers(df: pd.DataFrame, column):\n",
    "    out=[]\n",
    "    Q1 = df[column].quantile(0.25)\n",
    "    Q3 = df[column].quantile(0.75)\n",
    "    IQR = Q3 - Q1\n",
    "    lower_bound = Q1 - 1.5 * IQR\n",
    "    upper_bound = Q3 + 1.5 * IQR\n",
    "\n",
    "    for x in df[column]:\n",
    "        if x > upper_bound or x < lower_bound:\n",
    "            out.append(x)\n",
    "    return out\n",
    "\n",
    "for col in cols_num:\n",
    "    print(f\" Total outliers in '{col}':  {len(detect_iqr_outliers(df, col))} \\n\")"
   ]
  },
  {
   "cell_type": "markdown",
   "metadata": {},
   "source": [
    "**Outliers handle**"
   ]
  },
  {
   "cell_type": "markdown",
   "metadata": {},
   "source": [
    "- IRQ-Outliers removing -> Delete observations, not gonna use it"
   ]
  },
  {
   "cell_type": "code",
   "execution_count": null,
   "metadata": {},
   "outputs": [],
   "source": [
    "# def remove_iqr_outliers(df: pd.DataFrame, column) -> pd.DataFrame:\n",
    "#     Q1 = df[column].quantile(0.25)\n",
    "#     Q3 = df[column].quantile(0.75)\n",
    "#     IQR = Q3 - Q1\n",
    "#     lower_bound = Q1 - 1.5 * IQR\n",
    "#     upper_bound = Q3 + 1.5 * IQR\n",
    "#     df = df[(df[column] >= lower_bound) & (df[column] <= upper_bound)]\n",
    "#     return df"
   ]
  },
  {
   "cell_type": "markdown",
   "metadata": {},
   "source": [
    "- Transform "
   ]
  },
  {
   "cell_type": "code",
   "execution_count": null,
   "metadata": {},
   "outputs": [],
   "source": [
    "# Applying Box-Cox transformation to columns  with high skewness and positive values.\n",
    "\n",
    "df[\"ext_install_count\"], power_install_count = boxcox(df[\"ext_install_count\"])\n",
    "\n",
    "print(power_install_count)\n",
    "\n",
    "# Plotting the transformed distributions\n",
    "plt.figure(figsize=(10,5))\n",
    "\n",
    "# Box-Cox transformed 'LotArea'\n",
    "sns.histplot(df[\"ext_install_count\"], kde=True)\n",
    "plt.title(\"Box-Cox Transformed ext_install_count\")\n",
    "\n"
   ]
  },
  {
   "cell_type": "markdown",
   "metadata": {},
   "source": []
  },
  {
   "cell_type": "markdown",
   "metadata": {},
   "source": []
  }
 ],
 "metadata": {
  "kernelspec": {
   "display_name": "Final",
   "language": "python",
   "name": "python3"
  },
  "language_info": {
   "codemirror_mode": {
    "name": "ipython",
    "version": 3
   },
   "file_extension": ".py",
   "mimetype": "text/x-python",
   "name": "python",
   "nbconvert_exporter": "python",
   "pygments_lexer": "ipython3",
   "version": "3.13.5"
  }
 },
 "nbformat": 4,
 "nbformat_minor": 2
}

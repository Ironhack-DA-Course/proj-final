{
 "cells": [
  {
   "cell_type": "code",
   "execution_count": 1,
   "metadata": {},
   "outputs": [
    {
     "name": "stdout",
     "output_type": "stream",
     "text": [
      "Project has been created with Pandas:  2.3.1  And with Numpy:  2.3.2\n"
     ]
    }
   ],
   "source": [
    "# Data handling\n",
    "import numpy as np\n",
    "import pandas as pd\n",
    "import re\n",
    "\n",
    "# Data visualization\n",
    "import matplotlib.pyplot as plt\n",
    "import seaborn as sns\n",
    "import matplotlib.ticker as ticker\n",
    "%matplotlib inline\n",
    "\n",
    "# Stats\n",
    "from statsmodels.graphics.gofplots import qqplot\n",
    "import statsmodels.api as sm\n",
    "import scipy.stats as st\n",
    "from scipy.stats import shapiro, norm, chi2_contingency, kstest, boxcox\n",
    "from scipy.stats.contingency import association\n",
    "\n",
    "# Preprocessing\n",
    "from sklearn.preprocessing import MinMaxScaler, StandardScaler\n",
    "from sklearn.preprocessing import OneHotEncoder,LabelEncoder, Normalizer\n",
    "\n",
    "\n",
    "#lib\n",
    "from lib.clean_data_functions import clean_ext_version, clean_ext_publisher, clean_repo_publisher\n",
    "\n",
    "#\n",
    "from ast import literal_eval\n",
    "from collections import Counter\n",
    "\n",
    "# os\n",
    "import os\n",
    "\n",
    "# time\n",
    "import time\n",
    "\n",
    "import warnings\n",
    "warnings.filterwarnings(\"ignore\")    # (Optional)\n",
    "\n",
    "print(\"Project has been created with Pandas: \" ,pd. __version__,\" And with Numpy: \",np. __version__)"
   ]
  },
  {
   "cell_type": "code",
   "execution_count": 2,
   "metadata": {},
   "outputs": [],
   "source": [
    "import yaml\n",
    "\n",
    "try:\n",
    "    with open(\"../config.yaml\", \"r\") as file:\n",
    "        config = yaml.safe_load(file)\n",
    "except:\n",
    "    print(\"Yaml configuration file not found!\")"
   ]
  },
  {
   "cell_type": "markdown",
   "metadata": {},
   "source": [
    "### Loading"
   ]
  },
  {
   "cell_type": "code",
   "execution_count": 3,
   "metadata": {},
   "outputs": [
    {
     "data": {
      "application/vnd.microsoft.datawrangler.viewer.v0+json": {
       "columns": [
        {
         "name": "index",
         "rawType": "int64",
         "type": "integer"
        },
        {
         "name": "ext_version",
         "rawType": "int64",
         "type": "integer"
        },
        {
         "name": "ext_categories",
         "rawType": "object",
         "type": "string"
        },
        {
         "name": "ext_install_count",
         "rawType": "int64",
         "type": "integer"
        },
        {
         "name": "ext_rating",
         "rawType": "float64",
         "type": "float"
        },
        {
         "name": "verified",
         "rawType": "bool",
         "type": "boolean"
        },
        {
         "name": "repository",
         "rawType": "object",
         "type": "string"
        },
        {
         "name": "total_vulners",
         "rawType": "int64",
         "type": "integer"
        },
        {
         "name": "critical_vulners",
         "rawType": "int64",
         "type": "integer"
        },
        {
         "name": "high_vulners",
         "rawType": "int64",
         "type": "integer"
        },
        {
         "name": "medium_vulners",
         "rawType": "int64",
         "type": "integer"
        },
        {
         "name": "low_vulners",
         "rawType": "int64",
         "type": "integer"
        },
        {
         "name": "repo_owner",
         "rawType": "object",
         "type": "string"
        },
        {
         "name": "repo_name",
         "rawType": "object",
         "type": "string"
        },
        {
         "name": "repo_stars",
         "rawType": "int64",
         "type": "integer"
        },
        {
         "name": "repo_forks",
         "rawType": "int64",
         "type": "integer"
        },
        {
         "name": "repo_languages",
         "rawType": "object",
         "type": "string"
        }
       ],
       "ref": "7cdef1eb-e6fb-4608-8775-8b176e8b3e8c",
       "rows": [
        [
         "0",
         "2025",
         "Programming Languages;Debuggers;Data Science;Machine Learning",
         "177844528",
         "4.19",
         "True",
         "https://github.com/Microsoft/vscode-python",
         "0",
         "0",
         "0",
         "0",
         "0",
         "Microsoft",
         "vscode-python",
         "4461",
         "1247",
         "typescript;python;javascript;jupyter notebook;shell;dockerfile"
        ],
        [
         "1",
         "2025",
         "Programming Languages",
         "146473811",
         "3.01",
         "True",
         "https://github.com/microsoft/pylance-release",
         "0",
         "0",
         "0",
         "0",
         "0",
         "microsoft",
         "pylance-release",
         "1882",
         "856",
         "python;jupyter notebook"
        ],
        [
         "2",
         "2025",
         "Extension Packs;Data Science;Machine Learning;Visualization;Notebooks",
         "93931981",
         "2.7",
         "True",
         "https://github.com/Microsoft/vscode-jupyter",
         "0",
         "0",
         "0",
         "0",
         "0",
         "Microsoft",
         "vscode-jupyter",
         "1401",
         "337",
         "typescript;python;jupyter notebook;javascript;shell;css;other"
        ],
        [
         "3",
         "1",
         "Programming Languages;Snippets;Linters;Debuggers;Formatters",
         "85413454",
         "3.43",
         "True",
         "https://github.com/Microsoft/vscode-cpptools",
         "11",
         "0",
         "0",
         "0",
         "11",
         "Microsoft",
         "vscode-cpptools",
         "5873",
         "1633",
         "typescript;c++;html;javascript"
        ],
        [
         "4",
         "1",
         "Notebooks",
         "74084334",
         "4.0",
         "True",
         "https://github.com/Microsoft/vscode-jupyter-keymap",
         "17",
         "0",
         "0",
         "9",
         "8",
         "Microsoft",
         "vscode-jupyter-keymap",
         "32",
         "14",
         "unknown"
        ]
       ],
       "shape": {
        "columns": 16,
        "rows": 5
       }
      },
      "text/html": [
       "<div>\n",
       "<style scoped>\n",
       "    .dataframe tbody tr th:only-of-type {\n",
       "        vertical-align: middle;\n",
       "    }\n",
       "\n",
       "    .dataframe tbody tr th {\n",
       "        vertical-align: top;\n",
       "    }\n",
       "\n",
       "    .dataframe thead th {\n",
       "        text-align: right;\n",
       "    }\n",
       "</style>\n",
       "<table border=\"1\" class=\"dataframe\">\n",
       "  <thead>\n",
       "    <tr style=\"text-align: right;\">\n",
       "      <th></th>\n",
       "      <th>ext_version</th>\n",
       "      <th>ext_categories</th>\n",
       "      <th>ext_install_count</th>\n",
       "      <th>ext_rating</th>\n",
       "      <th>verified</th>\n",
       "      <th>repository</th>\n",
       "      <th>total_vulners</th>\n",
       "      <th>critical_vulners</th>\n",
       "      <th>high_vulners</th>\n",
       "      <th>medium_vulners</th>\n",
       "      <th>low_vulners</th>\n",
       "      <th>repo_owner</th>\n",
       "      <th>repo_name</th>\n",
       "      <th>repo_stars</th>\n",
       "      <th>repo_forks</th>\n",
       "      <th>repo_languages</th>\n",
       "    </tr>\n",
       "  </thead>\n",
       "  <tbody>\n",
       "    <tr>\n",
       "      <th>0</th>\n",
       "      <td>2025</td>\n",
       "      <td>Programming Languages;Debuggers;Data Science;M...</td>\n",
       "      <td>177844528</td>\n",
       "      <td>4.19</td>\n",
       "      <td>True</td>\n",
       "      <td>https://github.com/Microsoft/vscode-python</td>\n",
       "      <td>0</td>\n",
       "      <td>0</td>\n",
       "      <td>0</td>\n",
       "      <td>0</td>\n",
       "      <td>0</td>\n",
       "      <td>Microsoft</td>\n",
       "      <td>vscode-python</td>\n",
       "      <td>4461</td>\n",
       "      <td>1247</td>\n",
       "      <td>typescript;python;javascript;jupyter notebook;...</td>\n",
       "    </tr>\n",
       "    <tr>\n",
       "      <th>1</th>\n",
       "      <td>2025</td>\n",
       "      <td>Programming Languages</td>\n",
       "      <td>146473811</td>\n",
       "      <td>3.01</td>\n",
       "      <td>True</td>\n",
       "      <td>https://github.com/microsoft/pylance-release</td>\n",
       "      <td>0</td>\n",
       "      <td>0</td>\n",
       "      <td>0</td>\n",
       "      <td>0</td>\n",
       "      <td>0</td>\n",
       "      <td>microsoft</td>\n",
       "      <td>pylance-release</td>\n",
       "      <td>1882</td>\n",
       "      <td>856</td>\n",
       "      <td>python;jupyter notebook</td>\n",
       "    </tr>\n",
       "    <tr>\n",
       "      <th>2</th>\n",
       "      <td>2025</td>\n",
       "      <td>Extension Packs;Data Science;Machine Learning;...</td>\n",
       "      <td>93931981</td>\n",
       "      <td>2.70</td>\n",
       "      <td>True</td>\n",
       "      <td>https://github.com/Microsoft/vscode-jupyter</td>\n",
       "      <td>0</td>\n",
       "      <td>0</td>\n",
       "      <td>0</td>\n",
       "      <td>0</td>\n",
       "      <td>0</td>\n",
       "      <td>Microsoft</td>\n",
       "      <td>vscode-jupyter</td>\n",
       "      <td>1401</td>\n",
       "      <td>337</td>\n",
       "      <td>typescript;python;jupyter notebook;javascript;...</td>\n",
       "    </tr>\n",
       "    <tr>\n",
       "      <th>3</th>\n",
       "      <td>1</td>\n",
       "      <td>Programming Languages;Snippets;Linters;Debugge...</td>\n",
       "      <td>85413454</td>\n",
       "      <td>3.43</td>\n",
       "      <td>True</td>\n",
       "      <td>https://github.com/Microsoft/vscode-cpptools</td>\n",
       "      <td>11</td>\n",
       "      <td>0</td>\n",
       "      <td>0</td>\n",
       "      <td>0</td>\n",
       "      <td>11</td>\n",
       "      <td>Microsoft</td>\n",
       "      <td>vscode-cpptools</td>\n",
       "      <td>5873</td>\n",
       "      <td>1633</td>\n",
       "      <td>typescript;c++;html;javascript</td>\n",
       "    </tr>\n",
       "    <tr>\n",
       "      <th>4</th>\n",
       "      <td>1</td>\n",
       "      <td>Notebooks</td>\n",
       "      <td>74084334</td>\n",
       "      <td>4.00</td>\n",
       "      <td>True</td>\n",
       "      <td>https://github.com/Microsoft/vscode-jupyter-ke...</td>\n",
       "      <td>17</td>\n",
       "      <td>0</td>\n",
       "      <td>0</td>\n",
       "      <td>9</td>\n",
       "      <td>8</td>\n",
       "      <td>Microsoft</td>\n",
       "      <td>vscode-jupyter-keymap</td>\n",
       "      <td>32</td>\n",
       "      <td>14</td>\n",
       "      <td>unknown</td>\n",
       "    </tr>\n",
       "  </tbody>\n",
       "</table>\n",
       "</div>"
      ],
      "text/plain": [
       "   ext_version                                     ext_categories  \\\n",
       "0         2025  Programming Languages;Debuggers;Data Science;M...   \n",
       "1         2025                              Programming Languages   \n",
       "2         2025  Extension Packs;Data Science;Machine Learning;...   \n",
       "3            1  Programming Languages;Snippets;Linters;Debugge...   \n",
       "4            1                                          Notebooks   \n",
       "\n",
       "   ext_install_count  ext_rating  verified  \\\n",
       "0          177844528        4.19      True   \n",
       "1          146473811        3.01      True   \n",
       "2           93931981        2.70      True   \n",
       "3           85413454        3.43      True   \n",
       "4           74084334        4.00      True   \n",
       "\n",
       "                                          repository  total_vulners  \\\n",
       "0         https://github.com/Microsoft/vscode-python              0   \n",
       "1       https://github.com/microsoft/pylance-release              0   \n",
       "2        https://github.com/Microsoft/vscode-jupyter              0   \n",
       "3       https://github.com/Microsoft/vscode-cpptools             11   \n",
       "4  https://github.com/Microsoft/vscode-jupyter-ke...             17   \n",
       "\n",
       "   critical_vulners  high_vulners  medium_vulners  low_vulners repo_owner  \\\n",
       "0                 0             0               0            0  Microsoft   \n",
       "1                 0             0               0            0  microsoft   \n",
       "2                 0             0               0            0  Microsoft   \n",
       "3                 0             0               0           11  Microsoft   \n",
       "4                 0             0               9            8  Microsoft   \n",
       "\n",
       "               repo_name  repo_stars  repo_forks  \\\n",
       "0          vscode-python        4461        1247   \n",
       "1        pylance-release        1882         856   \n",
       "2         vscode-jupyter        1401         337   \n",
       "3        vscode-cpptools        5873        1633   \n",
       "4  vscode-jupyter-keymap          32          14   \n",
       "\n",
       "                                      repo_languages  \n",
       "0  typescript;python;javascript;jupyter notebook;...  \n",
       "1                            python;jupyter notebook  \n",
       "2  typescript;python;jupyter notebook;javascript;...  \n",
       "3                     typescript;c++;html;javascript  \n",
       "4                                            unknown  "
      ]
     },
     "execution_count": 3,
     "metadata": {},
     "output_type": "execute_result"
    }
   ],
   "source": [
    "df = pd.read_csv(config[\"data\"][\"clean\"][\"file_data_cleaned\"])\n",
    "df.head()"
   ]
  },
  {
   "cell_type": "code",
   "execution_count": 4,
   "metadata": {},
   "outputs": [
    {
     "name": "stdout",
     "output_type": "stream",
     "text": [
      "The dataset has 19553 rows and 16 columns\n"
     ]
    }
   ],
   "source": [
    "print(f'The dataset has {df.shape[0]} rows and {df.shape[1]} columns')"
   ]
  },
  {
   "cell_type": "code",
   "execution_count": 5,
   "metadata": {},
   "outputs": [
    {
     "name": "stdout",
     "output_type": "stream",
     "text": [
      "<class 'pandas.core.frame.DataFrame'>\n",
      "RangeIndex: 19553 entries, 0 to 19552\n",
      "Data columns (total 16 columns):\n",
      " #   Column             Non-Null Count  Dtype  \n",
      "---  ------             --------------  -----  \n",
      " 0   ext_version        19553 non-null  int64  \n",
      " 1   ext_categories     19553 non-null  object \n",
      " 2   ext_install_count  19553 non-null  int64  \n",
      " 3   ext_rating         19553 non-null  float64\n",
      " 4   verified           19553 non-null  bool   \n",
      " 5   repository         19553 non-null  object \n",
      " 6   total_vulners      19553 non-null  int64  \n",
      " 7   critical_vulners   19553 non-null  int64  \n",
      " 8   high_vulners       19553 non-null  int64  \n",
      " 9   medium_vulners     19553 non-null  int64  \n",
      " 10  low_vulners        19553 non-null  int64  \n",
      " 11  repo_owner         19553 non-null  object \n",
      " 12  repo_name          19553 non-null  object \n",
      " 13  repo_stars         19553 non-null  int64  \n",
      " 14  repo_forks         19553 non-null  int64  \n",
      " 15  repo_languages     18313 non-null  object \n",
      "dtypes: bool(1), float64(1), int64(9), object(5)\n",
      "memory usage: 2.3+ MB\n"
     ]
    }
   ],
   "source": [
    "df.info()"
   ]
  },
  {
   "cell_type": "markdown",
   "metadata": {},
   "source": [
    "#### Metadata:\n",
    "- **_verified_:**                 check, whether extension's security is breached         (boolean)\n",
    "- **_ext_categories_:**           categories of extension                                 (obj)   (multi values)\n",
    "- **_ext\\_install\\_count_:**      total number of installations of extension              (int64)\n",
    "- **_ext\\_rating_:**              rating of extension (avg of stars rating)               (float64)\n",
    "- **_repository_:**               url of repository                                       (obj)\n",
    "- **_total\\_vulners_:**           number of detected vulnerabilities                      (int64)\n",
    "- **_critical\\_vulners_:**        number of critical(severity) vulnerabilities            (int64)\n",
    "- **_high\\_vulners_:**            number of high(severity) vulnerabilities                (int64)\n",
    "- **_medium\\_vulners_:**          number of medium(severity) vulnerabilities              (int64)\n",
    "- **_low\\_vulners_:**             number of low(severity) vulnerabilities                 (int64)\n",
    "- **_repo\\_owner_:**              owner of repository (via column repository)             (obj)\n",
    "- **_repo\\_name_:**               name of repository (via column repository)              (obj)\n",
    "- **_repo\\_stars_:**              number of stars of repository (via column repository)   (int64)   \n",
    "- **_repo\\_forks_:**              number of forks of repository (via column repository)   (int64)   \n",
    "- **repo\\_languages:**            program languages used (via column repository)          (obj)   (multi values)\n"
   ]
  },
  {
   "cell_type": "markdown",
   "metadata": {},
   "source": []
  },
  {
   "cell_type": "markdown",
   "metadata": {},
   "source": [
    "### 3. Prepraration"
   ]
  },
  {
   "cell_type": "markdown",
   "metadata": {},
   "source": [
    "Handle duplicated"
   ]
  },
  {
   "cell_type": "code",
   "execution_count": 6,
   "metadata": {},
   "outputs": [
    {
     "data": {
      "text/plain": [
       "np.int64(0)"
      ]
     },
     "execution_count": 6,
     "metadata": {},
     "output_type": "execute_result"
    }
   ],
   "source": [
    "df.duplicated().sum()"
   ]
  },
  {
   "cell_type": "markdown",
   "metadata": {},
   "source": [
    "Handle missing values"
   ]
  },
  {
   "cell_type": "code",
   "execution_count": 7,
   "metadata": {},
   "outputs": [],
   "source": [
    "# Filtering out columns in the dataframe where more than 80% of the values are missing\n",
    "df = df[df.columns[df.isnull().mean() < 0.8]]"
   ]
  },
  {
   "cell_type": "code",
   "execution_count": 8,
   "metadata": {},
   "outputs": [],
   "source": [
    "#fillna\n",
    "df[\"repo_languages\"] = df[\"repo_languages\"].fillna(\"unknown\")"
   ]
  },
  {
   "cell_type": "markdown",
   "metadata": {},
   "source": [
    "Handle multi values "
   ]
  },
  {
   "cell_type": "code",
   "execution_count": 9,
   "metadata": {},
   "outputs": [],
   "source": [
    "multi_val_columns = [\"ext_categories\",\"repo_languages\" ]\n",
    "for col in multi_val_columns:\n",
    "    df[col] = df[col].str.split(\";\")\n",
    "    df = df.explode(col)"
   ]
  },
  {
   "cell_type": "code",
   "execution_count": 10,
   "metadata": {},
   "outputs": [],
   "source": [
    "# df[\"ext_categories\"] = df[\"ext_categories\"].str.split(';')\n",
    "# df[\"repo_languages\"] = df[\"repo_languages\"].str.split(';')\n",
    "\n",
    "# df = df.explode(\"ext_categories\")\n",
    "# df = df.explode(\"repo_languages\")\n",
    "\n",
    "# categories_list = []\n",
    "# for items in df[\"ext_categories\"].values:\n",
    "#     for item in items:\n",
    "#         if item not in categories_list:\n",
    "#                     categories_list.append(item)"
   ]
  },
  {
   "cell_type": "markdown",
   "metadata": {},
   "source": [
    "Drop columns: irrelevant for machine learning"
   ]
  },
  {
   "cell_type": "code",
   "execution_count": 11,
   "metadata": {},
   "outputs": [
    {
     "data": {
      "application/vnd.microsoft.datawrangler.viewer.v0+json": {
       "columns": [
        {
         "name": "index",
         "rawType": "int64",
         "type": "integer"
        },
        {
         "name": "ext_version",
         "rawType": "int64",
         "type": "integer"
        },
        {
         "name": "ext_categories",
         "rawType": "object",
         "type": "string"
        },
        {
         "name": "ext_install_count",
         "rawType": "int64",
         "type": "integer"
        },
        {
         "name": "ext_rating",
         "rawType": "float64",
         "type": "float"
        },
        {
         "name": "verified",
         "rawType": "bool",
         "type": "boolean"
        },
        {
         "name": "total_vulners",
         "rawType": "int64",
         "type": "integer"
        },
        {
         "name": "critical_vulners",
         "rawType": "int64",
         "type": "integer"
        },
        {
         "name": "high_vulners",
         "rawType": "int64",
         "type": "integer"
        },
        {
         "name": "medium_vulners",
         "rawType": "int64",
         "type": "integer"
        },
        {
         "name": "low_vulners",
         "rawType": "int64",
         "type": "integer"
        },
        {
         "name": "repo_stars",
         "rawType": "int64",
         "type": "integer"
        },
        {
         "name": "repo_forks",
         "rawType": "int64",
         "type": "integer"
        },
        {
         "name": "repo_languages",
         "rawType": "object",
         "type": "string"
        }
       ],
       "ref": "4b9bb558-0050-470e-9c3f-e2daf201165d",
       "rows": [
        [
         "0",
         "2025",
         "Programming Languages",
         "177844528",
         "4.19",
         "True",
         "0",
         "0",
         "0",
         "0",
         "0",
         "4461",
         "1247",
         "typescript"
        ],
        [
         "0",
         "2025",
         "Programming Languages",
         "177844528",
         "4.19",
         "True",
         "0",
         "0",
         "0",
         "0",
         "0",
         "4461",
         "1247",
         "python"
        ],
        [
         "0",
         "2025",
         "Programming Languages",
         "177844528",
         "4.19",
         "True",
         "0",
         "0",
         "0",
         "0",
         "0",
         "4461",
         "1247",
         "javascript"
        ],
        [
         "0",
         "2025",
         "Programming Languages",
         "177844528",
         "4.19",
         "True",
         "0",
         "0",
         "0",
         "0",
         "0",
         "4461",
         "1247",
         "jupyter notebook"
        ],
        [
         "0",
         "2025",
         "Programming Languages",
         "177844528",
         "4.19",
         "True",
         "0",
         "0",
         "0",
         "0",
         "0",
         "4461",
         "1247",
         "shell"
        ],
        [
         "0",
         "2025",
         "Programming Languages",
         "177844528",
         "4.19",
         "True",
         "0",
         "0",
         "0",
         "0",
         "0",
         "4461",
         "1247",
         "dockerfile"
        ],
        [
         "0",
         "2025",
         "Debuggers",
         "177844528",
         "4.19",
         "True",
         "0",
         "0",
         "0",
         "0",
         "0",
         "4461",
         "1247",
         "typescript"
        ],
        [
         "0",
         "2025",
         "Debuggers",
         "177844528",
         "4.19",
         "True",
         "0",
         "0",
         "0",
         "0",
         "0",
         "4461",
         "1247",
         "python"
        ],
        [
         "0",
         "2025",
         "Debuggers",
         "177844528",
         "4.19",
         "True",
         "0",
         "0",
         "0",
         "0",
         "0",
         "4461",
         "1247",
         "javascript"
        ],
        [
         "0",
         "2025",
         "Debuggers",
         "177844528",
         "4.19",
         "True",
         "0",
         "0",
         "0",
         "0",
         "0",
         "4461",
         "1247",
         "jupyter notebook"
        ],
        [
         "0",
         "2025",
         "Debuggers",
         "177844528",
         "4.19",
         "True",
         "0",
         "0",
         "0",
         "0",
         "0",
         "4461",
         "1247",
         "shell"
        ],
        [
         "0",
         "2025",
         "Debuggers",
         "177844528",
         "4.19",
         "True",
         "0",
         "0",
         "0",
         "0",
         "0",
         "4461",
         "1247",
         "dockerfile"
        ],
        [
         "0",
         "2025",
         "Data Science",
         "177844528",
         "4.19",
         "True",
         "0",
         "0",
         "0",
         "0",
         "0",
         "4461",
         "1247",
         "typescript"
        ],
        [
         "0",
         "2025",
         "Data Science",
         "177844528",
         "4.19",
         "True",
         "0",
         "0",
         "0",
         "0",
         "0",
         "4461",
         "1247",
         "python"
        ],
        [
         "0",
         "2025",
         "Data Science",
         "177844528",
         "4.19",
         "True",
         "0",
         "0",
         "0",
         "0",
         "0",
         "4461",
         "1247",
         "javascript"
        ],
        [
         "0",
         "2025",
         "Data Science",
         "177844528",
         "4.19",
         "True",
         "0",
         "0",
         "0",
         "0",
         "0",
         "4461",
         "1247",
         "jupyter notebook"
        ],
        [
         "0",
         "2025",
         "Data Science",
         "177844528",
         "4.19",
         "True",
         "0",
         "0",
         "0",
         "0",
         "0",
         "4461",
         "1247",
         "shell"
        ],
        [
         "0",
         "2025",
         "Data Science",
         "177844528",
         "4.19",
         "True",
         "0",
         "0",
         "0",
         "0",
         "0",
         "4461",
         "1247",
         "dockerfile"
        ],
        [
         "0",
         "2025",
         "Machine Learning",
         "177844528",
         "4.19",
         "True",
         "0",
         "0",
         "0",
         "0",
         "0",
         "4461",
         "1247",
         "typescript"
        ],
        [
         "0",
         "2025",
         "Machine Learning",
         "177844528",
         "4.19",
         "True",
         "0",
         "0",
         "0",
         "0",
         "0",
         "4461",
         "1247",
         "python"
        ],
        [
         "0",
         "2025",
         "Machine Learning",
         "177844528",
         "4.19",
         "True",
         "0",
         "0",
         "0",
         "0",
         "0",
         "4461",
         "1247",
         "javascript"
        ],
        [
         "0",
         "2025",
         "Machine Learning",
         "177844528",
         "4.19",
         "True",
         "0",
         "0",
         "0",
         "0",
         "0",
         "4461",
         "1247",
         "jupyter notebook"
        ],
        [
         "0",
         "2025",
         "Machine Learning",
         "177844528",
         "4.19",
         "True",
         "0",
         "0",
         "0",
         "0",
         "0",
         "4461",
         "1247",
         "shell"
        ],
        [
         "0",
         "2025",
         "Machine Learning",
         "177844528",
         "4.19",
         "True",
         "0",
         "0",
         "0",
         "0",
         "0",
         "4461",
         "1247",
         "dockerfile"
        ],
        [
         "1",
         "2025",
         "Programming Languages",
         "146473811",
         "3.01",
         "True",
         "0",
         "0",
         "0",
         "0",
         "0",
         "1882",
         "856",
         "python"
        ],
        [
         "1",
         "2025",
         "Programming Languages",
         "146473811",
         "3.01",
         "True",
         "0",
         "0",
         "0",
         "0",
         "0",
         "1882",
         "856",
         "jupyter notebook"
        ],
        [
         "2",
         "2025",
         "Extension Packs",
         "93931981",
         "2.7",
         "True",
         "0",
         "0",
         "0",
         "0",
         "0",
         "1401",
         "337",
         "typescript"
        ],
        [
         "2",
         "2025",
         "Extension Packs",
         "93931981",
         "2.7",
         "True",
         "0",
         "0",
         "0",
         "0",
         "0",
         "1401",
         "337",
         "python"
        ],
        [
         "2",
         "2025",
         "Extension Packs",
         "93931981",
         "2.7",
         "True",
         "0",
         "0",
         "0",
         "0",
         "0",
         "1401",
         "337",
         "jupyter notebook"
        ],
        [
         "2",
         "2025",
         "Extension Packs",
         "93931981",
         "2.7",
         "True",
         "0",
         "0",
         "0",
         "0",
         "0",
         "1401",
         "337",
         "javascript"
        ],
        [
         "2",
         "2025",
         "Extension Packs",
         "93931981",
         "2.7",
         "True",
         "0",
         "0",
         "0",
         "0",
         "0",
         "1401",
         "337",
         "shell"
        ],
        [
         "2",
         "2025",
         "Extension Packs",
         "93931981",
         "2.7",
         "True",
         "0",
         "0",
         "0",
         "0",
         "0",
         "1401",
         "337",
         "css"
        ],
        [
         "2",
         "2025",
         "Extension Packs",
         "93931981",
         "2.7",
         "True",
         "0",
         "0",
         "0",
         "0",
         "0",
         "1401",
         "337",
         "other"
        ],
        [
         "2",
         "2025",
         "Data Science",
         "93931981",
         "2.7",
         "True",
         "0",
         "0",
         "0",
         "0",
         "0",
         "1401",
         "337",
         "typescript"
        ],
        [
         "2",
         "2025",
         "Data Science",
         "93931981",
         "2.7",
         "True",
         "0",
         "0",
         "0",
         "0",
         "0",
         "1401",
         "337",
         "python"
        ],
        [
         "2",
         "2025",
         "Data Science",
         "93931981",
         "2.7",
         "True",
         "0",
         "0",
         "0",
         "0",
         "0",
         "1401",
         "337",
         "jupyter notebook"
        ],
        [
         "2",
         "2025",
         "Data Science",
         "93931981",
         "2.7",
         "True",
         "0",
         "0",
         "0",
         "0",
         "0",
         "1401",
         "337",
         "javascript"
        ],
        [
         "2",
         "2025",
         "Data Science",
         "93931981",
         "2.7",
         "True",
         "0",
         "0",
         "0",
         "0",
         "0",
         "1401",
         "337",
         "shell"
        ],
        [
         "2",
         "2025",
         "Data Science",
         "93931981",
         "2.7",
         "True",
         "0",
         "0",
         "0",
         "0",
         "0",
         "1401",
         "337",
         "css"
        ],
        [
         "2",
         "2025",
         "Data Science",
         "93931981",
         "2.7",
         "True",
         "0",
         "0",
         "0",
         "0",
         "0",
         "1401",
         "337",
         "other"
        ],
        [
         "2",
         "2025",
         "Machine Learning",
         "93931981",
         "2.7",
         "True",
         "0",
         "0",
         "0",
         "0",
         "0",
         "1401",
         "337",
         "typescript"
        ],
        [
         "2",
         "2025",
         "Machine Learning",
         "93931981",
         "2.7",
         "True",
         "0",
         "0",
         "0",
         "0",
         "0",
         "1401",
         "337",
         "python"
        ],
        [
         "2",
         "2025",
         "Machine Learning",
         "93931981",
         "2.7",
         "True",
         "0",
         "0",
         "0",
         "0",
         "0",
         "1401",
         "337",
         "jupyter notebook"
        ],
        [
         "2",
         "2025",
         "Machine Learning",
         "93931981",
         "2.7",
         "True",
         "0",
         "0",
         "0",
         "0",
         "0",
         "1401",
         "337",
         "javascript"
        ],
        [
         "2",
         "2025",
         "Machine Learning",
         "93931981",
         "2.7",
         "True",
         "0",
         "0",
         "0",
         "0",
         "0",
         "1401",
         "337",
         "shell"
        ],
        [
         "2",
         "2025",
         "Machine Learning",
         "93931981",
         "2.7",
         "True",
         "0",
         "0",
         "0",
         "0",
         "0",
         "1401",
         "337",
         "css"
        ],
        [
         "2",
         "2025",
         "Machine Learning",
         "93931981",
         "2.7",
         "True",
         "0",
         "0",
         "0",
         "0",
         "0",
         "1401",
         "337",
         "other"
        ],
        [
         "2",
         "2025",
         "Visualization",
         "93931981",
         "2.7",
         "True",
         "0",
         "0",
         "0",
         "0",
         "0",
         "1401",
         "337",
         "typescript"
        ],
        [
         "2",
         "2025",
         "Visualization",
         "93931981",
         "2.7",
         "True",
         "0",
         "0",
         "0",
         "0",
         "0",
         "1401",
         "337",
         "python"
        ],
        [
         "2",
         "2025",
         "Visualization",
         "93931981",
         "2.7",
         "True",
         "0",
         "0",
         "0",
         "0",
         "0",
         "1401",
         "337",
         "jupyter notebook"
        ]
       ],
       "shape": {
        "columns": 13,
        "rows": 37929
       }
      },
      "text/html": [
       "<div>\n",
       "<style scoped>\n",
       "    .dataframe tbody tr th:only-of-type {\n",
       "        vertical-align: middle;\n",
       "    }\n",
       "\n",
       "    .dataframe tbody tr th {\n",
       "        vertical-align: top;\n",
       "    }\n",
       "\n",
       "    .dataframe thead th {\n",
       "        text-align: right;\n",
       "    }\n",
       "</style>\n",
       "<table border=\"1\" class=\"dataframe\">\n",
       "  <thead>\n",
       "    <tr style=\"text-align: right;\">\n",
       "      <th></th>\n",
       "      <th>ext_version</th>\n",
       "      <th>ext_categories</th>\n",
       "      <th>ext_install_count</th>\n",
       "      <th>ext_rating</th>\n",
       "      <th>verified</th>\n",
       "      <th>total_vulners</th>\n",
       "      <th>critical_vulners</th>\n",
       "      <th>high_vulners</th>\n",
       "      <th>medium_vulners</th>\n",
       "      <th>low_vulners</th>\n",
       "      <th>repo_stars</th>\n",
       "      <th>repo_forks</th>\n",
       "      <th>repo_languages</th>\n",
       "    </tr>\n",
       "  </thead>\n",
       "  <tbody>\n",
       "    <tr>\n",
       "      <th>0</th>\n",
       "      <td>2025</td>\n",
       "      <td>Programming Languages</td>\n",
       "      <td>177844528</td>\n",
       "      <td>4.19</td>\n",
       "      <td>True</td>\n",
       "      <td>0</td>\n",
       "      <td>0</td>\n",
       "      <td>0</td>\n",
       "      <td>0</td>\n",
       "      <td>0</td>\n",
       "      <td>4461</td>\n",
       "      <td>1247</td>\n",
       "      <td>typescript</td>\n",
       "    </tr>\n",
       "    <tr>\n",
       "      <th>0</th>\n",
       "      <td>2025</td>\n",
       "      <td>Programming Languages</td>\n",
       "      <td>177844528</td>\n",
       "      <td>4.19</td>\n",
       "      <td>True</td>\n",
       "      <td>0</td>\n",
       "      <td>0</td>\n",
       "      <td>0</td>\n",
       "      <td>0</td>\n",
       "      <td>0</td>\n",
       "      <td>4461</td>\n",
       "      <td>1247</td>\n",
       "      <td>python</td>\n",
       "    </tr>\n",
       "    <tr>\n",
       "      <th>0</th>\n",
       "      <td>2025</td>\n",
       "      <td>Programming Languages</td>\n",
       "      <td>177844528</td>\n",
       "      <td>4.19</td>\n",
       "      <td>True</td>\n",
       "      <td>0</td>\n",
       "      <td>0</td>\n",
       "      <td>0</td>\n",
       "      <td>0</td>\n",
       "      <td>0</td>\n",
       "      <td>4461</td>\n",
       "      <td>1247</td>\n",
       "      <td>javascript</td>\n",
       "    </tr>\n",
       "    <tr>\n",
       "      <th>0</th>\n",
       "      <td>2025</td>\n",
       "      <td>Programming Languages</td>\n",
       "      <td>177844528</td>\n",
       "      <td>4.19</td>\n",
       "      <td>True</td>\n",
       "      <td>0</td>\n",
       "      <td>0</td>\n",
       "      <td>0</td>\n",
       "      <td>0</td>\n",
       "      <td>0</td>\n",
       "      <td>4461</td>\n",
       "      <td>1247</td>\n",
       "      <td>jupyter notebook</td>\n",
       "    </tr>\n",
       "    <tr>\n",
       "      <th>0</th>\n",
       "      <td>2025</td>\n",
       "      <td>Programming Languages</td>\n",
       "      <td>177844528</td>\n",
       "      <td>4.19</td>\n",
       "      <td>True</td>\n",
       "      <td>0</td>\n",
       "      <td>0</td>\n",
       "      <td>0</td>\n",
       "      <td>0</td>\n",
       "      <td>0</td>\n",
       "      <td>4461</td>\n",
       "      <td>1247</td>\n",
       "      <td>shell</td>\n",
       "    </tr>\n",
       "    <tr>\n",
       "      <th>...</th>\n",
       "      <td>...</td>\n",
       "      <td>...</td>\n",
       "      <td>...</td>\n",
       "      <td>...</td>\n",
       "      <td>...</td>\n",
       "      <td>...</td>\n",
       "      <td>...</td>\n",
       "      <td>...</td>\n",
       "      <td>...</td>\n",
       "      <td>...</td>\n",
       "      <td>...</td>\n",
       "      <td>...</td>\n",
       "      <td>...</td>\n",
       "    </tr>\n",
       "    <tr>\n",
       "      <th>19550</th>\n",
       "      <td>0</td>\n",
       "      <td>Other</td>\n",
       "      <td>3</td>\n",
       "      <td>0.00</td>\n",
       "      <td>False</td>\n",
       "      <td>0</td>\n",
       "      <td>0</td>\n",
       "      <td>0</td>\n",
       "      <td>0</td>\n",
       "      <td>0</td>\n",
       "      <td>42</td>\n",
       "      <td>6</td>\n",
       "      <td>javascript</td>\n",
       "    </tr>\n",
       "    <tr>\n",
       "      <th>19550</th>\n",
       "      <td>0</td>\n",
       "      <td>Other</td>\n",
       "      <td>3</td>\n",
       "      <td>0.00</td>\n",
       "      <td>False</td>\n",
       "      <td>0</td>\n",
       "      <td>0</td>\n",
       "      <td>0</td>\n",
       "      <td>0</td>\n",
       "      <td>0</td>\n",
       "      <td>42</td>\n",
       "      <td>6</td>\n",
       "      <td>shell</td>\n",
       "    </tr>\n",
       "    <tr>\n",
       "      <th>19551</th>\n",
       "      <td>1</td>\n",
       "      <td>Other</td>\n",
       "      <td>2</td>\n",
       "      <td>0.00</td>\n",
       "      <td>False</td>\n",
       "      <td>0</td>\n",
       "      <td>0</td>\n",
       "      <td>0</td>\n",
       "      <td>0</td>\n",
       "      <td>0</td>\n",
       "      <td>1</td>\n",
       "      <td>1</td>\n",
       "      <td>typescript</td>\n",
       "    </tr>\n",
       "    <tr>\n",
       "      <th>19552</th>\n",
       "      <td>1</td>\n",
       "      <td>Other</td>\n",
       "      <td>1</td>\n",
       "      <td>0.00</td>\n",
       "      <td>True</td>\n",
       "      <td>1</td>\n",
       "      <td>0</td>\n",
       "      <td>1</td>\n",
       "      <td>0</td>\n",
       "      <td>0</td>\n",
       "      <td>3</td>\n",
       "      <td>0</td>\n",
       "      <td>typescript</td>\n",
       "    </tr>\n",
       "    <tr>\n",
       "      <th>19552</th>\n",
       "      <td>1</td>\n",
       "      <td>Other</td>\n",
       "      <td>1</td>\n",
       "      <td>0.00</td>\n",
       "      <td>True</td>\n",
       "      <td>1</td>\n",
       "      <td>0</td>\n",
       "      <td>1</td>\n",
       "      <td>0</td>\n",
       "      <td>0</td>\n",
       "      <td>3</td>\n",
       "      <td>0</td>\n",
       "      <td>javascript</td>\n",
       "    </tr>\n",
       "  </tbody>\n",
       "</table>\n",
       "<p>37929 rows × 13 columns</p>\n",
       "</div>"
      ],
      "text/plain": [
       "       ext_version         ext_categories  ext_install_count  ext_rating  \\\n",
       "0             2025  Programming Languages          177844528        4.19   \n",
       "0             2025  Programming Languages          177844528        4.19   \n",
       "0             2025  Programming Languages          177844528        4.19   \n",
       "0             2025  Programming Languages          177844528        4.19   \n",
       "0             2025  Programming Languages          177844528        4.19   \n",
       "...            ...                    ...                ...         ...   \n",
       "19550            0                  Other                  3        0.00   \n",
       "19550            0                  Other                  3        0.00   \n",
       "19551            1                  Other                  2        0.00   \n",
       "19552            1                  Other                  1        0.00   \n",
       "19552            1                  Other                  1        0.00   \n",
       "\n",
       "       verified  total_vulners  critical_vulners  high_vulners  \\\n",
       "0          True              0                 0             0   \n",
       "0          True              0                 0             0   \n",
       "0          True              0                 0             0   \n",
       "0          True              0                 0             0   \n",
       "0          True              0                 0             0   \n",
       "...         ...            ...               ...           ...   \n",
       "19550     False              0                 0             0   \n",
       "19550     False              0                 0             0   \n",
       "19551     False              0                 0             0   \n",
       "19552      True              1                 0             1   \n",
       "19552      True              1                 0             1   \n",
       "\n",
       "       medium_vulners  low_vulners  repo_stars  repo_forks    repo_languages  \n",
       "0                   0            0        4461        1247        typescript  \n",
       "0                   0            0        4461        1247            python  \n",
       "0                   0            0        4461        1247        javascript  \n",
       "0                   0            0        4461        1247  jupyter notebook  \n",
       "0                   0            0        4461        1247             shell  \n",
       "...               ...          ...         ...         ...               ...  \n",
       "19550               0            0          42           6        javascript  \n",
       "19550               0            0          42           6             shell  \n",
       "19551               0            0           1           1        typescript  \n",
       "19552               0            0           3           0        typescript  \n",
       "19552               0            0           3           0        javascript  \n",
       "\n",
       "[37929 rows x 13 columns]"
      ]
     },
     "execution_count": 11,
     "metadata": {},
     "output_type": "execute_result"
    }
   ],
   "source": [
    "df = df.drop(columns=[\"repository\", \"repo_name\", \"repo_owner\"])\n",
    "df"
   ]
  },
  {
   "cell_type": "code",
   "execution_count": 12,
   "metadata": {},
   "outputs": [],
   "source": [
    "cols_num = df.select_dtypes(include = [\"float\",\"int\"]).columns.to_list()\n",
    "cols_cat = df.select_dtypes(include = [\"object\", \"category\"]).columns.to_list()"
   ]
  },
  {
   "cell_type": "code",
   "execution_count": 13,
   "metadata": {},
   "outputs": [
    {
     "data": {
      "application/vnd.microsoft.datawrangler.viewer.v0+json": {
       "columns": [
        {
         "name": "index",
         "rawType": "int64",
         "type": "integer"
        },
        {
         "name": "critical_vulners",
         "rawType": "int64",
         "type": "integer"
        }
       ],
       "ref": "443314ae-cbd8-45e5-bd73-d02c5c27fc7b",
       "rows": [
        [
         "0",
         "0"
        ],
        [
         "0",
         "0"
        ],
        [
         "0",
         "0"
        ],
        [
         "0",
         "0"
        ],
        [
         "0",
         "0"
        ],
        [
         "0",
         "0"
        ],
        [
         "0",
         "0"
        ],
        [
         "0",
         "0"
        ],
        [
         "0",
         "0"
        ],
        [
         "0",
         "0"
        ],
        [
         "0",
         "0"
        ],
        [
         "0",
         "0"
        ],
        [
         "0",
         "0"
        ],
        [
         "0",
         "0"
        ],
        [
         "0",
         "0"
        ],
        [
         "0",
         "0"
        ],
        [
         "0",
         "0"
        ],
        [
         "0",
         "0"
        ],
        [
         "0",
         "0"
        ],
        [
         "0",
         "0"
        ],
        [
         "0",
         "0"
        ],
        [
         "0",
         "0"
        ],
        [
         "0",
         "0"
        ],
        [
         "0",
         "0"
        ],
        [
         "1",
         "0"
        ],
        [
         "1",
         "0"
        ],
        [
         "2",
         "0"
        ],
        [
         "2",
         "0"
        ],
        [
         "2",
         "0"
        ],
        [
         "2",
         "0"
        ],
        [
         "2",
         "0"
        ],
        [
         "2",
         "0"
        ],
        [
         "2",
         "0"
        ],
        [
         "2",
         "0"
        ],
        [
         "2",
         "0"
        ],
        [
         "2",
         "0"
        ],
        [
         "2",
         "0"
        ],
        [
         "2",
         "0"
        ],
        [
         "2",
         "0"
        ],
        [
         "2",
         "0"
        ],
        [
         "2",
         "0"
        ],
        [
         "2",
         "0"
        ],
        [
         "2",
         "0"
        ],
        [
         "2",
         "0"
        ],
        [
         "2",
         "0"
        ],
        [
         "2",
         "0"
        ],
        [
         "2",
         "0"
        ],
        [
         "2",
         "0"
        ],
        [
         "2",
         "0"
        ],
        [
         "2",
         "0"
        ]
       ],
       "shape": {
        "columns": 1,
        "rows": 37929
       }
      },
      "text/html": [
       "<div>\n",
       "<style scoped>\n",
       "    .dataframe tbody tr th:only-of-type {\n",
       "        vertical-align: middle;\n",
       "    }\n",
       "\n",
       "    .dataframe tbody tr th {\n",
       "        vertical-align: top;\n",
       "    }\n",
       "\n",
       "    .dataframe thead th {\n",
       "        text-align: right;\n",
       "    }\n",
       "</style>\n",
       "<table border=\"1\" class=\"dataframe\">\n",
       "  <thead>\n",
       "    <tr style=\"text-align: right;\">\n",
       "      <th></th>\n",
       "      <th>critical_vulners</th>\n",
       "    </tr>\n",
       "  </thead>\n",
       "  <tbody>\n",
       "    <tr>\n",
       "      <th>0</th>\n",
       "      <td>0</td>\n",
       "    </tr>\n",
       "    <tr>\n",
       "      <th>0</th>\n",
       "      <td>0</td>\n",
       "    </tr>\n",
       "    <tr>\n",
       "      <th>0</th>\n",
       "      <td>0</td>\n",
       "    </tr>\n",
       "    <tr>\n",
       "      <th>0</th>\n",
       "      <td>0</td>\n",
       "    </tr>\n",
       "    <tr>\n",
       "      <th>0</th>\n",
       "      <td>0</td>\n",
       "    </tr>\n",
       "    <tr>\n",
       "      <th>...</th>\n",
       "      <td>...</td>\n",
       "    </tr>\n",
       "    <tr>\n",
       "      <th>19550</th>\n",
       "      <td>0</td>\n",
       "    </tr>\n",
       "    <tr>\n",
       "      <th>19550</th>\n",
       "      <td>0</td>\n",
       "    </tr>\n",
       "    <tr>\n",
       "      <th>19551</th>\n",
       "      <td>0</td>\n",
       "    </tr>\n",
       "    <tr>\n",
       "      <th>19552</th>\n",
       "      <td>0</td>\n",
       "    </tr>\n",
       "    <tr>\n",
       "      <th>19552</th>\n",
       "      <td>0</td>\n",
       "    </tr>\n",
       "  </tbody>\n",
       "</table>\n",
       "<p>37929 rows × 1 columns</p>\n",
       "</div>"
      ],
      "text/plain": [
       "       critical_vulners\n",
       "0                     0\n",
       "0                     0\n",
       "0                     0\n",
       "0                     0\n",
       "0                     0\n",
       "...                 ...\n",
       "19550                 0\n",
       "19550                 0\n",
       "19551                 0\n",
       "19552                 0\n",
       "19552                 0\n",
       "\n",
       "[37929 rows x 1 columns]"
      ]
     },
     "execution_count": 13,
     "metadata": {},
     "output_type": "execute_result"
    }
   ],
   "source": [
    "potential_cate_from_num = df.select_dtypes(\"number\").loc[:, df.select_dtypes(include = [\"float\",\"int\"]).nunique() <= 20]\n",
    "potential_cate_from_num"
   ]
  },
  {
   "cell_type": "markdown",
   "metadata": {},
   "source": [
    "-> We don't transform the column \"critical_vulners\" into category due to the meaning"
   ]
  },
  {
   "cell_type": "code",
   "execution_count": 14,
   "metadata": {},
   "outputs": [],
   "source": [
    "# df[cols_num].nunique().sort_values(ascending=False)\n",
    "# df[cols_cat].nunique().sort_values(ascending=False)"
   ]
  },
  {
   "cell_type": "markdown",
   "metadata": {},
   "source": [
    "**_Insight_:**"
   ]
  },
  {
   "cell_type": "markdown",
   "metadata": {},
   "source": [
    "### 4. EDA"
   ]
  },
  {
   "cell_type": "markdown",
   "metadata": {},
   "source": [
    "## **Univariate Analysis**"
   ]
  },
  {
   "cell_type": "markdown",
   "metadata": {},
   "source": [
    "### Categorical Variables"
   ]
  },
  {
   "cell_type": "markdown",
   "metadata": {},
   "source": [
    "**Quantitative:**"
   ]
  },
  {
   "cell_type": "code",
   "execution_count": 15,
   "metadata": {},
   "outputs": [
    {
     "data": {
      "application/vnd.microsoft.datawrangler.viewer.v0+json": {
       "columns": [
        {
         "name": "verified",
         "rawType": "bool",
         "type": "boolean"
        },
        {
         "name": "proportion",
         "rawType": "float64",
         "type": "float"
        }
       ],
       "ref": "951aef3f-c2b2-407f-af80-ade07a452672",
       "rows": [
        [
         "False",
         "0.8990218566268554"
        ],
        [
         "True",
         "0.10097814337314456"
        ]
       ],
       "shape": {
        "columns": 1,
        "rows": 2
       }
      },
      "text/plain": [
       "verified\n",
       "False    0.899022\n",
       "True     0.100978\n",
       "Name: proportion, dtype: float64"
      ]
     },
     "execution_count": 15,
     "metadata": {},
     "output_type": "execute_result"
    }
   ],
   "source": [
    "# Our target for predition\n",
    "proportion_verified = df[\"verified\"].value_counts(normalize=True)\n",
    "proportion_verified"
   ]
  },
  {
   "cell_type": "code",
   "execution_count": 16,
   "metadata": {},
   "outputs": [
    {
     "data": {
      "application/vnd.microsoft.datawrangler.viewer.v0+json": {
       "columns": [
        {
         "name": "repo_languages",
         "rawType": "object",
         "type": "string"
        },
        {
         "name": "proportion",
         "rawType": "float64",
         "type": "float"
        }
       ],
       "ref": "11e7c289-c70a-4737-b9ca-4b7571f3c5f1",
       "rows": [
        [
         "typescript",
         "0.3158796699095679"
        ],
        [
         "javascript",
         "0.21991088612934695"
        ],
        [
         "unknown",
         "0.17161011363336762"
        ],
        [
         "css",
         "0.04555880724511587"
        ],
        [
         "html",
         "0.03778111735083973"
        ],
        [
         "other",
         "0.02955522159824936"
        ],
        [
         "shell",
         "0.029027920588467926"
        ],
        [
         "python",
         "0.022120277360331144"
        ],
        [
         "makefile",
         "0.006802183026180495"
        ],
        [
         "c++",
         "0.006591262622267922"
        ],
        [
         "scss",
         "0.006274882016399062"
        ],
        [
         "rust",
         "0.005984866461019273"
        ],
        [
         "java",
         "0.005853041208573914"
        ],
        [
         "powershell",
         "0.005694850905639484"
        ],
        [
         "c#",
         "0.005615755754172269"
        ],
        [
         "dockerfile",
         "0.004772074138521975"
        ],
        [
         "lua",
         "0.004745709088032904"
        ],
        [
         "c",
         "0.004745709088032904"
        ],
        [
         "vue",
         "0.00469297898705476"
        ],
        [
         "batchfile",
         "0.0034274565635793192"
        ],
        [
         "go",
         "0.0031638060586886025"
        ],
        [
         "php",
         "0.0030056157557541725"
        ],
        [
         "svelte",
         "0.002689235149885312"
        ],
        [
         "ruby",
         "0.002135569089614807"
        ],
        [
         "less",
         "0.002082838988636663"
        ],
        [
         "antlr",
         "0.0018982836352131613"
        ],
        [
         "jupyter notebook",
         "0.0018191884837459463"
        ],
        [
         "assembly",
         "0.001687363231300588"
        ],
        [
         "cmake",
         "0.0016609981808115163"
        ],
        [
         "dart",
         "0.0016346331303224446"
        ],
        [
         "ejs",
         "0.001344617574942656"
        ],
        [
         "nix",
         "0.0013182525244535843"
        ],
        [
         "json",
         "0.001265522423475441"
        ],
        [
         "mdx",
         "0.001265522423475441"
        ],
        [
         "applescript",
         "0.001107332120541011"
        ],
        [
         "vim script",
         "0.0010282369690737957"
        ],
        [
         "kotlin",
         "0.0009491418176065807"
        ],
        [
         "f#",
         "0.000843681615650294"
        ],
        [
         "clojure",
         "0.0008173165651612223"
        ],
        [
         "markdown",
         "0.0007382214136940072"
        ],
        [
         "gherkin",
         "0.0006854913127158638"
        ],
        [
         "peg.js",
         "0.0006854913127158638"
        ],
        [
         "hcl",
         "0.0006854913127158638"
        ],
        [
         "handlebars",
         "0.0006327612117377205"
        ],
        [
         "xslt",
         "0.0005800311107595771"
        ],
        [
         "tex",
         "0.0005800311107595771"
        ],
        [
         "mustache",
         "0.0005273010097814337"
        ],
        [
         "smarty",
         "0.0005273010097814337"
        ],
        [
         "common lisp",
         "0.000500935959292362"
        ],
        [
         "perl",
         "0.000500935959292362"
        ]
       ],
       "shape": {
        "columns": 1,
        "rows": 266
       }
      },
      "text/plain": [
       "repo_languages\n",
       "typescript       0.315880\n",
       "javascript       0.219911\n",
       "unknown          0.171610\n",
       "css              0.045559\n",
       "html             0.037781\n",
       "                   ...   \n",
       "kaitai struct    0.000026\n",
       "crystal          0.000026\n",
       "cap'n proto      0.000026\n",
       "q#               0.000026\n",
       "qt script        0.000026\n",
       "Name: proportion, Length: 266, dtype: float64"
      ]
     },
     "execution_count": 16,
     "metadata": {},
     "output_type": "execute_result"
    }
   ],
   "source": [
    "proportion_languages = df[\"repo_languages\"].value_counts(normalize=True)\n",
    "proportion_languages"
   ]
  },
  {
   "cell_type": "code",
   "execution_count": 17,
   "metadata": {},
   "outputs": [
    {
     "data": {
      "application/vnd.microsoft.datawrangler.viewer.v0+json": {
       "columns": [
        {
         "name": "ext_categories",
         "rawType": "object",
         "type": "string"
        },
        {
         "name": "proportion",
         "rawType": "float64",
         "type": "float"
        }
       ],
       "ref": "febb5a2e-169f-4039-bcf0-76e0ed5547ca",
       "rows": [
        [
         "Other",
         "0.35901289250968915"
        ],
        [
         "Programming Languages",
         "0.18210340372801814"
        ],
        [
         "Themes",
         "0.13636004112947878"
        ],
        [
         "Snippets",
         "0.10891402357035514"
        ],
        [
         "Formatters",
         "0.04682432966859131"
        ],
        [
         "Linters",
         "0.03738564159350365"
        ],
        [
         "Debuggers",
         "0.03145350523346252"
        ],
        [
         "Extension Packs",
         "0.022120277360331144"
        ],
        [
         "Visualization",
         "0.01951013736191305"
        ],
        [
         "Testing",
         "0.010335099791716101"
        ],
        [
         "Data Science",
         "0.007487674338896359"
        ],
        [
         "Education",
         "0.00640670726884442"
        ],
        [
         "Machine Learning",
         "0.006143056763953703"
        ],
        [
         "Keymaps",
         "0.006011231511508345"
        ],
        [
         "Notebooks",
         "0.005062089693901764"
        ],
        [
         "Azure",
         "0.004745709088032904"
        ],
        [
         "Language Packs",
         "0.004640248886076617"
        ],
        [
         "SCM Providers",
         "0.004060217775317039"
        ],
        [
         "AI",
         "0.0008173165651612223"
        ],
        [
         "Chat",
         "0.0006063961612486488"
        ]
       ],
       "shape": {
        "columns": 1,
        "rows": 20
       }
      },
      "text/plain": [
       "ext_categories\n",
       "Other                    0.359013\n",
       "Programming Languages    0.182103\n",
       "Themes                   0.136360\n",
       "Snippets                 0.108914\n",
       "Formatters               0.046824\n",
       "Linters                  0.037386\n",
       "Debuggers                0.031454\n",
       "Extension Packs          0.022120\n",
       "Visualization            0.019510\n",
       "Testing                  0.010335\n",
       "Data Science             0.007488\n",
       "Education                0.006407\n",
       "Machine Learning         0.006143\n",
       "Keymaps                  0.006011\n",
       "Notebooks                0.005062\n",
       "Azure                    0.004746\n",
       "Language Packs           0.004640\n",
       "SCM Providers            0.004060\n",
       "AI                       0.000817\n",
       "Chat                     0.000606\n",
       "Name: proportion, dtype: float64"
      ]
     },
     "execution_count": 17,
     "metadata": {},
     "output_type": "execute_result"
    }
   ],
   "source": [
    "proportion_categories = df[\"ext_categories\"].value_counts(normalize=True)\n",
    "proportion_categories"
   ]
  },
  {
   "cell_type": "markdown",
   "metadata": {},
   "source": [
    "_Insight_:"
   ]
  },
  {
   "cell_type": "markdown",
   "metadata": {},
   "source": [
    "**Visual/Qualitative:**"
   ]
  },
  {
   "cell_type": "markdown",
   "metadata": {},
   "source": [
    "Barchart"
   ]
  },
  {
   "cell_type": "code",
   "execution_count": 18,
   "metadata": {},
   "outputs": [],
   "source": [
    "#Alternative before using explode()\n",
    "\n",
    "# repo_languages = \"\"\n",
    "# for lang in df[\"repo_languages\"]:\n",
    "#     if not pd.isna(lang):\n",
    "#         repo_languages += lang + \";\"\n",
    "    \n",
    "# repo_languages_list = repo_languages.split(';')\n",
    "# repo_languages_set  = set(repo_languages_list)\n",
    "# repo_languages_counter=Counter(repo_languages_list)\n",
    "# repo_languages_counter_common = dict(repo_languages_counter.most_common(12))\n",
    "# repo_languages_counter\n",
    "\n",
    "# ext_categories = \"\"\n",
    "# for cate in df[\"ext_categories\"]:\n",
    "#     ext_categories += cate + \";\"\n",
    "\n",
    "# ext_categories_list = ext_categories.split(';')\n",
    "# ext_categories_set  = set(ext_categories_list)\n",
    "# ext_categories_counter=Counter(ext_categories_list) #Dict\n",
    "# ext_categories_counter_common = dict(ext_categories_counter.most_common(12))\n",
    "\n"
   ]
  },
  {
   "cell_type": "code",
   "execution_count": 19,
   "metadata": {},
   "outputs": [
    {
     "data": {
      "image/png": "[encoded data removed]",
      "text/plain": [
       "<Figure size 640x480 with 1 Axes>"
      ]
     },
     "metadata": {},
     "output_type": "display_data"
    }
   ],
   "source": [
    "#verified -> target\n",
    "ax=sns.barplot(x=proportion_verified.index, y=proportion_verified.values, palette=\"Set3\", hue=proportion_verified.index, legend=\"auto\" )"
   ]
  },
  {
   "cell_type": "markdown",
   "metadata": {},
   "source": [
    "**We have an imbalanced dataset on target** -> majority of extensions are not breached"
   ]
  },
  {
   "cell_type": "code",
   "execution_count": 20,
   "metadata": {},
   "outputs": [
    {
     "data": {
      "image/png": "[encoded data removed]",
      "text/plain": [
       "<Figure size 800x1000 with 2 Axes>"
      ]
     },
     "metadata": {},
     "output_type": "display_data"
    }
   ],
   "source": [
    "fig, axes = plt.subplots(nrows = len(cols_cat), ncols = 1, figsize = (8, 10))\n",
    "axes = axes.flat\n",
    "\n",
    "for i,col in enumerate(df[cols_cat]):\n",
    "    proportion_common = df[col].value_counts(normalize=True).head(15)\n",
    "    sns.barplot(y=proportion_common.index,\n",
    "                x=proportion_common.values,\n",
    "                palette=\"Set3\",\n",
    "                hue=proportion_common.index,\n",
    "                legend=\"auto\",\n",
    "                ax=axes[i] )\n",
    "    \n",
    "    axes[i].set_title(f\"{col}\", fontsize = 9, color = \"blue\")\n",
    "    axes[i].set_xlabel(\"\")\n",
    "\n",
    "fig.suptitle(\"Barplots\", fontsize = 12, fontweight = \"bold\", color = \"darkblue\")\n",
    "fig.tight_layout()\n",
    "fig.show()\n"
   ]
  },
  {
   "cell_type": "markdown",
   "metadata": {},
   "source": [
    "_Insight_:"
   ]
  },
  {
   "cell_type": "markdown",
   "metadata": {},
   "source": [
    "### Numerical variables"
   ]
  },
  {
   "cell_type": "markdown",
   "metadata": {},
   "source": [
    "**Quantitative:**"
   ]
  },
  {
   "cell_type": "markdown",
   "metadata": {},
   "source": [
    "- Measurment of central tendency/dispersion"
   ]
  },
  {
   "cell_type": "code",
   "execution_count": 21,
   "metadata": {},
   "outputs": [
    {
     "data": {
      "application/vnd.microsoft.datawrangler.viewer.v0+json": {
       "columns": [
        {
         "name": "index",
         "rawType": "object",
         "type": "string"
        },
        {
         "name": "ext_version",
         "rawType": "float64",
         "type": "float"
        },
        {
         "name": "ext_install_count",
         "rawType": "float64",
         "type": "float"
        },
        {
         "name": "ext_rating",
         "rawType": "float64",
         "type": "float"
        },
        {
         "name": "total_vulners",
         "rawType": "float64",
         "type": "float"
        },
        {
         "name": "critical_vulners",
         "rawType": "float64",
         "type": "float"
        },
        {
         "name": "high_vulners",
         "rawType": "float64",
         "type": "float"
        },
        {
         "name": "medium_vulners",
         "rawType": "float64",
         "type": "float"
        },
        {
         "name": "low_vulners",
         "rawType": "float64",
         "type": "float"
        },
        {
         "name": "repo_stars",
         "rawType": "float64",
         "type": "float"
        },
        {
         "name": "repo_forks",
         "rawType": "float64",
         "type": "float"
        }
       ],
       "ref": "59c2fdec-97a3-4c32-a184-caf1e11624ee",
       "rows": [
        [
         "count",
         "37929.0",
         "37929.0",
         "37929.0",
         "37929.0",
         "37929.0",
         "37929.0",
         "37929.0",
         "37929.0",
         "37929.0",
         "37929.0"
        ],
        [
         "mean",
         "550.850351973424",
         "496820.24066018086",
         "2.750174272983733",
         "1.6970655698805663",
         "0.0",
         "0.15534287748161038",
         "0.7904242136623691",
         "0.7512984787365867",
         "415.41780695510033",
         "66.70273405573572"
        ],
        [
         "std",
         "103673.85469609719",
         "6300950.785874509",
         "2.3634531010257307",
         "12.642717522514296",
         "0.0",
         "1.8689020206696967",
         "7.3119486436640635",
         "6.3403457431216035",
         "6019.072546696932",
         "1239.617969912529"
        ],
        [
         "min",
         "0.0",
         "1.0",
         "0.0",
         "0.0",
         "0.0",
         "0.0",
         "0.0",
         "0.0",
         "0.0",
         "0.0"
        ],
        [
         "25%",
         "0.0",
         "515.0",
         "0.0",
         "0.0",
         "0.0",
         "0.0",
         "0.0",
         "0.0",
         "1.0",
         "0.0"
        ],
        [
         "50%",
         "0.0",
         "2174.0",
         "4.17",
         "0.0",
         "0.0",
         "0.0",
         "0.0",
         "0.0",
         "3.0",
         "1.0"
        ],
        [
         "75%",
         "1.0",
         "11878.0",
         "5.0",
         "0.0",
         "0.0",
         "0.0",
         "0.0",
         "0.0",
         "18.0",
         "4.0"
        ],
        [
         "max",
         "20190831.0",
         "177844528.0",
         "5.0",
         "402.0",
         "0.0",
         "92.0",
         "230.0",
         "323.0",
         "199089.0",
         "57209.0"
        ]
       ],
       "shape": {
        "columns": 10,
        "rows": 8
       }
      },
      "text/html": [
       "<div>\n",
       "<style scoped>\n",
       "    .dataframe tbody tr th:only-of-type {\n",
       "        vertical-align: middle;\n",
       "    }\n",
       "\n",
       "    .dataframe tbody tr th {\n",
       "        vertical-align: top;\n",
       "    }\n",
       "\n",
       "    .dataframe thead th {\n",
       "        text-align: right;\n",
       "    }\n",
       "</style>\n",
       "<table border=\"1\" class=\"dataframe\">\n",
       "  <thead>\n",
       "    <tr style=\"text-align: right;\">\n",
       "      <th></th>\n",
       "      <th>ext_version</th>\n",
       "      <th>ext_install_count</th>\n",
       "      <th>ext_rating</th>\n",
       "      <th>total_vulners</th>\n",
       "      <th>critical_vulners</th>\n",
       "      <th>high_vulners</th>\n",
       "      <th>medium_vulners</th>\n",
       "      <th>low_vulners</th>\n",
       "      <th>repo_stars</th>\n",
       "      <th>repo_forks</th>\n",
       "    </tr>\n",
       "  </thead>\n",
       "  <tbody>\n",
       "    <tr>\n",
       "      <th>count</th>\n",
       "      <td>3.792900e+04</td>\n",
       "      <td>3.792900e+04</td>\n",
       "      <td>37929.000000</td>\n",
       "      <td>37929.000000</td>\n",
       "      <td>37929.0</td>\n",
       "      <td>37929.000000</td>\n",
       "      <td>37929.000000</td>\n",
       "      <td>37929.000000</td>\n",
       "      <td>37929.000000</td>\n",
       "      <td>37929.000000</td>\n",
       "    </tr>\n",
       "    <tr>\n",
       "      <th>mean</th>\n",
       "      <td>5.508504e+02</td>\n",
       "      <td>4.968202e+05</td>\n",
       "      <td>2.750174</td>\n",
       "      <td>1.697066</td>\n",
       "      <td>0.0</td>\n",
       "      <td>0.155343</td>\n",
       "      <td>0.790424</td>\n",
       "      <td>0.751298</td>\n",
       "      <td>415.417807</td>\n",
       "      <td>66.702734</td>\n",
       "    </tr>\n",
       "    <tr>\n",
       "      <th>std</th>\n",
       "      <td>1.036739e+05</td>\n",
       "      <td>6.300951e+06</td>\n",
       "      <td>2.363453</td>\n",
       "      <td>12.642718</td>\n",
       "      <td>0.0</td>\n",
       "      <td>1.868902</td>\n",
       "      <td>7.311949</td>\n",
       "      <td>6.340346</td>\n",
       "      <td>6019.072547</td>\n",
       "      <td>1239.617970</td>\n",
       "    </tr>\n",
       "    <tr>\n",
       "      <th>min</th>\n",
       "      <td>0.000000e+00</td>\n",
       "      <td>1.000000e+00</td>\n",
       "      <td>0.000000</td>\n",
       "      <td>0.000000</td>\n",
       "      <td>0.0</td>\n",
       "      <td>0.000000</td>\n",
       "      <td>0.000000</td>\n",
       "      <td>0.000000</td>\n",
       "      <td>0.000000</td>\n",
       "      <td>0.000000</td>\n",
       "    </tr>\n",
       "    <tr>\n",
       "      <th>25%</th>\n",
       "      <td>0.000000e+00</td>\n",
       "      <td>5.150000e+02</td>\n",
       "      <td>0.000000</td>\n",
       "      <td>0.000000</td>\n",
       "      <td>0.0</td>\n",
       "      <td>0.000000</td>\n",
       "      <td>0.000000</td>\n",
       "      <td>0.000000</td>\n",
       "      <td>1.000000</td>\n",
       "      <td>0.000000</td>\n",
       "    </tr>\n",
       "    <tr>\n",
       "      <th>50%</th>\n",
       "      <td>0.000000e+00</td>\n",
       "      <td>2.174000e+03</td>\n",
       "      <td>4.170000</td>\n",
       "      <td>0.000000</td>\n",
       "      <td>0.0</td>\n",
       "      <td>0.000000</td>\n",
       "      <td>0.000000</td>\n",
       "      <td>0.000000</td>\n",
       "      <td>3.000000</td>\n",
       "      <td>1.000000</td>\n",
       "    </tr>\n",
       "    <tr>\n",
       "      <th>75%</th>\n",
       "      <td>1.000000e+00</td>\n",
       "      <td>1.187800e+04</td>\n",
       "      <td>5.000000</td>\n",
       "      <td>0.000000</td>\n",
       "      <td>0.0</td>\n",
       "      <td>0.000000</td>\n",
       "      <td>0.000000</td>\n",
       "      <td>0.000000</td>\n",
       "      <td>18.000000</td>\n",
       "      <td>4.000000</td>\n",
       "    </tr>\n",
       "    <tr>\n",
       "      <th>max</th>\n",
       "      <td>2.019083e+07</td>\n",
       "      <td>1.778445e+08</td>\n",
       "      <td>5.000000</td>\n",
       "      <td>402.000000</td>\n",
       "      <td>0.0</td>\n",
       "      <td>92.000000</td>\n",
       "      <td>230.000000</td>\n",
       "      <td>323.000000</td>\n",
       "      <td>199089.000000</td>\n",
       "      <td>57209.000000</td>\n",
       "    </tr>\n",
       "  </tbody>\n",
       "</table>\n",
       "</div>"
      ],
      "text/plain": [
       "        ext_version  ext_install_count    ext_rating  total_vulners  \\\n",
       "count  3.792900e+04       3.792900e+04  37929.000000   37929.000000   \n",
       "mean   5.508504e+02       4.968202e+05      2.750174       1.697066   \n",
       "std    1.036739e+05       6.300951e+06      2.363453      12.642718   \n",
       "min    0.000000e+00       1.000000e+00      0.000000       0.000000   \n",
       "25%    0.000000e+00       5.150000e+02      0.000000       0.000000   \n",
       "50%    0.000000e+00       2.174000e+03      4.170000       0.000000   \n",
       "75%    1.000000e+00       1.187800e+04      5.000000       0.000000   \n",
       "max    2.019083e+07       1.778445e+08      5.000000     402.000000   \n",
       "\n",
       "       critical_vulners  high_vulners  medium_vulners   low_vulners  \\\n",
       "count           37929.0  37929.000000    37929.000000  37929.000000   \n",
       "mean                0.0      0.155343        0.790424      0.751298   \n",
       "std                 0.0      1.868902        7.311949      6.340346   \n",
       "min                 0.0      0.000000        0.000000      0.000000   \n",
       "25%                 0.0      0.000000        0.000000      0.000000   \n",
       "50%                 0.0      0.000000        0.000000      0.000000   \n",
       "75%                 0.0      0.000000        0.000000      0.000000   \n",
       "max                 0.0     92.000000      230.000000    323.000000   \n",
       "\n",
       "          repo_stars    repo_forks  \n",
       "count   37929.000000  37929.000000  \n",
       "mean      415.417807     66.702734  \n",
       "std      6019.072547   1239.617970  \n",
       "min         0.000000      0.000000  \n",
       "25%         1.000000      0.000000  \n",
       "50%         3.000000      1.000000  \n",
       "75%        18.000000      4.000000  \n",
       "max    199089.000000  57209.000000  "
      ]
     },
     "execution_count": 21,
     "metadata": {},
     "output_type": "execute_result"
    }
   ],
   "source": [
    "df.describe()"
   ]
  },
  {
   "cell_type": "code",
   "execution_count": 22,
   "metadata": {},
   "outputs": [
    {
     "name": "stdout",
     "output_type": "stream",
     "text": [
      "========================================\n",
      "Variable: ext_version\n",
      "\n",
      "----------------------------------------\n",
      "Measurements of central tendency:\n",
      "----------------------------------------\n",
      "Mean = 550.850351973424\n",
      "Median = 0.0\n",
      "Mode = 0    0\n",
      "Name: ext_version, dtype: int64\n",
      "\n",
      "\n",
      "----------------------------------------\n",
      "Measurements of central tendency:\n",
      "----------------------------------------\n",
      "Var = 10748268147.547474\n",
      "Standard = 103673.85469609719\n",
      "Min = 0\n",
      "Max = 20190831\n",
      "Range = 20190831\n",
      "========================================\n",
      "\n",
      "========================================\n",
      "Variable: ext_install_count\n",
      "\n",
      "----------------------------------------\n",
      "Measurements of central tendency:\n",
      "----------------------------------------\n",
      "Mean = 496820.24066018086\n",
      "Median = 2174.0\n",
      "Mode = 0    76\n",
      "Name: ext_install_count, dtype: int64\n",
      "\n",
      "\n",
      "----------------------------------------\n",
      "Measurements of central tendency:\n",
      "----------------------------------------\n",
      "Var = 39701980806012.6\n",
      "Standard = 6300950.785874509\n",
      "Min = 1\n",
      "Max = 177844528\n",
      "Range = 177844527\n",
      "========================================\n",
      "\n",
      "========================================\n",
      "Variable: ext_rating\n",
      "\n",
      "----------------------------------------\n",
      "Measurements of central tendency:\n",
      "----------------------------------------\n",
      "Mean = 2.750174272983733\n",
      "Median = 4.17\n",
      "Mode = 0    5.0\n",
      "Name: ext_rating, dtype: float64\n",
      "\n",
      "\n",
      "----------------------------------------\n",
      "Measurements of central tendency:\n",
      "----------------------------------------\n",
      "Var = 5.585910560748143\n",
      "Standard = 2.3634531010257307\n",
      "Min = 0.0\n",
      "Max = 5.0\n",
      "Range = 5.0\n",
      "========================================\n",
      "\n",
      "========================================\n",
      "Variable: total_vulners\n",
      "\n",
      "----------------------------------------\n",
      "Measurements of central tendency:\n",
      "----------------------------------------\n",
      "Mean = 1.6970655698805663\n",
      "Median = 0.0\n",
      "Mode = 0    0\n",
      "Name: total_vulners, dtype: int64\n",
      "\n",
      "\n",
      "----------------------------------------\n",
      "Measurements of central tendency:\n",
      "----------------------------------------\n",
      "Var = 159.83830635409004\n",
      "Standard = 12.642717522514296\n",
      "Min = 0\n",
      "Max = 402\n",
      "Range = 402\n",
      "========================================\n",
      "\n",
      "========================================\n",
      "Variable: critical_vulners\n",
      "\n",
      "----------------------------------------\n",
      "Measurements of central tendency:\n",
      "----------------------------------------\n",
      "Mean = 0.0\n",
      "Median = 0.0\n",
      "Mode = 0    0\n",
      "Name: critical_vulners, dtype: int64\n",
      "\n",
      "\n",
      "----------------------------------------\n",
      "Measurements of central tendency:\n",
      "----------------------------------------\n",
      "Var = 0.0\n",
      "Standard = 0.0\n",
      "Min = 0\n",
      "Max = 0\n",
      "Range = 0\n",
      "========================================\n",
      "\n",
      "========================================\n",
      "Variable: high_vulners\n",
      "\n",
      "----------------------------------------\n",
      "Measurements of central tendency:\n",
      "----------------------------------------\n",
      "Mean = 0.15534287748161038\n",
      "Median = 0.0\n",
      "Mode = 0    0\n",
      "Name: high_vulners, dtype: int64\n",
      "\n",
      "\n",
      "----------------------------------------\n",
      "Measurements of central tendency:\n",
      "----------------------------------------\n",
      "Var = 3.4927947628632756\n",
      "Standard = 1.8689020206696967\n",
      "Min = 0\n",
      "Max = 92\n",
      "Range = 92\n",
      "========================================\n",
      "\n",
      "========================================\n",
      "Variable: medium_vulners\n",
      "\n",
      "----------------------------------------\n",
      "Measurements of central tendency:\n",
      "----------------------------------------\n",
      "Mean = 0.7904242136623691\n",
      "Median = 0.0\n",
      "Mode = 0    0\n",
      "Name: medium_vulners, dtype: int64\n",
      "\n",
      "\n",
      "----------------------------------------\n",
      "Measurements of central tendency:\n",
      "----------------------------------------\n",
      "Var = 53.464592967580735\n",
      "Standard = 7.3119486436640635\n",
      "Min = 0\n",
      "Max = 230\n",
      "Range = 230\n",
      "========================================\n",
      "\n",
      "========================================\n",
      "Variable: low_vulners\n",
      "\n",
      "----------------------------------------\n",
      "Measurements of central tendency:\n",
      "----------------------------------------\n",
      "Mean = 0.7512984787365867\n",
      "Median = 0.0\n",
      "Mode = 0    0\n",
      "Name: low_vulners, dtype: int64\n",
      "\n",
      "\n",
      "----------------------------------------\n",
      "Measurements of central tendency:\n",
      "----------------------------------------\n",
      "Var = 40.19998414232024\n",
      "Standard = 6.3403457431216035\n",
      "Min = 0\n",
      "Max = 323\n",
      "Range = 323\n",
      "========================================\n",
      "\n",
      "========================================\n",
      "Variable: repo_stars\n",
      "\n",
      "----------------------------------------\n",
      "Measurements of central tendency:\n",
      "----------------------------------------\n",
      "Mean = 415.41780695510033\n",
      "Median = 3.0\n",
      "Mode = 0    0\n",
      "Name: repo_stars, dtype: int64\n",
      "\n",
      "\n",
      "----------------------------------------\n",
      "Measurements of central tendency:\n",
      "----------------------------------------\n",
      "Var = 36229234.32240068\n",
      "Standard = 6019.072546696932\n",
      "Min = 0\n",
      "Max = 199089\n",
      "Range = 199089\n",
      "========================================\n",
      "\n",
      "========================================\n",
      "Variable: repo_forks\n",
      "\n",
      "----------------------------------------\n",
      "Measurements of central tendency:\n",
      "----------------------------------------\n",
      "Mean = 66.70273405573572\n",
      "Median = 1.0\n",
      "Mode = 0    0\n",
      "Name: repo_forks, dtype: int64\n",
      "\n",
      "\n",
      "----------------------------------------\n",
      "Measurements of central tendency:\n",
      "----------------------------------------\n",
      "Var = 1536652.7113300592\n",
      "Standard = 1239.617969912529\n",
      "Min = 0\n",
      "Max = 57209\n",
      "Range = 57209\n",
      "========================================\n",
      "\n"
     ]
    }
   ],
   "source": [
    "for col in cols_num:\n",
    "\n",
    "    print(\"==\" * 20)\n",
    "    print(f\"Variable: {col}\\n\")\n",
    "\n",
    "    print(\"--\" * 20)\n",
    "    print(f\"Measurements of central tendency:\")\n",
    "    print(\"--\" * 20)\n",
    "    print(f\"Mean = {df[col].mean()}\")\n",
    "    print(f\"Median = {df[col].median()}\")\n",
    "    print(f\"Mode = {df[col].mode()}\")\n",
    "    print(f\"\\n\")\n",
    "    print(\"--\" * 20)\n",
    "    print(f\"Measurements of central tendency:\")\n",
    "    print(\"--\" * 20)\n",
    "    print(f\"Var = {df[col].var()}\")\n",
    "    print(f\"Standard = {df[col].std()}\")\n",
    "    print(f\"Min = {df[col].min()}\")\n",
    "    print(f\"Max = {df[col].max()}\")\n",
    "    print(f\"Range = {df[col].max()-df[col].min()}\")\n",
    "\n",
    "    print(\"==\" * 20)\n",
    "    print ()\n",
    "    "
   ]
  },
  {
   "cell_type": "markdown",
   "metadata": {},
   "source": [
    "_Insight_:"
   ]
  },
  {
   "cell_type": "markdown",
   "metadata": {},
   "source": [
    "- Shape of distribution"
   ]
  },
  {
   "cell_type": "code",
   "execution_count": 23,
   "metadata": {},
   "outputs": [
    {
     "name": "stdout",
     "output_type": "stream",
     "text": [
      "========================================\n",
      "Variable: ext_version\n",
      "\n",
      "Skew = 194.7521475734619\n",
      "Kurtosis = 37928.59917785546\n",
      "========================================\n",
      "\n",
      "========================================\n",
      "Variable: ext_install_count\n",
      "\n",
      "Skew = 20.357866421186483\n",
      "Kurtosis = 482.98152359857113\n",
      "========================================\n",
      "\n",
      "========================================\n",
      "Variable: ext_rating\n",
      "\n",
      "Skew = -0.2459120769083387\n",
      "Kurtosis = -1.86777696551205\n",
      "========================================\n",
      "\n",
      "========================================\n",
      "Variable: total_vulners\n",
      "\n",
      "Skew = 18.78137237994935\n",
      "Kurtosis = 442.80695851778387\n",
      "========================================\n",
      "\n",
      "========================================\n",
      "Variable: critical_vulners\n",
      "\n",
      "Skew = 0.0\n",
      "Kurtosis = 0.0\n",
      "========================================\n",
      "\n",
      "========================================\n",
      "Variable: high_vulners\n",
      "\n",
      "Skew = 32.07599442322883\n",
      "Kurtosis = 1326.1371958675436\n",
      "========================================\n",
      "\n",
      "========================================\n",
      "Variable: medium_vulners\n",
      "\n",
      "Skew = 22.433168590469993\n",
      "Kurtosis = 597.5803984435113\n",
      "========================================\n",
      "\n",
      "========================================\n",
      "Variable: low_vulners\n",
      "\n",
      "Skew = 29.017444932016332\n",
      "Kurtosis = 1280.5255694927569\n",
      "========================================\n",
      "\n",
      "========================================\n",
      "Variable: repo_stars\n",
      "\n",
      "Skew = 26.719037352868444\n",
      "Kurtosis = 771.7525261929592\n",
      "========================================\n",
      "\n",
      "========================================\n",
      "Variable: repo_forks\n",
      "\n",
      "Skew = 33.89351624442343\n",
      "Kurtosis = 1261.0045036369042\n",
      "========================================\n",
      "\n"
     ]
    }
   ],
   "source": [
    "for column in cols_num:\n",
    "    skewness_col = df[column].skew()\n",
    "    kurtosis_col = df[column].kurtosis()\n",
    "\n",
    "    print(\"==\" * 20)\n",
    "    print(f\"Variable: {column}\\n\")\n",
    "    print(f\"Skew = {skewness_col}\")\n",
    "    print(f\"Kurtosis = {kurtosis_col}\")\n",
    "    print(\"==\" * 20)\n",
    "\n",
    "    print ()"
   ]
  },
  {
   "cell_type": "markdown",
   "metadata": {},
   "source": [
    "_Insight_:"
   ]
  },
  {
   "cell_type": "markdown",
   "metadata": {},
   "source": [
    "- Statistical test: use K-S  test and not concern Shapiro due to large dataset"
   ]
  },
  {
   "cell_type": "code",
   "execution_count": 24,
   "metadata": {},
   "outputs": [
    {
     "name": "stdout",
     "output_type": "stream",
     "text": [
      "========================================\n",
      "Variable: ext_version\n",
      "\n",
      "Test statistic =  0.50\n",
      "p_value =  0.00\n",
      "\n",
      "\n",
      "The distribution of 'ext_version' is significantly different from a normal distribution.\n",
      "========================================\n",
      "Variable: ext_install_count\n",
      "\n",
      "Test statistic =  0.47\n",
      "p_value =  0.00\n",
      "\n",
      "\n",
      "The distribution of 'ext_install_count' is significantly different from a normal distribution.\n",
      "========================================\n",
      "Variable: ext_rating\n",
      "\n",
      "Test statistic =  0.29\n",
      "p_value =  0.00\n",
      "\n",
      "\n",
      "The distribution of 'ext_rating' is significantly different from a normal distribution.\n",
      "========================================\n",
      "Variable: total_vulners\n",
      "\n",
      "Test statistic =  0.45\n",
      "p_value =  0.00\n",
      "\n",
      "\n",
      "The distribution of 'total_vulners' is significantly different from a normal distribution.\n",
      "========================================\n",
      "Variable: critical_vulners\n",
      "\n",
      "Test statistic =  nan\n",
      "p_value =  nan\n",
      "\n",
      "\n",
      "The distribution of 'critical_vulners'is NOT significantly different from a normal distribution.\n",
      "========================================\n",
      "Variable: high_vulners\n",
      "\n",
      "Test statistic =  0.50\n",
      "p_value =  0.00\n",
      "\n",
      "\n",
      "The distribution of 'high_vulners' is significantly different from a normal distribution.\n",
      "========================================\n",
      "Variable: medium_vulners\n",
      "\n",
      "Test statistic =  0.46\n",
      "p_value =  0.00\n",
      "\n",
      "\n",
      "The distribution of 'medium_vulners' is significantly different from a normal distribution.\n",
      "========================================\n",
      "Variable: low_vulners\n",
      "\n",
      "Test statistic =  0.45\n",
      "p_value =  0.00\n",
      "\n",
      "\n",
      "The distribution of 'low_vulners' is significantly different from a normal distribution.\n",
      "========================================\n",
      "Variable: repo_stars\n",
      "\n",
      "Test statistic =  0.47\n",
      "p_value =  0.00\n",
      "\n",
      "\n",
      "The distribution of 'repo_stars' is significantly different from a normal distribution.\n",
      "========================================\n",
      "Variable: repo_forks\n",
      "\n",
      "Test statistic =  0.48\n",
      "p_value =  0.00\n",
      "\n",
      "\n",
      "The distribution of 'repo_forks' is significantly different from a normal distribution.\n"
     ]
    }
   ],
   "source": [
    "# standardized_saleprice = (df['SalePrice'] - df['SalePrice'].mean()) / df['SalePrice'].std()\n",
    "# ks_test_statistic, ks_p_value = kstest(standardized_saleprice, 'norm')\n",
    "\n",
    "# ks_test_statistic, ks_p_value\n",
    "\n",
    "# print the test result\n",
    "\n",
    "\n",
    "for col in cols_num:\n",
    "    standardized = (df[col] - df[col].mean()) / df[col].std()\n",
    "    ks_test_statistic, ks_p_value = kstest(standardized, 'norm')\n",
    "    print(\"==\" * 20)\n",
    "    print(f\"Variable: {col}\\n\")\n",
    "    print(f\"Test statistic = {ks_test_statistic: .2f}\")\n",
    "    print(f\"p_value = {ks_p_value: .2f}\")\n",
    "    print(\"\\n\")\n",
    "    if ks_p_value < 0.05:\n",
    "        print(f\"The distribution of '{col}' is significantly different from a normal distribution.\")\n",
    "    else:\n",
    "        print(f\"The distribution of '{col}'is NOT significantly different from a normal distribution.\")"
   ]
  },
  {
   "cell_type": "markdown",
   "metadata": {},
   "source": [
    "**Visual/Qualitative:**"
   ]
  },
  {
   "cell_type": "markdown",
   "metadata": {},
   "source": [
    "- Histplot: display the frequency distribution of a dataset. The height of each bar represents the number of data points in each bin."
   ]
  },
  {
   "cell_type": "code",
   "execution_count": 25,
   "metadata": {},
   "outputs": [
    {
     "data": {
      "image/png": "[encoded data removed]",
      "text/plain": [
       "<Figure size 800x1000 with 10 Axes>"
      ]
     },
     "metadata": {},
     "output_type": "display_data"
    }
   ],
   "source": [
    "fig, axes = plt.subplots(nrows = int(np.ceil(len(cols_num)/2)), ncols = 2, figsize = (8, 10))\n",
    "axes = axes.flat\n",
    "\n",
    "for i,col in enumerate(cols_num):\n",
    "    sns.histplot(df[col],\n",
    "                 kde=True,\n",
    "                 bins=20,\n",
    "                 color=\"orange\",\n",
    "                 ax=axes[i])    \n",
    "    \n",
    "    axes[i].set_title(f\"{col}\", fontsize = 9, color = \"blue\")\n",
    "    axes[i].set_xlabel(\"\")\n",
    "\n",
    "fig.suptitle(\"Hisplots\", fontsize = 12, fontweight = \"bold\", color = \"darkblue\")\n",
    "fig.tight_layout()\n",
    "fig.show()"
   ]
  },
  {
   "cell_type": "markdown",
   "metadata": {},
   "source": [
    "_Insight_:"
   ]
  },
  {
   "cell_type": "markdown",
   "metadata": {},
   "source": [
    "- Histogram"
   ]
  },
  {
   "cell_type": "code",
   "execution_count": 26,
   "metadata": {},
   "outputs": [],
   "source": [
    "# df[cols_num].hist(figsize=(15, 20), bins=60, xlabelsize=10, ylabelsize=10);"
   ]
  },
  {
   "cell_type": "markdown",
   "metadata": {},
   "source": [
    "- Boxplot/Whisker plot: showcase the central 50% of the data (interquartile range), potential outliers, and other statistical properties."
   ]
  },
  {
   "cell_type": "code",
   "execution_count": 27,
   "metadata": {},
   "outputs": [],
   "source": [
    "# for column in cols_num:\n",
    "#     fig, ax = plt.subplots()#plt.subplots(nrows=1, ncols=2, figsize=(8, 4))\n",
    "\n",
    "#     sns.boxplot(y = df[column], color=\"lightblue\")\n",
    "#     ax.set_title(f\"Boxplot of {column}\")\n",
    "\n",
    "#     plt.show()\n",
    "    "
   ]
  },
  {
   "cell_type": "code",
   "execution_count": 28,
   "metadata": {},
   "outputs": [
    {
     "data": {
      "image/png": "[encoded data removed]",
      "text/plain": [
       "<Figure size 800x1000 with 10 Axes>"
      ]
     },
     "metadata": {},
     "output_type": "display_data"
    }
   ],
   "source": [
    "fig, axes = plt.subplots(nrows = int(np.ceil(len(cols_num)/2)), ncols = 2, figsize = (8,10))\n",
    "axes = axes.flat\n",
    "\n",
    "for i,col in enumerate(cols_num):\n",
    "    # sns.boxplot(y = df[col],\n",
    "    #             ax = axes[i])\n",
    "    sns.boxenplot(y=df[col],\n",
    "                  ax = axes[i])\n",
    "    \n",
    "    axes[i].set_title(f\"{col}\", fontsize = 9, color = \"blue\")\n",
    "    axes[i].set_xlabel('')\n",
    "\n",
    "fig.suptitle(\"Boxen-Plots\", fontsize = 12, fontweight = \"bold\", color = \"darkblue\")\n",
    "fig.tight_layout()\n",
    "fig.show()"
   ]
  },
  {
   "cell_type": "markdown",
   "metadata": {},
   "source": [
    "_Insight_:"
   ]
  },
  {
   "cell_type": "markdown",
   "metadata": {},
   "source": [
    "- QQ-Plot: visualize to help us assess if a dataset follows a particular theoretical distribution/ normal distribution"
   ]
  },
  {
   "cell_type": "code",
   "execution_count": 29,
   "metadata": {},
   "outputs": [
    {
     "data": {
      "image/png": "[encoded data removed]",
      "text/plain": [
       "<Figure size 800x1000 with 10 Axes>"
      ]
     },
     "metadata": {},
     "output_type": "display_data"
    }
   ],
   "source": [
    "fig, axes = plt.subplots(nrows = int(np.ceil(len(cols_num)/2)), ncols = 2, figsize = (8,10))\n",
    "axes = axes.flat\n",
    "\n",
    "for i,col in enumerate(cols_num):\n",
    "    sm.qqplot(df[col], \n",
    "           line = \"s\", \n",
    "           ax = axes[i])\n",
    "    \n",
    "    axes[i].set_title(col, fontsize = 10, fontweight = \"bold\", color = \"black\")\n",
    "    \n",
    "# fig.delaxes(axes[7])\n",
    "fig.suptitle(\"QQ-Plots\", fontsize = 12, fontweight = \"bold\", color = \"darkblue\")\n",
    "fig.tight_layout()\n",
    "fig.show()\n"
   ]
  },
  {
   "cell_type": "markdown",
   "metadata": {},
   "source": [
    "_Insight_:"
   ]
  },
  {
   "cell_type": "code",
   "execution_count": 30,
   "metadata": {},
   "outputs": [],
   "source": [
    "df_eda = df.copy()\n",
    "df_eda.to_csv(config[\"data\"][\"clean\"][\"file_eda_cleaned\"],index=False)"
   ]
  },
  {
   "cell_type": "markdown",
   "metadata": {},
   "source": []
  },
  {
   "cell_type": "markdown",
   "metadata": {},
   "source": [
    "## **Bivariate Analysis**\n"
   ]
  },
  {
   "cell_type": "code",
   "execution_count": 31,
   "metadata": {},
   "outputs": [
    {
     "data": {
      "text/plain": [
       "(['ext_categories', 'repo_languages'],\n",
       " ['ext_version',\n",
       "  'ext_install_count',\n",
       "  'ext_rating',\n",
       "  'total_vulners',\n",
       "  'critical_vulners',\n",
       "  'high_vulners',\n",
       "  'medium_vulners',\n",
       "  'low_vulners',\n",
       "  'repo_stars',\n",
       "  'repo_forks'])"
      ]
     },
     "execution_count": 31,
     "metadata": {},
     "output_type": "execute_result"
    }
   ],
   "source": [
    "cols_cat, cols_num"
   ]
  },
  {
   "cell_type": "markdown",
   "metadata": {},
   "source": [
    "From Univariate Analysis, we observe that the \"critical_vulners\" has only one value 0 and not correlated to others. We remove the column to avoid overfitting and further irrelevant analysis"
   ]
  },
  {
   "cell_type": "code",
   "execution_count": 32,
   "metadata": {},
   "outputs": [],
   "source": [
    "# cols_num = cols_num.remove(\"critical_vulners\")\n",
    "df = df.drop(columns = \"critical_vulners\")\n",
    "cols_num = df.select_dtypes(include = [\"float\",\"int\"]).columns.to_list()"
   ]
  },
  {
   "cell_type": "markdown",
   "metadata": {},
   "source": [
    "#### Categorical vs Categorical"
   ]
  },
  {
   "cell_type": "markdown",
   "metadata": {},
   "source": [
    "Quantitative"
   ]
  },
  {
   "cell_type": "markdown",
   "metadata": {},
   "source": [
    "- Chi-Square: determine whether there is a significant association between two categorical variables"
   ]
  },
  {
   "cell_type": "code",
   "execution_count": 33,
   "metadata": {},
   "outputs": [],
   "source": [
    "ct_results = {}\n",
    "# ct_results_common = {}\n",
    "for col in cols_cat:\n",
    "    # if df[col].nunique() <= 10: \n",
    "        # result = pd.crosstab(df[col], df[\"verified\"])        \n",
    "    # else:\n",
    "    #     result = pd.crosstab(df[col].value_counts().head(10), df[\"verified\"])    \n",
    "    result = pd.crosstab(df[col], df[\"verified\"])    \n",
    "    ct_results[col] = result"
   ]
  },
  {
   "cell_type": "code",
   "execution_count": 34,
   "metadata": {},
   "outputs": [
    {
     "name": "stdout",
     "output_type": "stream",
     "text": [
      "========================================\n",
      "Variable: ext_categories\n",
      "\n",
      "Test statistic =  2901.51\n",
      "p_value =  0.00\n",
      "There is significant association between the categorical variables 'ext_categories' and 'verified'.\n",
      "========================================\n",
      "Variable: repo_languages\n",
      "\n",
      "Test statistic =  1512.93\n",
      "p_value =  0.00\n",
      "There is significant association between the categorical variables 'repo_languages' and 'verified'.\n"
     ]
    }
   ],
   "source": [
    "for col in cols_cat:\n",
    "    crosstab_result = ct_results[col]\n",
    "    chi2_statistic, chi2_p_value, _, expected_freq = chi2_contingency(crosstab_result)\n",
    "    # pd.DataFrame(expected_freq, columns=df[\"verified\"].unique(), index=crosstab_result.index)\n",
    "    print(\"==\" * 20)\n",
    "    print(f\"Variable: {col}\\n\")\n",
    "    print(f\"Test statistic = {chi2_statistic: .2f}\")\n",
    "    print(f\"p_value = {chi2_p_value: .2f}\")\n",
    "\n",
    "    if chi2_p_value < 0.05:\n",
    "        print(f\"There is significant association between the categorical variables '{col}' and 'verified'.\")\n",
    "    else:\n",
    "        print(f\"There is not enough evidence to conclude a significant association between the variables '{col}' and 'verified'.\")"
   ]
  },
  {
   "cell_type": "code",
   "execution_count": 35,
   "metadata": {},
   "outputs": [
    {
     "name": "stdout",
     "output_type": "stream",
     "text": [
      "========================================\n",
      "Variable: repo_languages\n",
      "\n",
      "Test statistic =  19474.01\n",
      "p_value =  0.00\n",
      "There is significant association between the categorical variables 'ext_categories' and 'repo_languages'.\n"
     ]
    }
   ],
   "source": [
    "crosstab_result = crosstab_result = pd.crosstab(df[\"ext_categories\"], df[\"repo_languages\"])\n",
    "chi2_statistic, chi2_p_value, _, expected_freq = chi2_contingency(crosstab_result)\n",
    "\n",
    "print(\"==\" * 20)\n",
    "print(f\"Variable: {col}\\n\")\n",
    "print(f\"Test statistic = {chi2_statistic: .2f}\")\n",
    "print(f\"p_value = {chi2_p_value: .2f}\")\n",
    "\n",
    "if chi2_p_value < 0.05:\n",
    "    print(f\"There is significant association between the categorical variables 'ext_categories' and 'repo_languages'.\")\n",
    "else:\n",
    "    print(f\"There is not enough evidence to conclude a significant association between the variables 'ext_categories' and 'repo_languages'.\")"
   ]
  },
  {
   "cell_type": "markdown",
   "metadata": {},
   "source": [
    "- Cramer-V: quantify the strength of the relationship between categorical variables*"
   ]
  },
  {
   "cell_type": "code",
   "execution_count": 36,
   "metadata": {},
   "outputs": [
    {
     "name": "stdout",
     "output_type": "stream",
     "text": [
      "========================================\n",
      "Variable: ext_categories\n",
      "\n",
      "Assocation =  0.28\n",
      "There is a Weak association between the categorical variables 'ext_categories' and 'verified'.\n",
      "========================================\n",
      "Variable: repo_languages\n",
      "\n",
      "Assocation =  0.20\n",
      "There is a Weak association between the categorical variables 'repo_languages' and 'verified'.\n"
     ]
    }
   ],
   "source": [
    "for col in cols_cat:\n",
    "    # crosstab_result = pd.crosstab(df[col], df[\"verified\"])\n",
    "    crosstab_result = ct_results[col]\n",
    "    association_result = association(crosstab_result, method=\"cramer\")\n",
    "\n",
    "    print(\"==\" * 20)\n",
    "    print(f\"Variable: {col}\\n\")\n",
    "    print(f\"Assocation = {association_result: .2f}\")\n",
    "    \n",
    "    if association_result == 0:\n",
    "        print(f\"There is No association between the categorical variables '{col}' and 'verified'.\")\n",
    "    elif association_result == 1:\n",
    "        print(f\"There is a Perfect  association between the categorical variables '{col}' and 'verified'.\")\n",
    "    elif association_result < 0.5 and association_result > 0:\n",
    "        print(f\"There is a Weak association between the categorical variables '{col}' and 'verified'.\")\n",
    "    elif association_result > 0.5 and association_result < 1:\n",
    "        print(f\"There is a Strong association between the categorical variables '{col}' and 'verified'.\")"
   ]
  },
  {
   "cell_type": "code",
   "execution_count": 37,
   "metadata": {},
   "outputs": [
    {
     "name": "stdout",
     "output_type": "stream",
     "text": [
      "========================================\n",
      "Variable: repo_languages\n",
      "\n",
      "Assocation =  0.16\n",
      "There is a Weak association between the categorical variables 'ext_categories' and 'repo_languages'.\n"
     ]
    }
   ],
   "source": [
    "crosstab_result = crosstab_result = pd.crosstab(df[\"ext_categories\"], df[\"repo_languages\"])\n",
    "association_result = association(crosstab_result, method=\"cramer\")\n",
    "\n",
    "print(\"==\" * 20)\n",
    "print(f\"Variable: {col}\\n\")\n",
    "print(f\"Assocation = {association_result: .2f}\")\n",
    "\n",
    "if association_result == 0:\n",
    "    print(f\"There is No association between the categorical variables 'ext_categories' and 'repo_languages'.\")\n",
    "elif association_result == 1:\n",
    "    print(f\"There is a Perfect  association between the categorical variables 'ext_categories' and 'repo_languages'.\")\n",
    "elif association_result < 0.5 and association_result > 0:\n",
    "    print(f\"There is a Weak association between the categorical variables 'ext_categories' and 'repo_languages'.\")\n",
    "elif association_result > 0.5 and association_result < 1:\n",
    "    print(f\"There is a Strong association between the categorical variables 'ext_categories' and 'repo_languages'.\")"
   ]
  },
  {
   "cell_type": "markdown",
   "metadata": {},
   "source": [
    "Visuals/Qualitative"
   ]
  },
  {
   "cell_type": "markdown",
   "metadata": {},
   "source": [
    "- Stacked barcharts\n",
    "- Grouped barcharts"
   ]
  },
  {
   "cell_type": "code",
   "execution_count": 38,
   "metadata": {},
   "outputs": [
    {
     "data": {
      "image/png": "[encoded data removed]",
      "text/plain": [
       "<Figure size 1200x800 with 2 Axes>"
      ]
     },
     "metadata": {},
     "output_type": "display_data"
    }
   ],
   "source": [
    "fig, axes = plt.subplots(nrows = int(np.ceil(len(cols_cat)/2)), ncols = 2, figsize = (12,8))\n",
    "axes = axes.flat\n",
    "\n",
    "for i,col in enumerate(cols_cat):\n",
    "    crosstab_result = ct_results[col]\n",
    "    crosstab_result.plot(kind=\"bar\",\n",
    "                         stacked=True,\n",
    "                         ax = axes[i]);\n",
    "    # sns.countplot(data=df,\n",
    "    #               x=col,\n",
    "    #               hue='verified',\n",
    "    #               ax = axes[i]);\n",
    "    \n",
    "    axes[i].set_title(col, fontsize = 10, fontweight = \"bold\", color = \"black\")\n",
    "    \n",
    "# fig.delaxes(axes[7])\n",
    "fig.suptitle(\"Stacked Barcharts\", fontsize = 12, fontweight = \"bold\", color = \"darkblue\")\n",
    "fig.tight_layout()\n",
    "fig.show()"
   ]
  },
  {
   "cell_type": "markdown",
   "metadata": {},
   "source": [
    "- Heatmap"
   ]
  },
  {
   "cell_type": "code",
   "execution_count": 39,
   "metadata": {},
   "outputs": [
    {
     "data": {
      "image/png": "[encoded data removed]",
      "text/plain": [
       "<Figure size 1000x800 with 4 Axes>"
      ]
     },
     "metadata": {},
     "output_type": "display_data"
    }
   ],
   "source": [
    "# fig = plt.subplots(figsize = (10,10))\n",
    "# for col in enumerate(cols_cat):\n",
    "#     crosstab_result = ct_results[col]\n",
    "#     sns.heatmap(crosstab_result,\n",
    "#                 annot=True,\n",
    "#                 cmap=\"YlGnBu\",\n",
    "#                 fmt=\"d\");\n",
    "# fig.suptitle(\"Heatmap\", fontsize = 12, fontweight = \"bold\", color = \"darkblue\")\n",
    "# fig.tight_layout()\n",
    "# fig.show()\n",
    "\n",
    "fig, axes = plt.subplots(nrows = int(np.ceil(len(cols_cat))), ncols = 1, figsize = (10,8))\n",
    "axes = axes.flat\n",
    "\n",
    "for i,col in enumerate(cols_cat):\n",
    "    crosstab_result = ct_results[col]\n",
    "    sns.heatmap(crosstab_result,\n",
    "                annot=True,\n",
    "                cmap=\"YlGnBu\",\n",
    "                fmt=\"d\",\n",
    "                ax = axes[i]);\n",
    "    axes[i].set_title(col, fontsize = 10, fontweight = \"bold\", color = \"black\")\n",
    "    \n",
    "# fig.delaxes(axes[7])\n",
    "fig.suptitle(\"Heatmap\", fontsize = 12, fontweight = \"bold\", color = \"darkblue\")\n",
    "fig.tight_layout()\n",
    "fig.show()\n"
   ]
  },
  {
   "cell_type": "markdown",
   "metadata": {},
   "source": [
    "#### Categorical vs Numerical"
   ]
  },
  {
   "cell_type": "markdown",
   "metadata": {},
   "source": [
    "Quantitative"
   ]
  },
  {
   "cell_type": "markdown",
   "metadata": {},
   "source": [
    "- ANNOVA Test"
   ]
  },
  {
   "cell_type": "code",
   "execution_count": 40,
   "metadata": {},
   "outputs": [],
   "source": [
    "cols_num "
   ]
  },
  {
   "cell_type": "code",
   "execution_count": 41,
   "metadata": {},
   "outputs": [
    {
     "ename": "KeyError",
     "evalue": "None",
     "output_type": "error",
     "traceback": [
      "\u001b[31m---------------------------------------------------------------------------\u001b[39m",
      "\u001b[31mKeyError\u001b[39m                                  Traceback (most recent call last)",
      "\u001b[36mFile \u001b[39m\u001b[32mc:\\Downloadsall\\Courses\\Ironhack DA\\Final\\.venv\\Lib\\site-packages\\pandas\\core\\indexes\\base.py:3812\u001b[39m, in \u001b[36mIndex.get_loc\u001b[39m\u001b[34m(self, key)\u001b[39m\n\u001b[32m   3811\u001b[39m \u001b[38;5;28;01mtry\u001b[39;00m:\n\u001b[32m-> \u001b[39m\u001b[32m3812\u001b[39m     \u001b[38;5;28;01mreturn\u001b[39;00m \u001b[38;5;28;43mself\u001b[39;49m\u001b[43m.\u001b[49m\u001b[43m_engine\u001b[49m\u001b[43m.\u001b[49m\u001b[43mget_loc\u001b[49m\u001b[43m(\u001b[49m\u001b[43mcasted_key\u001b[49m\u001b[43m)\u001b[49m\n\u001b[32m   3813\u001b[39m \u001b[38;5;28;01mexcept\u001b[39;00m \u001b[38;5;167;01mKeyError\u001b[39;00m \u001b[38;5;28;01mas\u001b[39;00m err:\n",
      "\u001b[36mFile \u001b[39m\u001b[32mpandas/_libs/index.pyx:167\u001b[39m, in \u001b[36mpandas._libs.index.IndexEngine.get_loc\u001b[39m\u001b[34m()\u001b[39m\n",
      "\u001b[36mFile \u001b[39m\u001b[32mpandas/_libs/index.pyx:196\u001b[39m, in \u001b[36mpandas._libs.index.IndexEngine.get_loc\u001b[39m\u001b[34m()\u001b[39m\n",
      "\u001b[36mFile \u001b[39m\u001b[32mpandas/_libs/hashtable_class_helper.pxi:7088\u001b[39m, in \u001b[36mpandas._libs.hashtable.PyObjectHashTable.get_item\u001b[39m\u001b[34m()\u001b[39m\n",
      "\u001b[36mFile \u001b[39m\u001b[32mpandas/_libs/hashtable_class_helper.pxi:7096\u001b[39m, in \u001b[36mpandas._libs.hashtable.PyObjectHashTable.get_item\u001b[39m\u001b[34m()\u001b[39m\n",
      "\u001b[31mKeyError\u001b[39m: None",
      "\nThe above exception was the direct cause of the following exception:\n",
      "\u001b[31mKeyError\u001b[39m                                  Traceback (most recent call last)",
      "\u001b[36mCell\u001b[39m\u001b[36m \u001b[39m\u001b[32mIn[41]\u001b[39m\u001b[32m, line 1\u001b[39m\n\u001b[32m----> \u001b[39m\u001b[32m1\u001b[39m df_breached = \u001b[43mdf\u001b[49m\u001b[43m[\u001b[49m\u001b[43mdf\u001b[49m\u001b[43m[\u001b[49m\u001b[33;43m\"\u001b[39;49m\u001b[33;43mverified\u001b[39;49m\u001b[33;43m\"\u001b[39;49m\u001b[43m]\u001b[49m\u001b[43m \u001b[49m\u001b[43m==\u001b[49m\u001b[43m \u001b[49m\u001b[38;5;28;43;01mTrue\u001b[39;49;00m\u001b[43m]\u001b[49m\u001b[43m[\u001b[49m\u001b[43mcols_num\u001b[49m\u001b[43m]\u001b[49m\n\u001b[32m      2\u001b[39m df_no_df_breached = df[df[\u001b[33m\"\u001b[39m\u001b[33mverified\u001b[39m\u001b[33m\"\u001b[39m] == \u001b[38;5;28;01mFalse\u001b[39;00m][cols_num]\n\u001b[32m      4\u001b[39m \u001b[38;5;66;03m#Set the hypothesis\u001b[39;00m\n\u001b[32m      5\u001b[39m \n\u001b[32m      6\u001b[39m \u001b[38;5;66;03m#H0: df_stroke = df_no_stroke\u001b[39;00m\n\u001b[32m      7\u001b[39m \u001b[38;5;66;03m#H1: df_stroke != df_no_stroke\u001b[39;00m\n",
      "\u001b[36mFile \u001b[39m\u001b[32mc:\\Downloadsall\\Courses\\Ironhack DA\\Final\\.venv\\Lib\\site-packages\\pandas\\core\\frame.py:4107\u001b[39m, in \u001b[36mDataFrame.__getitem__\u001b[39m\u001b[34m(self, key)\u001b[39m\n\u001b[32m   4105\u001b[39m \u001b[38;5;28;01mif\u001b[39;00m \u001b[38;5;28mself\u001b[39m.columns.nlevels > \u001b[32m1\u001b[39m:\n\u001b[32m   4106\u001b[39m     \u001b[38;5;28;01mreturn\u001b[39;00m \u001b[38;5;28mself\u001b[39m._getitem_multilevel(key)\n\u001b[32m-> \u001b[39m\u001b[32m4107\u001b[39m indexer = \u001b[38;5;28;43mself\u001b[39;49m\u001b[43m.\u001b[49m\u001b[43mcolumns\u001b[49m\u001b[43m.\u001b[49m\u001b[43mget_loc\u001b[49m\u001b[43m(\u001b[49m\u001b[43mkey\u001b[49m\u001b[43m)\u001b[49m\n\u001b[32m   4108\u001b[39m \u001b[38;5;28;01mif\u001b[39;00m is_integer(indexer):\n\u001b[32m   4109\u001b[39m     indexer = [indexer]\n",
      "\u001b[36mFile \u001b[39m\u001b[32mc:\\Downloadsall\\Courses\\Ironhack DA\\Final\\.venv\\Lib\\site-packages\\pandas\\core\\indexes\\base.py:3819\u001b[39m, in \u001b[36mIndex.get_loc\u001b[39m\u001b[34m(self, key)\u001b[39m\n\u001b[32m   3814\u001b[39m     \u001b[38;5;28;01mif\u001b[39;00m \u001b[38;5;28misinstance\u001b[39m(casted_key, \u001b[38;5;28mslice\u001b[39m) \u001b[38;5;129;01mor\u001b[39;00m (\n\u001b[32m   3815\u001b[39m         \u001b[38;5;28misinstance\u001b[39m(casted_key, abc.Iterable)\n\u001b[32m   3816\u001b[39m         \u001b[38;5;129;01mand\u001b[39;00m \u001b[38;5;28many\u001b[39m(\u001b[38;5;28misinstance\u001b[39m(x, \u001b[38;5;28mslice\u001b[39m) \u001b[38;5;28;01mfor\u001b[39;00m x \u001b[38;5;129;01min\u001b[39;00m casted_key)\n\u001b[32m   3817\u001b[39m     ):\n\u001b[32m   3818\u001b[39m         \u001b[38;5;28;01mraise\u001b[39;00m InvalidIndexError(key)\n\u001b[32m-> \u001b[39m\u001b[32m3819\u001b[39m     \u001b[38;5;28;01mraise\u001b[39;00m \u001b[38;5;167;01mKeyError\u001b[39;00m(key) \u001b[38;5;28;01mfrom\u001b[39;00m\u001b[38;5;250m \u001b[39m\u001b[34;01merr\u001b[39;00m\n\u001b[32m   3820\u001b[39m \u001b[38;5;28;01mexcept\u001b[39;00m \u001b[38;5;167;01mTypeError\u001b[39;00m:\n\u001b[32m   3821\u001b[39m     \u001b[38;5;66;03m# If we have a listlike key, _check_indexing_error will raise\u001b[39;00m\n\u001b[32m   3822\u001b[39m     \u001b[38;5;66;03m#  InvalidIndexError. Otherwise we fall through and re-raise\u001b[39;00m\n\u001b[32m   3823\u001b[39m     \u001b[38;5;66;03m#  the TypeError.\u001b[39;00m\n\u001b[32m   3824\u001b[39m     \u001b[38;5;28mself\u001b[39m._check_indexing_error(key)\n",
      "\u001b[31mKeyError\u001b[39m: None"
     ]
    }
   ],
   "source": [
    "df_breached = df[df[\"verified\"] == True][cols_num]\n",
    "df_no_df_breached = df[df[\"verified\"] == False][cols_num]\n",
    "\n",
    "#Set the hypothesis\n",
    "\n",
    "#H0: df_breached = df_no_df_breached\n",
    "#H1: df_breached != df_no_df_breached\n",
    "\n",
    "alpha = 0.05\n",
    "\n",
    "Statistic_result, p_value = st.f_oneway(df_breached, df_no_df_breached)\n",
    "p_value\n",
    "# for i in len(cols_num):\n",
    "#     print(\"==\" * 20)\n",
    "#     print(f\"Variable: {cols_num[i]}\\n\")\n",
    "#     print(f\"Statistic test = {Statistic_result[i]: .2f}\")\n",
    "#     print(f\"p_value = {p_value[i]: .2f}\")\n",
    "\n",
    "#     if p_value[i] < alpha:\n",
    "#         print(f\"There is significant association between the categorical variables '{col}' and 'verified'.\")\n",
    "#     else:\n",
    "#         print(f\"There is not enough evidence to conclude a significant association between the variables '{col}' and 'verified'.\")"
   ]
  },
  {
   "cell_type": "markdown",
   "metadata": {},
   "source": [
    "Visuals/Qualitative"
   ]
  },
  {
   "cell_type": "markdown",
   "metadata": {},
   "source": [
    "- Grouped boxplots\n",
    "- Grouped Violinplots"
   ]
  },
  {
   "cell_type": "markdown",
   "metadata": {},
   "source": [
    "    a. Category \"verified\""
   ]
  },
  {
   "cell_type": "code",
   "execution_count": null,
   "metadata": {},
   "outputs": [],
   "source": [
    "fig, axes = plt.subplots(nrows = int(np.ceil(len(cols_num)/2)), ncols = 2, figsize = (10,8))\n",
    "axes = axes.flat\n",
    "\n",
    "for i,col in enumerate(cols_num):\n",
    "    # sns.boxplot(data=df, \n",
    "    #             x='verified',\n",
    "    #             y=col, \n",
    "    #             palette=\"coolwarm\",\n",
    "    #             hue='verified',\n",
    "    #             legend=False,\n",
    "    #             ax = axes[i]);\n",
    "    \n",
    "    sns.violinplot(data=df, \n",
    "                x='verified',\n",
    "                y=col, \n",
    "                palette=\"coolwarm\",\n",
    "                hue='verified',\n",
    "                legend=False,\n",
    "                ax = axes[i]);\n",
    "    axes[i].set_title(col, fontsize = 10, fontweight = \"bold\", color = \"black\")\n",
    "    \n",
    "# fig.delaxes(axes[7])\n",
    "fig.suptitle(\"Grouped Boxplot/Violinplot\", fontsize = 12, fontweight = \"bold\", color = \"darkblue\")\n",
    "fig.tight_layout()\n",
    "fig.show()"
   ]
  },
  {
   "cell_type": "markdown",
   "metadata": {},
   "source": [
    "    b. Category \"ext_categories\""
   ]
  },
  {
   "cell_type": "code",
   "execution_count": null,
   "metadata": {},
   "outputs": [],
   "source": [
    "fig, axes = plt.subplots(nrows = int(np.ceil(len(cols_num)/2)), ncols = 2, figsize = (10,8))\n",
    "axes = axes.flat\n",
    "\n",
    "for i,col in enumerate(cols_num):\n",
    "    # sns.boxplot(data=df, \n",
    "    #             x='ext_categories',\n",
    "    #             y=col, \n",
    "    #             palette=\"coolwarm\",\n",
    "    #             hue='ext_categories',\n",
    "    #             legend=False,\n",
    "    #             ax = axes[i]);\n",
    "    sns.violinplot(data=df, \n",
    "                x='ext_categories',\n",
    "                y=col, \n",
    "                palette=\"coolwarm\",\n",
    "                hue='ext_categories',\n",
    "                legend=False,\n",
    "                ax = axes[i]);\n",
    "    axes[i].set_title(col, fontsize = 10, fontweight = \"bold\", color = \"black\")\n",
    "    \n",
    "# fig.delaxes(axes[7])\n",
    "fig.suptitle(\"Grouped Boxplot\", fontsize = 12, fontweight = \"bold\", color = \"darkblue\")\n",
    "fig.tight_layout()\n",
    "fig.show()"
   ]
  },
  {
   "cell_type": "markdown",
   "metadata": {},
   "source": []
  },
  {
   "cell_type": "markdown",
   "metadata": {},
   "source": [
    "#### Numerical vs Numerical"
   ]
  },
  {
   "cell_type": "markdown",
   "metadata": {},
   "source": [
    "Quantitative"
   ]
  },
  {
   "cell_type": "markdown",
   "metadata": {},
   "source": [
    "- Correlation Pearson"
   ]
  },
  {
   "cell_type": "code",
   "execution_count": null,
   "metadata": {},
   "outputs": [],
   "source": [
    "correlation_pearson = df[cols_num].corr()\n",
    "correlation_pearson\n"
   ]
  },
  {
   "cell_type": "markdown",
   "metadata": {},
   "source": [
    "- Correlation Spearman"
   ]
  },
  {
   "cell_type": "code",
   "execution_count": null,
   "metadata": {},
   "outputs": [],
   "source": [
    "correlation_spearman = df[cols_num].corr(method='spearman')\n",
    "correlation_spearman"
   ]
  },
  {
   "cell_type": "markdown",
   "metadata": {},
   "source": [
    "Visuals/Qualitative"
   ]
  },
  {
   "cell_type": "markdown",
   "metadata": {},
   "source": [
    "- Heatmap of correlation"
   ]
  },
  {
   "cell_type": "markdown",
   "metadata": {},
   "source": [
    "Pearson"
   ]
  },
  {
   "cell_type": "code",
   "execution_count": null,
   "metadata": {},
   "outputs": [],
   "source": [
    "plt.figure(figsize=(10, 10))\n",
    "\n",
    "# Drawing the heatmap for the numerical columns\n",
    "sns.heatmap(correlation_pearson, annot=True, cmap=\"coolwarm\")\n",
    "\n",
    "plt.title(\"Correlation Heatmap for Numerical Variables, Method Pearson\")\n",
    "plt.show()"
   ]
  },
  {
   "cell_type": "markdown",
   "metadata": {},
   "source": [
    "Spearman"
   ]
  },
  {
   "cell_type": "code",
   "execution_count": null,
   "metadata": {},
   "outputs": [],
   "source": [
    "plt.figure(figsize=(10, 10))\n",
    "\n",
    "# Drawing the heatmap for the numerical columns\n",
    "sns.heatmap(correlation_spearman, annot=True, cmap=\"coolwarm\")\n",
    "\n",
    "plt.title(\"Correlation Heatmap for Numerical Variables, Method Spearman\")\n",
    "plt.show()"
   ]
  },
  {
   "cell_type": "markdown",
   "metadata": {},
   "source": [
    "- Pairplot"
   ]
  },
  {
   "cell_type": "code",
   "execution_count": null,
   "metadata": {},
   "outputs": [],
   "source": [
    "sns.pairplot(df[cols_num]);"
   ]
  },
  {
   "cell_type": "markdown",
   "metadata": {},
   "source": [
    "- Scatterplot"
   ]
  },
  {
   "cell_type": "markdown",
   "metadata": {},
   "source": [
    "Variable: \"repo_stars\""
   ]
  },
  {
   "cell_type": "code",
   "execution_count": null,
   "metadata": {},
   "outputs": [],
   "source": [
    "# for col in cols_num:\n",
    "#     plt.figure(figsize=(5, 5))\n",
    "#     plt.title('Scatter plot of SalePrice vs ' + col)\n",
    "#     sns.scatterplot(data=df, x=col, y='SalePrice')\n",
    "#     plt.show()\n",
    "\n",
    "fig, axes = plt.subplots(nrows = int(np.ceil(len(cols_num)/2)), ncols = 2, figsize = (10,8))\n",
    "axes = axes.flat\n",
    "\n",
    "for i,col in enumerate(df[cols_num].drop(columns=\"repo_stars\").columns):\n",
    "    sns.scatterplot(data=df,\n",
    "                    x=col,\n",
    "                    y='repo_stars',\n",
    "                    ax = axes[i]);\n",
    "    axes[i].set_title(col, fontsize = 10, fontweight = \"bold\", color = \"black\")\n",
    "    \n",
    "# fig.delaxes(axes[7])\n",
    "fig.suptitle(\"Scatterplot\", fontsize = 12, fontweight = \"bold\", color = \"darkblue\")\n",
    "fig.tight_layout()\n",
    "fig.show()"
   ]
  },
  {
   "cell_type": "markdown",
   "metadata": {},
   "source": [
    "- Joinplot"
   ]
  },
  {
   "cell_type": "markdown",
   "metadata": {},
   "source": []
  },
  {
   "cell_type": "markdown",
   "metadata": {},
   "source": []
  },
  {
   "cell_type": "code",
   "execution_count": null,
   "metadata": {},
   "outputs": [],
   "source": []
  },
  {
   "cell_type": "code",
   "execution_count": 262,
   "metadata": {},
   "outputs": [],
   "source": [
    "# # Discretizing 'ext_rating' into 3 categories\n",
    "# bins = [0, 1, 4, df[\"ext_rating\"].max()]\n",
    "# labels = [\"0\", \"1 - 3\", \"4 and above\"]\n",
    "# df[\"ext_rating_category\"] = pd.cut(df[\"ext_rating\"], bins=bins, labels=labels, include_lowest=True)\n",
    "# df[\"ext_rating_category\"].value_counts(normalize=True)"
   ]
  },
  {
   "cell_type": "code",
   "execution_count": 263,
   "metadata": {},
   "outputs": [],
   "source": [
    "# Discretizing 'ext_version' into 3 categories\n",
    "\n",
    "# bins = [0, 1, df[\"ext_version\"].max()]\n",
    "# labels = [\"0\", \"1 and above\"]\n",
    "# df[\"ext_version_category\"] = pd.cut(df[\"ext_version\"], bins=bins, labels=labels, include_lowest=True)\n",
    "# df[\"ext_version_category\"].value_counts(normalize=True)"
   ]
  },
  {
   "cell_type": "code",
   "execution_count": 264,
   "metadata": {},
   "outputs": [],
   "source": [
    "# df[\"total_vulners\"], power_install_count = boxcox(df[\"total_vulners\"])\n",
    "\n",
    "# print(power_install_count)\n",
    "\n",
    "# # Plotting the transformed distributions\n",
    "# plt.figure(figsize=(10,5))\n",
    "\n",
    "# # Box-Cox transformed 'LotArea'\n",
    "# sns.histplot(df[\"total_vulners\"], kde=True)\n",
    "# plt.title(\"Box-Cox Transformed total_vulners\")"
   ]
  },
  {
   "cell_type": "code",
   "execution_count": null,
   "metadata": {},
   "outputs": [],
   "source": [
    "df_eda = df.copy()\n",
    "df_eda.to_csv(config[\"data\"][\"clean\"][\"file_eda_cleaned\"],index=False)"
   ]
  }
 ],
 "metadata": {
  "kernelspec": {
   "display_name": "Final",
   "language": "python",
   "name": "python3"
  },
  "language_info": {
   "codemirror_mode": {
    "name": "ipython",
    "version": 3
   },
   "file_extension": ".py",
   "mimetype": "text/x-python",
   "name": "python",
   "nbconvert_exporter": "python",
   "pygments_lexer": "ipython3",
   "version": "3.13.5"
  }
 },
 "nbformat": 4,
 "nbformat_minor": 2
}

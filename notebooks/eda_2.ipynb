{
 "cells": [
  {
   "cell_type": "code",
   "execution_count": null,
   "metadata": {},
   "outputs": [],
   "source": [
    "# Data handling\n",
    "import numpy as np\n",
    "import pandas as pd\n",
    "import re\n",
    "\n",
    "# Data visualization\n",
    "import matplotlib.pyplot as plt\n",
    "import seaborn as sns\n",
    "import matplotlib.ticker as ticker\n",
    "%matplotlib inline\n",
    "\n",
    "# Stats\n",
    "from statsmodels.graphics.gofplots import qqplot\n",
    "import statsmodels.api as sm\n",
    "import scipy.stats as st\n",
    "from scipy.stats import shapiro, norm, chi2_contingency, kstest, boxcox\n",
    "\n",
    "# Preprocessing\n",
    "from sklearn.preprocessing import MinMaxScaler, StandardScaler\n",
    "from sklearn.preprocessing import OneHotEncoder,LabelEncoder, Normalizer\n",
    "\n",
    "\n",
    "#lib\n",
    "from lib.clean_data_functions import clean_ext_version, clean_ext_publisher, clean_repo_publisher\n",
    "\n",
    "#\n",
    "from ast import literal_eval\n",
    "from collections import Counter\n",
    "\n",
    "# os\n",
    "import os\n",
    "\n",
    "# time\n",
    "import time\n",
    "\n",
    "import warnings\n",
    "warnings.filterwarnings(\"ignore\")    # (Optional)\n",
    "\n",
    "print(\"Project has been created with Pandas: \" ,pd. __version__,\" And with Numpy: \",np. __version__)"
   ]
  },
  {
   "cell_type": "code",
   "execution_count": 371,
   "metadata": {},
   "outputs": [],
   "source": [
    "import yaml\n",
    "\n",
    "try:\n",
    "    with open(\"../config.yaml\", \"r\") as file:\n",
    "        config = yaml.safe_load(file)\n",
    "except:\n",
    "    print(\"Yaml configuration file not found!\")"
   ]
  },
  {
   "cell_type": "markdown",
   "metadata": {},
   "source": [
    "### 1. Loading"
   ]
  },
  {
   "cell_type": "code",
   "execution_count": null,
   "metadata": {},
   "outputs": [],
   "source": [
    "df = pd.read_csv(config[\"data\"][\"clean\"][\"file_data_cleaned\"])\n",
    "df.head()"
   ]
  },
  {
   "cell_type": "code",
   "execution_count": null,
   "metadata": {},
   "outputs": [],
   "source": [
    "print(f'The dataset has {df.shape[0]} rows and {df.shape[1]} columns')"
   ]
  },
  {
   "cell_type": "code",
   "execution_count": null,
   "metadata": {},
   "outputs": [],
   "source": [
    "df.info()"
   ]
  },
  {
   "cell_type": "markdown",
   "metadata": {},
   "source": [
    "#### Metadata:\n",
    "- **_verified_:**                 check, whether extension's security is breached         (boolean)\n",
    "- **_ext_categories_:**           categories of extension                                 (obj)   (multi values)\n",
    "- **_ext\\_install\\_count_:**      total number of installations of extension              (int64)\n",
    "- **_ext\\_rating_:**              rating of extension (avg of stars rating)               (float64)\n",
    "- **_repository_:**               url of repository                                       (obj)\n",
    "- **_total\\_vulners_:**           number of detected vulnerabilities                      (int64)\n",
    "- **_critical\\_vulners_:**        number of critical(severity) vulnerabilities            (int64)\n",
    "- **_high\\_vulners_:**            number of high(severity) vulnerabilities                (int64)\n",
    "- **_medium\\_vulners_:**          number of medium(severity) vulnerabilities              (int64)\n",
    "- **_low\\_vulners_:**             number of low(severity) vulnerabilities                 (int64)\n",
    "- **_repo\\_owner_:**              owner of repository (via column repository)             (obj)\n",
    "- **_repo\\_name_:**               name of repository (via column repository)              (obj)\n",
    "- **_repo\\_stars_:**              number of stars of repository (via column repository)   (int64)   \n",
    "- **_repo\\_forks_:**              number of forks of repository (via column repository)   (int64)   \n",
    "- **repo\\_languages:**            program languages used (via column repository)          (obj)   (multi values)\n"
   ]
  },
  {
   "cell_type": "markdown",
   "metadata": {},
   "source": []
  },
  {
   "cell_type": "markdown",
   "metadata": {},
   "source": [
    "### 3. Preprocessing"
   ]
  },
  {
   "cell_type": "code",
   "execution_count": null,
   "metadata": {},
   "outputs": [],
   "source": [
    "df.duplicated().sum()"
   ]
  },
  {
   "cell_type": "code",
   "execution_count": null,
   "metadata": {},
   "outputs": [],
   "source": [
    "# Filtering out columns in the dataframe where more than 80% of the values are missing\n",
    "df = df[df.columns[df.isnull().mean() < 0.8]]\n",
    "df"
   ]
  },
  {
   "cell_type": "code",
   "execution_count": 377,
   "metadata": {},
   "outputs": [],
   "source": [
    "# df[\"ext_categories\"] = df[\"ext_categories\"].str.split(';')\n",
    "# df[\"repo_languages\"] = df[\"repo_languages\"].str.split(';')\n",
    "\n",
    "# df = df.explode(\"ext_categories\")\n",
    "# df = df.explode(\"repo_languages\")"
   ]
  },
  {
   "cell_type": "code",
   "execution_count": 378,
   "metadata": {},
   "outputs": [],
   "source": [
    "multi_val_columns = [\"ext_categories\",\"repo_languages\" ]\n",
    "for col in multi_val_columns:\n",
    "    df[col] = df[col].str.split(\";\")\n",
    "    df = df.explode(col)"
   ]
  },
  {
   "cell_type": "code",
   "execution_count": null,
   "metadata": {},
   "outputs": [],
   "source": [
    "df.head()"
   ]
  },
  {
   "cell_type": "code",
   "execution_count": 380,
   "metadata": {},
   "outputs": [],
   "source": [
    "# categories_list = []\n",
    "# for items in df[\"ext_categories\"].values:\n",
    "#     for item in items:\n",
    "#         if item not in categories_list:\n",
    "#                     categories_list.append(item)"
   ]
  },
  {
   "cell_type": "code",
   "execution_count": 381,
   "metadata": {},
   "outputs": [],
   "source": [
    "df[\"repo_languages\"] = df[\"repo_languages\"].fillna(\"unknown\")"
   ]
  },
  {
   "cell_type": "code",
   "execution_count": null,
   "metadata": {},
   "outputs": [],
   "source": [
    "df = df.drop(columns=[\"repository\", \"repo_name\", \"repo_owner\"])\n",
    "df"
   ]
  },
  {
   "cell_type": "markdown",
   "metadata": {},
   "source": [
    "### 4. EDA"
   ]
  },
  {
   "cell_type": "code",
   "execution_count": 383,
   "metadata": {},
   "outputs": [],
   "source": [
    "cols_num = df.select_dtypes(include = [\"float\",\"int\"]).columns.to_list()\n",
    "cols_cat = df.select_dtypes(include = [\"object\", \"category\"]).columns.to_list()"
   ]
  },
  {
   "cell_type": "code",
   "execution_count": null,
   "metadata": {},
   "outputs": [],
   "source": [
    "cols_num"
   ]
  },
  {
   "cell_type": "code",
   "execution_count": null,
   "metadata": {},
   "outputs": [],
   "source": [
    "df[cols_num].nunique().sort_values(ascending=False)"
   ]
  },
  {
   "cell_type": "code",
   "execution_count": null,
   "metadata": {},
   "outputs": [],
   "source": [
    "df[cols_cat].nunique().sort_values(ascending=False)"
   ]
  },
  {
   "cell_type": "code",
   "execution_count": 387,
   "metadata": {},
   "outputs": [],
   "source": [
    "# potential_cate_from_num = df.select_dtypes(\"number\").loc[:, df.select_dtypes(\"number\").nunique() < 20]\n",
    "# potential_cate_from_num"
   ]
  },
  {
   "cell_type": "markdown",
   "metadata": {},
   "source": [
    "**_Insight_:**"
   ]
  },
  {
   "cell_type": "markdown",
   "metadata": {},
   "source": [
    "## Univariate Analysis"
   ]
  },
  {
   "cell_type": "markdown",
   "metadata": {},
   "source": [
    "### Categorical Variables"
   ]
  },
  {
   "cell_type": "markdown",
   "metadata": {},
   "source": [
    "**Quantitative:**"
   ]
  },
  {
   "cell_type": "code",
   "execution_count": null,
   "metadata": {},
   "outputs": [],
   "source": [
    "proportion_verified = df[\"verified\"].value_counts(normalize=True)\n",
    "proportion_verified"
   ]
  },
  {
   "cell_type": "code",
   "execution_count": null,
   "metadata": {},
   "outputs": [],
   "source": [
    "proportion_languages = df[\"repo_languages\"].value_counts(normalize=True)\n",
    "proportion_languages"
   ]
  },
  {
   "cell_type": "code",
   "execution_count": null,
   "metadata": {},
   "outputs": [],
   "source": [
    "proportion_categories = df[\"ext_categories\"].value_counts(normalize=True)\n",
    "proportion_categories"
   ]
  },
  {
   "cell_type": "markdown",
   "metadata": {},
   "source": [
    "**_Insight_:**"
   ]
  },
  {
   "cell_type": "markdown",
   "metadata": {},
   "source": [
    "**Visual/Qualitative:**"
   ]
  },
  {
   "cell_type": "markdown",
   "metadata": {},
   "source": [
    "Barchart"
   ]
  },
  {
   "cell_type": "code",
   "execution_count": 391,
   "metadata": {},
   "outputs": [],
   "source": [
    "#Alternative before using explode()\n",
    "\n",
    "# repo_languages = \"\"\n",
    "# for lang in df[\"repo_languages\"]:\n",
    "#     if not pd.isna(lang):\n",
    "#         repo_languages += lang + \";\"\n",
    "    \n",
    "# repo_languages_list = repo_languages.split(';')\n",
    "# repo_languages_set  = set(repo_languages_list)\n",
    "# repo_languages_counter=Counter(repo_languages_list)\n",
    "# repo_languages_counter_common = dict(repo_languages_counter.most_common(12))\n",
    "# repo_languages_counter\n",
    "\n",
    "# ext_categories = \"\"\n",
    "# for cate in df[\"ext_categories\"]:\n",
    "#     ext_categories += cate + \";\"\n",
    "\n",
    "# ext_categories_list = ext_categories.split(';')\n",
    "# ext_categories_set  = set(ext_categories_list)\n",
    "# ext_categories_counter=Counter(ext_categories_list) #Dict\n",
    "# ext_categories_counter_common = dict(ext_categories_counter.most_common(12))\n",
    "\n"
   ]
  },
  {
   "cell_type": "code",
   "execution_count": null,
   "metadata": {},
   "outputs": [],
   "source": [
    "#verified -> target\n",
    "ax=sns.barplot(x=proportion_verified.index, y=proportion_verified.values, palette=\"Set3\", hue=proportion_verified.index, legend=\"auto\" )"
   ]
  },
  {
   "cell_type": "markdown",
   "metadata": {},
   "source": [
    "**We have an imbalanced dataset on target** -> majority of extensions is not breached"
   ]
  },
  {
   "cell_type": "code",
   "execution_count": 393,
   "metadata": {},
   "outputs": [],
   "source": [
    "# proportion_languages_common = df[\"repo_languages\"].value_counts(normalize=True).head(12)\n",
    "# proportion_categories_common = df[\"ext_categories\"].value_counts(normalize=True).head(12)\n",
    "# ax=sns.barplot(y=proportion_languages_common.index, x=proportion_languages_common.values, palette=\"Set3\", hue=proportion_languages_common.index, legend=\"auto\" )\n",
    "# ax=sns.barplot(y=proportion_categories_common.index, x=proportion_categories_common.values, palette=\"Set3\", hue=proportion_categories_common.index, legend=\"auto\" )"
   ]
  },
  {
   "cell_type": "code",
   "execution_count": null,
   "metadata": {},
   "outputs": [],
   "source": [
    "fig, axes = plt.subplots(nrows = len(cols_cat), ncols = 1, figsize = (8, 10))\n",
    "axes = axes.flat\n",
    "\n",
    "for i,col in enumerate(df[cols_cat]):\n",
    "    proportion_common = df[col].value_counts(normalize=True).head(15)\n",
    "    sns.barplot(y=proportion_common.index,\n",
    "                x=proportion_common.values,\n",
    "                palette=\"Set3\",\n",
    "                hue=proportion_common.index,\n",
    "                legend=\"auto\",\n",
    "                ax=axes[i] )\n",
    "    \n",
    "    axes[i].set_title(f\"{col}\", fontsize = 9, color = \"blue\")\n",
    "    axes[i].set_xlabel(\"\")\n",
    "\n",
    "fig.suptitle(\"Barplots\", fontsize = 12, fontweight = \"bold\", color = \"darkblue\")\n",
    "fig.tight_layout()\n",
    "fig.show()\n"
   ]
  },
  {
   "cell_type": "markdown",
   "metadata": {},
   "source": [
    "**_Insight_:**"
   ]
  },
  {
   "cell_type": "markdown",
   "metadata": {},
   "source": [
    "### Numerical variables"
   ]
  },
  {
   "cell_type": "markdown",
   "metadata": {},
   "source": [
    "**Quantitative:**"
   ]
  },
  {
   "cell_type": "markdown",
   "metadata": {},
   "source": [
    "- Measurment of central tendency/dispersion"
   ]
  },
  {
   "cell_type": "code",
   "execution_count": null,
   "metadata": {},
   "outputs": [],
   "source": [
    "df.describe()"
   ]
  },
  {
   "cell_type": "code",
   "execution_count": null,
   "metadata": {},
   "outputs": [],
   "source": [
    "for col in cols_num:\n",
    "\n",
    "    print(\"==\" * 20)\n",
    "    print(f\"Variable: {col}\\n\")\n",
    "\n",
    "    print(\"--\" * 20)\n",
    "    print(f\"Measurements of central tendency:\")\n",
    "    print(\"--\" * 20)\n",
    "    print(f\"Mean = {df[col].mean()}\")\n",
    "    print(f\"Median = {df[col].median()}\")\n",
    "    print(f\"Mode = {df[col].mode()}\")\n",
    "    print(f\"\\n\")\n",
    "    print(\"--\" * 20)\n",
    "    print(f\"Measurements of central tendency:\")\n",
    "    print(\"--\" * 20)\n",
    "    print(f\"Var = {df[col].var()}\")\n",
    "    print(f\"Standard = {df[col].std()}\")\n",
    "    print(f\"Min = {df[col].min()}\")\n",
    "    print(f\"Max = {df[col].max()}\")\n",
    "    print(f\"Range = {df[col].max()-df[col].min()}\")\n",
    "\n",
    "    print(\"==\" * 20)\n",
    "    print ()\n",
    "    "
   ]
  },
  {
   "cell_type": "markdown",
   "metadata": {},
   "source": [
    "**_Insight_:**"
   ]
  },
  {
   "cell_type": "markdown",
   "metadata": {},
   "source": [
    "- Shape of distribution"
   ]
  },
  {
   "cell_type": "code",
   "execution_count": null,
   "metadata": {},
   "outputs": [],
   "source": [
    "for column in cols_num:\n",
    "    skewness_col = df[column].skew()\n",
    "    kurtosis_col = df[column].kurtosis()\n",
    "\n",
    "    print(\"==\" * 20)\n",
    "    print(f\"Variable: {column}\\n\")\n",
    "    print(f\"Skew = {skewness_col}\")\n",
    "    print(f\"Kurtosis = {kurtosis_col}\")\n",
    "    print(\"==\" * 20)\n",
    "\n",
    "    print ()"
   ]
  },
  {
   "cell_type": "markdown",
   "metadata": {},
   "source": [
    "**_Insight_:**"
   ]
  },
  {
   "cell_type": "markdown",
   "metadata": {},
   "source": [
    "- Statistical test: use K-S  test and not concern Shapiro due to large dataset"
   ]
  },
  {
   "cell_type": "code",
   "execution_count": null,
   "metadata": {},
   "outputs": [],
   "source": [
    "# standardized_saleprice = (df['SalePrice'] - df['SalePrice'].mean()) / df['SalePrice'].std()\n",
    "# ks_test_statistic, ks_p_value = kstest(standardized_saleprice, 'norm')\n",
    "\n",
    "# ks_test_statistic, ks_p_value\n",
    "\n",
    "# print the test result\n",
    "\n",
    "\n",
    "for col in cols_num:\n",
    "    standardized = (df[col] - df[col].mean()) / df[col].std()\n",
    "    ks_test_statistic, ks_p_value = kstest(standardized, 'norm')\n",
    "    print(\"==\" * 20)\n",
    "    print(f\"Variable: {col}\\n\")\n",
    "    print(f\"Test statistic = {ks_test_statistic: .2f}\")\n",
    "    print(f\"p_value = {ks_p_value: .2f}\")\n",
    "    print(\"\\n\")\n",
    "    if ks_p_value < 0.05:\n",
    "        print(f\"The distribution of '{col}' is significantly different from a normal distribution.\")\n",
    "    else:\n",
    "        print(f\"The distribution of '{col}'is NOT significantly different from a normal distribution.\")"
   ]
  },
  {
   "cell_type": "markdown",
   "metadata": {},
   "source": [
    "**Visual/Qualitative:**"
   ]
  },
  {
   "cell_type": "markdown",
   "metadata": {},
   "source": [
    "- Histplot: display the frequency distribution of a dataset. The height of each bar represents the number of data points in each bin."
   ]
  },
  {
   "cell_type": "code",
   "execution_count": null,
   "metadata": {},
   "outputs": [],
   "source": [
    "fig, axes = plt.subplots(nrows = int(np.ceil(len(cols_num)/2)), ncols = 2, figsize = (8, 10))\n",
    "axes = axes.flat\n",
    "\n",
    "for i,col in enumerate(cols_num):\n",
    "    sns.histplot(df[col],\n",
    "                 kde=True,\n",
    "                 bins=20,\n",
    "                 color=\"orange\",\n",
    "                 ax=axes[i])    \n",
    "    \n",
    "    axes[i].set_title(f\"{col}\", fontsize = 9, color = \"blue\")\n",
    "    axes[i].set_xlabel(\"\")\n",
    "\n",
    "fig.suptitle(\"Hisplots\", fontsize = 12, fontweight = \"bold\", color = \"darkblue\")\n",
    "fig.tight_layout()\n",
    "fig.show()"
   ]
  },
  {
   "cell_type": "markdown",
   "metadata": {},
   "source": [
    "**_Insight_:**"
   ]
  },
  {
   "cell_type": "markdown",
   "metadata": {},
   "source": [
    "- Histogram"
   ]
  },
  {
   "cell_type": "code",
   "execution_count": 400,
   "metadata": {},
   "outputs": [],
   "source": [
    "# df[cols_num].hist(figsize=(15, 20), bins=60, xlabelsize=10, ylabelsize=10);"
   ]
  },
  {
   "cell_type": "markdown",
   "metadata": {},
   "source": [
    "- Boxplot/Whisker plot: showcase the central 50% of the data (interquartile range), potential outliers, and other statistical properties."
   ]
  },
  {
   "cell_type": "code",
   "execution_count": 401,
   "metadata": {},
   "outputs": [],
   "source": [
    "# for column in cols_num:\n",
    "#     fig, ax = plt.subplots()#plt.subplots(nrows=1, ncols=2, figsize=(8, 4))\n",
    "\n",
    "#     sns.boxplot(y = df[column], color=\"lightblue\")\n",
    "#     ax.set_title(f\"Boxplot of {column}\")\n",
    "\n",
    "#     plt.show()\n",
    "    "
   ]
  },
  {
   "cell_type": "code",
   "execution_count": 417,
   "metadata": {},
   "outputs": [
    {
     "data": {
      "image/png": "[encoded data removed]",
      "text/plain": [
       "<Figure size 800x1000 with 10 Axes>"
      ]
     },
     "metadata": {},
     "output_type": "display_data"
    }
   ],
   "source": [
    "fig, axes = plt.subplots(nrows = int(np.ceil(len(cols_num)/2)), ncols = 2, figsize = (8,10))\n",
    "axes = axes.flat\n",
    "\n",
    "for i,col in enumerate(cols_num):\n",
    "    # sns.boxplot(y = df[col],\n",
    "    #             ax = axes[i])\n",
    "    sns.boxenplot(x=df[col],\n",
    "                  ax = axes[i])\n",
    "    \n",
    "    axes[i].set_title(f\"{col}\", fontsize = 9, color = \"blue\")\n",
    "    axes[i].set_xlabel('')\n",
    "\n",
    "fig.suptitle(\"Boxen-Plots\", fontsize = 12, fontweight = \"bold\", color = \"darkblue\")\n",
    "fig.tight_layout()\n",
    "fig.show()"
   ]
  },
  {
   "cell_type": "markdown",
   "metadata": {},
   "source": [
    "**_Insight_:**"
   ]
  },
  {
   "cell_type": "markdown",
   "metadata": {},
   "source": [
    "- QQ-Plot: visualize to help us assess if a dataset follows a particular theoretical distribution/ normal distribution"
   ]
  },
  {
   "cell_type": "code",
   "execution_count": null,
   "metadata": {},
   "outputs": [],
   "source": [
    "fig, axes = plt.subplots(nrows = int(np.ceil(len(cols_num)/2)), ncols = 2, figsize = (8,10))\n",
    "axes = axes.flat\n",
    "\n",
    "for i,col in enumerate(cols_num):\n",
    "    sm.qqplot(df[col], \n",
    "           line = \"s\", \n",
    "           ax = axes[i])\n",
    "    \n",
    "    axes[i].set_title(col, fontsize = 10, fontweight = \"bold\", color = \"black\")\n",
    "    \n",
    "# fig.delaxes(axes[7])\n",
    "fig.suptitle(\"QQ-Plots\", fontsize = 12, fontweight = \"bold\", color = \"darkblue\")\n",
    "fig.tight_layout()\n",
    "fig.show()\n"
   ]
  },
  {
   "cell_type": "markdown",
   "metadata": {},
   "source": [
    "**_Insight_:** ..."
   ]
  },
  {
   "cell_type": "markdown",
   "metadata": {},
   "source": [
    "- Binning"
   ]
  },
  {
   "cell_type": "code",
   "execution_count": null,
   "metadata": {},
   "outputs": [],
   "source": [
    "# # Discretizing 'ext_rating' into 3 categories\n",
    "bins = [0, 1, 4, df[\"ext_rating\"].max()]\n",
    "labels = [\"0\", \"1 - 3\", \"4 and above\"]\n",
    "df[\"ext_rating_category\"] = pd.cut(df[\"ext_rating\"], bins=bins, labels=labels, include_lowest=True)\n",
    "df[\"ext_rating_category\"].value_counts(normalize=True)"
   ]
  },
  {
   "cell_type": "code",
   "execution_count": null,
   "metadata": {},
   "outputs": [],
   "source": [
    "# Discretizing 'ext_version' into 3 categories\n",
    "\n",
    "bins = [0, 1, df[\"ext_version\"].max()]\n",
    "labels = [\"0\", \"1 and above\"]\n",
    "df[\"ext_version_category\"] = pd.cut(df[\"ext_version\"], bins=bins, labels=labels, include_lowest=True)\n",
    "df[\"ext_version_category\"].value_counts(normalize=True)"
   ]
  },
  {
   "cell_type": "markdown",
   "metadata": {},
   "source": [
    "### Outliers -> will be moved to Preprocessing not EDA"
   ]
  },
  {
   "cell_type": "markdown",
   "metadata": {},
   "source": [
    "**Outliers detection**"
   ]
  },
  {
   "cell_type": "code",
   "execution_count": 404,
   "metadata": {},
   "outputs": [],
   "source": [
    "def detect_iqr_outliers(df: pd.DataFrame, column):\n",
    "    out=[]\n",
    "    Q1 = df[column].quantile(0.25)\n",
    "    Q3 = df[column].quantile(0.75)\n",
    "    IQR = Q3 - Q1\n",
    "    lower_bound = Q1 - 1.5 * IQR\n",
    "    upper_bound = Q3 + 1.5 * IQR\n",
    "\n",
    "    for x in df[column]:\n",
    "        if x > upper_bound or x < lower_bound:\n",
    "            out.append(x)\n",
    "    return out"
   ]
  },
  {
   "cell_type": "code",
   "execution_count": null,
   "metadata": {},
   "outputs": [],
   "source": [
    "for col in cols_num:\n",
    "    print(f\" Total outliers in '{col}':  {len(detect_iqr_outliers(df, col))} \\n\")"
   ]
  },
  {
   "cell_type": "markdown",
   "metadata": {},
   "source": [
    "**Outliers removing**"
   ]
  },
  {
   "cell_type": "markdown",
   "metadata": {},
   "source": [
    "- IRQ-Outliers removing -> Delete observations, not gonna use it"
   ]
  },
  {
   "cell_type": "code",
   "execution_count": null,
   "metadata": {},
   "outputs": [],
   "source": [
    "# def remove_iqr_outliers(df: pd.DataFrame, column) -> pd.DataFrame:\n",
    "#     Q1 = df[column].quantile(0.25)\n",
    "#     Q3 = df[column].quantile(0.75)\n",
    "#     IQR = Q3 - Q1\n",
    "#     lower_bound = Q1 - 1.5 * IQR\n",
    "#     upper_bound = Q3 + 1.5 * IQR\n",
    "#     df = df[(df[column] >= lower_bound) & (df[column] <= upper_bound)]\n",
    "#     return df"
   ]
  },
  {
   "cell_type": "code",
   "execution_count": null,
   "metadata": {},
   "outputs": [],
   "source": [
    "cols_num"
   ]
  },
  {
   "cell_type": "markdown",
   "metadata": {},
   "source": [
    "- Transform "
   ]
  },
  {
   "cell_type": "code",
   "execution_count": null,
   "metadata": {},
   "outputs": [],
   "source": [
    "# Applying Box-Cox transformation to columns  with high skewness and positive values.\n",
    "df[\"ext_install_count\"], power_install_count = boxcox(df[\"ext_install_count\"])\n",
    "\n",
    "print(power_install_count)\n",
    "\n",
    "# Plotting the transformed distributions\n",
    "plt.figure(figsize=(10,5))\n",
    "\n",
    "# Box-Cox transformed 'LotArea'\n",
    "sns.histplot(df[\"ext_install_count\"], kde=True)\n",
    "plt.title(\"Box-Cox Transformed ext_install_count\")\n",
    "\n",
    "\n",
    "# converted_columns = [\"ext_rating\"]\n",
    "# for col in "
   ]
  },
  {
   "cell_type": "code",
   "execution_count": null,
   "metadata": {},
   "outputs": [],
   "source": [
    "df[\"total_vulners\"], power_install_count = boxcox(df[\"total_vulners\"])\n",
    "\n",
    "print(power_install_count)\n",
    "\n",
    "# Plotting the transformed distributions\n",
    "plt.figure(figsize=(10,5))\n",
    "\n",
    "# Box-Cox transformed 'LotArea'\n",
    "sns.histplot(df[\"total_vulners\"], kde=True)\n",
    "plt.title(\"Box-Cox Transformed total_vulners\")"
   ]
  }
 ],
 "metadata": {
  "kernelspec": {
   "display_name": "Final",
   "language": "python",
   "name": "python3"
  },
  "language_info": {
   "codemirror_mode": {
    "name": "ipython",
    "version": 3
   },
   "file_extension": ".py",
   "mimetype": "text/x-python",
   "name": "python",
   "nbconvert_exporter": "python",
   "pygments_lexer": "ipython3",
   "version": "3.13.5"
  }
 },
 "nbformat": 4,
 "nbformat_minor": 2
}

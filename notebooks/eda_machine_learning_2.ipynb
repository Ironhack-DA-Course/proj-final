{
 "cells": [
  {
   "cell_type": "code",
   "execution_count": 10,
   "metadata": {},
   "outputs": [
    {
     "name": "stdout",
     "output_type": "stream",
     "text": [
      "Project has been created with Pandas:  2.3.1  And with Numpy:  2.3.2\n"
     ]
    }
   ],
   "source": [
    "# Data handling\n",
    "import numpy as np\n",
    "import pandas as pd\n",
    "import re\n",
    "\n",
    "# Data visualization\n",
    "import matplotlib.pyplot as plt\n",
    "import seaborn as sns\n",
    "import matplotlib.ticker as ticker\n",
    "import graphviz\n",
    "import optuna\n",
    "import optuna.visualization as vis\n",
    "%matplotlib inline\n",
    "\n",
    "# Stats\n",
    "from statsmodels.graphics.gofplots import qqplot\n",
    "import statsmodels.api as sm\n",
    "import scipy.stats as st\n",
    "from scipy.stats import shapiro, norm, chi2_contingency\n",
    "\n",
    "# Preprocessing\n",
    "from sklearn.model_selection import train_test_split, cross_val_score, GridSearchCV, RandomizedSearchCV\n",
    "from sklearn.preprocessing import MinMaxScaler, StandardScaler\n",
    "from sklearn.preprocessing import OneHotEncoder\n",
    "from sklearn.compose import ColumnTransformer\n",
    "\n",
    "# Models\n",
    "from sklearn.linear_model import LinearRegression, LogisticRegression\n",
    "from sklearn.neighbors import KNeighborsRegressor,KNeighborsClassifier\n",
    "from sklearn.ensemble import BaggingRegressor, RandomForestRegressor,AdaBoostRegressor, GradientBoostingRegressor\n",
    "from sklearn.tree import DecisionTreeRegressor, export_graphviz\n",
    "\n",
    "# Metrics\n",
    "from sklearn.metrics import r2_score, mean_absolute_error, mean_squared_error, root_mean_squared_error\n",
    "\n",
    "#lib\n",
    "from lib.clean_data_functions import clean_ext_version, clean_ext_publisher, clean_repo_publisher\n",
    "\n",
    "#\n",
    "from wordcloud import WordCloud,STOPWORDS\n",
    "from ast import literal_eval\n",
    "from collections import Counter\n",
    "\n",
    "# os\n",
    "import os\n",
    "\n",
    "# time\n",
    "import time\n",
    "\n",
    "import warnings\n",
    "# warnings.filterwarnings(\"ignore\")    # (Optional)\n",
    "\n",
    "print(\"Project has been created with Pandas: \" ,pd. __version__,\" And with Numpy: \",np. __version__)"
   ]
  },
  {
   "cell_type": "code",
   "execution_count": 11,
   "metadata": {},
   "outputs": [],
   "source": [
    "import yaml\n",
    "\n",
    "try:\n",
    "    with open(\"../config.yaml\", \"r\") as file:\n",
    "        config = yaml.safe_load(file)\n",
    "except:\n",
    "    print(\"Yaml configuration file not found!\")"
   ]
  },
  {
   "cell_type": "markdown",
   "metadata": {},
   "source": [
    "### 1. Loading"
   ]
  },
  {
   "cell_type": "code",
   "execution_count": 12,
   "metadata": {},
   "outputs": [
    {
     "data": {
      "application/vnd.microsoft.datawrangler.viewer.v0+json": {
       "columns": [
        {
         "name": "index",
         "rawType": "int64",
         "type": "integer"
        },
        {
         "name": "ext_version",
         "rawType": "int64",
         "type": "integer"
        },
        {
         "name": "ext_categories",
         "rawType": "object",
         "type": "string"
        },
        {
         "name": "ext_install_count",
         "rawType": "int64",
         "type": "integer"
        },
        {
         "name": "ext_rating",
         "rawType": "float64",
         "type": "float"
        },
        {
         "name": "verified",
         "rawType": "bool",
         "type": "boolean"
        },
        {
         "name": "repository",
         "rawType": "object",
         "type": "string"
        },
        {
         "name": "total_vulners",
         "rawType": "int64",
         "type": "integer"
        },
        {
         "name": "critical__vulners",
         "rawType": "int64",
         "type": "integer"
        },
        {
         "name": "high__vulners",
         "rawType": "int64",
         "type": "integer"
        },
        {
         "name": "medium__vulners",
         "rawType": "int64",
         "type": "integer"
        },
        {
         "name": "low__vulners",
         "rawType": "int64",
         "type": "integer"
        },
        {
         "name": "repo_owner",
         "rawType": "object",
         "type": "string"
        },
        {
         "name": "repo_name",
         "rawType": "object",
         "type": "string"
        },
        {
         "name": "repo_stars",
         "rawType": "int64",
         "type": "integer"
        },
        {
         "name": "repo_forks",
         "rawType": "int64",
         "type": "integer"
        },
        {
         "name": "repo_languages",
         "rawType": "object",
         "type": "string"
        }
       ],
       "ref": "e9534840-33db-48aa-a405-f8f1bdeac1d4",
       "rows": [
        [
         "0",
         "2025",
         "programming languages;debuggers;data science;machine learning",
         "177844528",
         "4.19",
         "True",
         "https://github.com/Microsoft/vscode-python",
         "0",
         "0",
         "0",
         "0",
         "0",
         "Microsoft",
         "vscode-python",
         "4461",
         "1247",
         "typescript;python;javascript;jupyter notebook;shell;dockerfile"
        ],
        [
         "1",
         "2025",
         "programming languages",
         "146473811",
         "3.01",
         "True",
         "https://github.com/microsoft/pylance-release",
         "0",
         "0",
         "0",
         "0",
         "0",
         "microsoft",
         "pylance-release",
         "1882",
         "856",
         "python;jupyter notebook"
        ],
        [
         "2",
         "2025",
         "extension packs;data science;machine learning;visualization;notebooks",
         "93931981",
         "2.7",
         "True",
         "https://github.com/Microsoft/vscode-jupyter",
         "0",
         "0",
         "0",
         "0",
         "0",
         "Microsoft",
         "vscode-jupyter",
         "1401",
         "337",
         "typescript;python;jupyter notebook;javascript;shell;css;other"
        ],
        [
         "3",
         "1",
         "programming languages;snippets;linters;debuggers;formatters",
         "85413454",
         "3.43",
         "True",
         "https://github.com/Microsoft/vscode-cpptools",
         "11",
         "0",
         "0",
         "0",
         "11",
         "Microsoft",
         "vscode-cpptools",
         "5873",
         "1633",
         "typescript;c++;html;javascript"
        ],
        [
         "4",
         "1",
         "notebooks",
         "74084334",
         "4.0",
         "True",
         "https://github.com/Microsoft/vscode-jupyter-keymap",
         "17",
         "0",
         "0",
         "9",
         "8",
         "Microsoft",
         "vscode-jupyter-keymap",
         "32",
         "14",
         "unknown"
        ]
       ],
       "shape": {
        "columns": 16,
        "rows": 5
       }
      },
      "text/html": [
       "<div>\n",
       "<style scoped>\n",
       "    .dataframe tbody tr th:only-of-type {\n",
       "        vertical-align: middle;\n",
       "    }\n",
       "\n",
       "    .dataframe tbody tr th {\n",
       "        vertical-align: top;\n",
       "    }\n",
       "\n",
       "    .dataframe thead th {\n",
       "        text-align: right;\n",
       "    }\n",
       "</style>\n",
       "<table border=\"1\" class=\"dataframe\">\n",
       "  <thead>\n",
       "    <tr style=\"text-align: right;\">\n",
       "      <th></th>\n",
       "      <th>ext_version</th>\n",
       "      <th>ext_categories</th>\n",
       "      <th>ext_install_count</th>\n",
       "      <th>ext_rating</th>\n",
       "      <th>verified</th>\n",
       "      <th>repository</th>\n",
       "      <th>total_vulners</th>\n",
       "      <th>critical__vulners</th>\n",
       "      <th>high__vulners</th>\n",
       "      <th>medium__vulners</th>\n",
       "      <th>low__vulners</th>\n",
       "      <th>repo_owner</th>\n",
       "      <th>repo_name</th>\n",
       "      <th>repo_stars</th>\n",
       "      <th>repo_forks</th>\n",
       "      <th>repo_languages</th>\n",
       "    </tr>\n",
       "  </thead>\n",
       "  <tbody>\n",
       "    <tr>\n",
       "      <th>0</th>\n",
       "      <td>2025</td>\n",
       "      <td>programming languages;debuggers;data science;m...</td>\n",
       "      <td>177844528</td>\n",
       "      <td>4.19</td>\n",
       "      <td>True</td>\n",
       "      <td>https://github.com/Microsoft/vscode-python</td>\n",
       "      <td>0</td>\n",
       "      <td>0</td>\n",
       "      <td>0</td>\n",
       "      <td>0</td>\n",
       "      <td>0</td>\n",
       "      <td>Microsoft</td>\n",
       "      <td>vscode-python</td>\n",
       "      <td>4461</td>\n",
       "      <td>1247</td>\n",
       "      <td>typescript;python;javascript;jupyter notebook;...</td>\n",
       "    </tr>\n",
       "    <tr>\n",
       "      <th>1</th>\n",
       "      <td>2025</td>\n",
       "      <td>programming languages</td>\n",
       "      <td>146473811</td>\n",
       "      <td>3.01</td>\n",
       "      <td>True</td>\n",
       "      <td>https://github.com/microsoft/pylance-release</td>\n",
       "      <td>0</td>\n",
       "      <td>0</td>\n",
       "      <td>0</td>\n",
       "      <td>0</td>\n",
       "      <td>0</td>\n",
       "      <td>microsoft</td>\n",
       "      <td>pylance-release</td>\n",
       "      <td>1882</td>\n",
       "      <td>856</td>\n",
       "      <td>python;jupyter notebook</td>\n",
       "    </tr>\n",
       "    <tr>\n",
       "      <th>2</th>\n",
       "      <td>2025</td>\n",
       "      <td>extension packs;data science;machine learning;...</td>\n",
       "      <td>93931981</td>\n",
       "      <td>2.70</td>\n",
       "      <td>True</td>\n",
       "      <td>https://github.com/Microsoft/vscode-jupyter</td>\n",
       "      <td>0</td>\n",
       "      <td>0</td>\n",
       "      <td>0</td>\n",
       "      <td>0</td>\n",
       "      <td>0</td>\n",
       "      <td>Microsoft</td>\n",
       "      <td>vscode-jupyter</td>\n",
       "      <td>1401</td>\n",
       "      <td>337</td>\n",
       "      <td>typescript;python;jupyter notebook;javascript;...</td>\n",
       "    </tr>\n",
       "    <tr>\n",
       "      <th>3</th>\n",
       "      <td>1</td>\n",
       "      <td>programming languages;snippets;linters;debugge...</td>\n",
       "      <td>85413454</td>\n",
       "      <td>3.43</td>\n",
       "      <td>True</td>\n",
       "      <td>https://github.com/Microsoft/vscode-cpptools</td>\n",
       "      <td>11</td>\n",
       "      <td>0</td>\n",
       "      <td>0</td>\n",
       "      <td>0</td>\n",
       "      <td>11</td>\n",
       "      <td>Microsoft</td>\n",
       "      <td>vscode-cpptools</td>\n",
       "      <td>5873</td>\n",
       "      <td>1633</td>\n",
       "      <td>typescript;c++;html;javascript</td>\n",
       "    </tr>\n",
       "    <tr>\n",
       "      <th>4</th>\n",
       "      <td>1</td>\n",
       "      <td>notebooks</td>\n",
       "      <td>74084334</td>\n",
       "      <td>4.00</td>\n",
       "      <td>True</td>\n",
       "      <td>https://github.com/Microsoft/vscode-jupyter-ke...</td>\n",
       "      <td>17</td>\n",
       "      <td>0</td>\n",
       "      <td>0</td>\n",
       "      <td>9</td>\n",
       "      <td>8</td>\n",
       "      <td>Microsoft</td>\n",
       "      <td>vscode-jupyter-keymap</td>\n",
       "      <td>32</td>\n",
       "      <td>14</td>\n",
       "      <td>unknown</td>\n",
       "    </tr>\n",
       "  </tbody>\n",
       "</table>\n",
       "</div>"
      ],
      "text/plain": [
       "   ext_version                                     ext_categories  \\\n",
       "0         2025  programming languages;debuggers;data science;m...   \n",
       "1         2025                              programming languages   \n",
       "2         2025  extension packs;data science;machine learning;...   \n",
       "3            1  programming languages;snippets;linters;debugge...   \n",
       "4            1                                          notebooks   \n",
       "\n",
       "   ext_install_count  ext_rating  verified  \\\n",
       "0          177844528        4.19      True   \n",
       "1          146473811        3.01      True   \n",
       "2           93931981        2.70      True   \n",
       "3           85413454        3.43      True   \n",
       "4           74084334        4.00      True   \n",
       "\n",
       "                                          repository  total_vulners  \\\n",
       "0         https://github.com/Microsoft/vscode-python              0   \n",
       "1       https://github.com/microsoft/pylance-release              0   \n",
       "2        https://github.com/Microsoft/vscode-jupyter              0   \n",
       "3       https://github.com/Microsoft/vscode-cpptools             11   \n",
       "4  https://github.com/Microsoft/vscode-jupyter-ke...             17   \n",
       "\n",
       "   critical__vulners  high__vulners  medium__vulners  low__vulners repo_owner  \\\n",
       "0                  0              0                0             0  Microsoft   \n",
       "1                  0              0                0             0  microsoft   \n",
       "2                  0              0                0             0  Microsoft   \n",
       "3                  0              0                0            11  Microsoft   \n",
       "4                  0              0                9             8  Microsoft   \n",
       "\n",
       "               repo_name  repo_stars  repo_forks  \\\n",
       "0          vscode-python        4461        1247   \n",
       "1        pylance-release        1882         856   \n",
       "2         vscode-jupyter        1401         337   \n",
       "3        vscode-cpptools        5873        1633   \n",
       "4  vscode-jupyter-keymap          32          14   \n",
       "\n",
       "                                      repo_languages  \n",
       "0  typescript;python;javascript;jupyter notebook;...  \n",
       "1                            python;jupyter notebook  \n",
       "2  typescript;python;jupyter notebook;javascript;...  \n",
       "3                     typescript;c++;html;javascript  \n",
       "4                                            unknown  "
      ]
     },
     "execution_count": 12,
     "metadata": {},
     "output_type": "execute_result"
    }
   ],
   "source": [
    "df = pd.read_csv(config[\"data\"][\"clean\"][\"file_data_cleaned\"])\n",
    "# df.head()"
   ]
  },
  {
   "cell_type": "code",
   "execution_count": 13,
   "metadata": {},
   "outputs": [
    {
     "name": "stdout",
     "output_type": "stream",
     "text": [
      "The dataset has 19553 rows and 16 columns\n"
     ]
    }
   ],
   "source": [
    "print(f'The dataset has {df.shape[0]} rows and {df.shape[1]} columns')"
   ]
  },
  {
   "cell_type": "code",
   "execution_count": 14,
   "metadata": {},
   "outputs": [
    {
     "name": "stdout",
     "output_type": "stream",
     "text": [
      "<class 'pandas.core.frame.DataFrame'>\n",
      "RangeIndex: 19553 entries, 0 to 19552\n",
      "Data columns (total 16 columns):\n",
      " #   Column             Non-Null Count  Dtype  \n",
      "---  ------             --------------  -----  \n",
      " 0   ext_version        19553 non-null  int64  \n",
      " 1   ext_categories     19553 non-null  object \n",
      " 2   ext_install_count  19553 non-null  int64  \n",
      " 3   ext_rating         19553 non-null  float64\n",
      " 4   verified           19553 non-null  bool   \n",
      " 5   repository         19553 non-null  object \n",
      " 6   total_vulners      19553 non-null  int64  \n",
      " 7   critical__vulners  19553 non-null  int64  \n",
      " 8   high__vulners      19553 non-null  int64  \n",
      " 9   medium__vulners    19553 non-null  int64  \n",
      " 10  low__vulners       19553 non-null  int64  \n",
      " 11  repo_owner         19553 non-null  object \n",
      " 12  repo_name          19553 non-null  object \n",
      " 13  repo_stars         19553 non-null  int64  \n",
      " 14  repo_forks         19553 non-null  int64  \n",
      " 15  repo_languages     18313 non-null  object \n",
      "dtypes: bool(1), float64(1), int64(9), object(5)\n",
      "memory usage: 2.3+ MB\n"
     ]
    }
   ],
   "source": [
    "df.info()"
   ]
  },
  {
   "cell_type": "markdown",
   "metadata": {},
   "source": [
    "#### Metadata:\n",
    "- **_verified_:**                 check, whether extension's security is breached         (boolean)\n",
    "- **_ext_categories_:**           categories of extension                                 (obj)   (multi values)\n",
    "- **_ext\\_install\\_count_:**      total number of installations of extension              (int64)\n",
    "- **_ext\\_rating_:**              rating of extension (avg of stars rating)               (float64)\n",
    "- **_repository_:**               url of repository                                       (obj)\n",
    "- **_total\\_vulners_:**           number of detected vulnerabilities                      (int64)\n",
    "- **_critical\\_vulners_:**        number of critical(severity) vulnerabilities            (int64)\n",
    "- **_high\\_vulners_:**            number of high(severity) vulnerabilities                (int64)\n",
    "- **_medium\\_vulners_:**          number of medium(severity) vulnerabilities              (int64)\n",
    "- **_low\\_vulners_:**             number of low(severity) vulnerabilities                 (int64)\n",
    "- **_repo\\_owner_:**              owner of repository (via column repository)             (obj)\n",
    "- **_repo\\_name_:**               name of repository (via column repository)              (obj)\n",
    "- **_repo\\_stars_:**              number of stars of repository (via column repository)   (int64)   \n",
    "- **_repo\\_forks_:**              number of forks of repository (via column repository)   (int64)   \n",
    "- **repo\\_languages:**            program languages used (via column repository)          (obj)   (multi values)\n"
   ]
  },
  {
   "cell_type": "markdown",
   "metadata": {},
   "source": [
    "### 3. EDA"
   ]
  },
  {
   "cell_type": "code",
   "execution_count": 15,
   "metadata": {},
   "outputs": [],
   "source": [
    "# cols_num = df.select_dtypes(include = ['float','int']).columns.to_list()\n",
    "# cols_cat = df.select_dtypes(include = ['object', 'category']).columns.to_list()"
   ]
  },
  {
   "cell_type": "code",
   "execution_count": 16,
   "metadata": {},
   "outputs": [],
   "source": [
    "# df.select_dtypes(\"number\").nunique().sort_values(ascending=False)"
   ]
  },
  {
   "cell_type": "code",
   "execution_count": 17,
   "metadata": {},
   "outputs": [],
   "source": [
    "# df.select_dtypes(exclude=\"number\").nunique().sort_values(ascending=False)"
   ]
  },
  {
   "cell_type": "code",
   "execution_count": 18,
   "metadata": {},
   "outputs": [],
   "source": [
    "# languages_counter=Counter(languages_list)\n",
    "# languages_counter.most_common(12)"
   ]
  }
 ],
 "metadata": {
  "kernelspec": {
   "display_name": "Final",
   "language": "python",
   "name": "python3"
  },
  "language_info": {
   "codemirror_mode": {
    "name": "ipython",
    "version": 3
   },
   "file_extension": ".py",
   "mimetype": "text/x-python",
   "name": "python",
   "nbconvert_exporter": "python",
   "pygments_lexer": "ipython3",
   "version": "3.13.5"
  }
 },
 "nbformat": 4,
 "nbformat_minor": 2
}

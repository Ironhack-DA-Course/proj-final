{
 "cells": [
  {
   "cell_type": "code",
   "execution_count": 36,
   "metadata": {},
   "outputs": [],
   "source": [
    "# Data handling\n",
    "import numpy as np\n",
    "import pandas as pd\n",
    "import re\n",
    "\n",
    "# Data visualization\n",
    "import matplotlib.pyplot as plt\n",
    "import seaborn as sns\n",
    "import matplotlib.ticker as ticker\n",
    "import graphviz\n",
    "import optuna\n",
    "import optuna.visualization as vis\n",
    "%matplotlib inline\n",
    "\n",
    "# Stats\n",
    "from statsmodels.graphics.gofplots import qqplot\n",
    "import statsmodels.api as sm\n",
    "import scipy.stats as st\n",
    "from scipy.stats import shapiro, norm, chi2_contingency\n",
    "\n",
    "# Preprocessing\n",
    "from sklearn.model_selection import train_test_split, cross_val_score, GridSearchCV, RandomizedSearchCV\n",
    "from sklearn.preprocessing import MinMaxScaler, StandardScaler\n",
    "from sklearn.preprocessing import OneHotEncoder\n",
    "from sklearn.compose import ColumnTransformer\n",
    "\n",
    "# Models\n",
    "from sklearn.linear_model import LinearRegression, LogisticRegression\n",
    "from sklearn.neighbors import KNeighborsRegressor,KNeighborsClassifier\n",
    "from sklearn.ensemble import BaggingRegressor, RandomForestRegressor,AdaBoostRegressor, GradientBoostingRegressor\n",
    "from sklearn.tree import DecisionTreeRegressor, export_graphviz\n",
    "\n",
    "# Metrics\n",
    "from sklearn.metrics import r2_score, mean_absolute_error, mean_squared_error, root_mean_squared_error\n",
    "\n",
    "#lib\n",
    "from lib.clean_data_functions import clean_ext_version\n",
    "\n",
    "#List\n",
    "from wordcloud import WordCloud,STOPWORDS\n",
    "from ast import literal_eval\n",
    "\n",
    "# os\n",
    "import os\n",
    "\n",
    "# time\n",
    "import time\n",
    "\n",
    "# warnings\n",
    "import warnings\n",
    "warnings.filterwarnings('ignore')"
   ]
  },
  {
   "cell_type": "code",
   "execution_count": 37,
   "metadata": {},
   "outputs": [],
   "source": [
    "import yaml\n",
    "\n",
    "try:\n",
    "    with open(\"../config.yaml\", \"r\") as file:\n",
    "        config = yaml.safe_load(file)\n",
    "except:\n",
    "    print(\"Yaml configuration file not found!\")"
   ]
  },
  {
   "cell_type": "markdown",
   "metadata": {},
   "source": [
    "### 1. Loading"
   ]
  },
  {
   "cell_type": "code",
   "execution_count": null,
   "metadata": {},
   "outputs": [],
   "source": [
    "df = pd.read_csv(config[\"data\"][\"raw\"][\"file_ext_repo\"])\n",
    "# df = df.sort_values(by = [\"ext_install_count\", \"ext_rating\"], ascending= False)\n",
    "df.head()"
   ]
  },
  {
   "cell_type": "code",
   "execution_count": null,
   "metadata": {},
   "outputs": [],
   "source": [
    "print(f'The dataset has {df.shape[0]} rows and {df.shape[1]} columns')"
   ]
  },
  {
   "cell_type": "code",
   "execution_count": null,
   "metadata": {},
   "outputs": [],
   "source": [
    "df.info()"
   ]
  },
  {
   "cell_type": "markdown",
   "metadata": {},
   "source": [
    "#### Metadata:\n",
    "- **_verified_:**                 check, whether extension's security is breached         (boolean)\n",
    "- **_ext_name_:**                 name of extension                                       (obj)\n",
    "- **_ext_publisher_:**            name of extension'S publisher                           (obj)\n",
    "- **_ext_version_:**              current version of extension                            (obj)\n",
    "- **_ext_categories_:**           categories of extension                                 (obj)   (multi values)\n",
    "- **_ext_tags_:**                 keywords related to extension                           (obj)   (multi values)\n",
    "- **_ext\\_install\\_count_:**      total number of installations of extension              (int64)\n",
    "- **_ext\\_rating_:**              rating of extension (avg of stars rating)               (float64)\n",
    "- **_ext\\_last\\_updated_:**       timestamp of last update                                (obj)\n",
    "- **_repo_publisher_:**           publisher of extension                                  (obj)\n",
    "- **_repository_:**               url of repository                                       (obj)\n",
    "- **_total_vulnerabilities_:**    number of detected vulnerabilities                      (int64)\n",
    "- **_critical_:**                 number of critical(severity) vulnerabilities            (int64)\n",
    "- **_high_:**                     number of high(severity) vulnerabilities                (int64)\n",
    "- **_medium_:**                   number of medium(severity) vulnerabilities              (int64)\n",
    "- **_low_:**                      number of low(severity) vulnerabilities                 (int64)\n",
    "- **_repo\\_owner_:**              owner of repository (via column repository)             (obj)\n",
    "- **_repo\\_name_:**               name of repository (via column repository)              (obj)\n",
    "- **_repo\\_stars_:**              number of stars of repository (via column repository)   (int64)   \n",
    "- **_repo\\_forks_:**              number of forks of repository (via column repository)   (int64)   \n",
    "- **_language_:**                 program languages used (via column repository)          (obj)   (multi values)\n",
    "- **_topics_:**                   keywords related to repository (via column repository)  (obj)   (multi values)\n",
    "- **_error_:**                    log of fetching repository                              (obj)\n"
   ]
  },
  {
   "cell_type": "markdown",
   "metadata": {},
   "source": [
    "### 2. Cleaning"
   ]
  },
  {
   "cell_type": "code",
   "execution_count": null,
   "metadata": {},
   "outputs": [],
   "source": [
    "# Check missing values\n",
    "df.isna().sum()"
   ]
  },
  {
   "cell_type": "markdown",
   "metadata": {},
   "source": [
    "- Remove record with values (not null) in \"error\" column due to unavailability of repository"
   ]
  },
  {
   "cell_type": "code",
   "execution_count": null,
   "metadata": {},
   "outputs": [],
   "source": [
    "df = df[df[\"error\"].isna()]\n",
    "print(f\"After removing extensions with unavailable repository, the dataset has {df.shape[0]} rows and {df.shape[1]} columns\")"
   ]
  },
  {
   "cell_type": "markdown",
   "metadata": {},
   "source": [
    "#### Clean columns"
   ]
  },
  {
   "cell_type": "markdown",
   "metadata": {},
   "source": [
    "- Rename and remove columns for noises and avoiding of overfit [\"ext\\_tags\", \"repo\\_publisher\", \"error\"]"
   ]
  },
  {
   "cell_type": "code",
   "execution_count": 43,
   "metadata": {},
   "outputs": [],
   "source": [
    "# Use  \"repo\\_owner\" over \"repo\\_publisher\" due to correctness from fetching infos directly)\n",
    "df = df.drop(columns=[\"ext_tags\", \"ext_last_updated\", \"repo_publisher\", \"error\"]).rename(columns={\"total_vulnerabilities\": \"total_vulners\", \"critical\": \"critical__vulners\", \"high\": \"high__vulners\", \"medium\": \"medium__vulners\", \"low\": \"low__vulners\", \"language\": \"repo_languages\", \"topics\": \"repo_topics\"})"
   ]
  },
  {
   "cell_type": "code",
   "execution_count": null,
   "metadata": {},
   "outputs": [],
   "source": [
    "df"
   ]
  },
  {
   "cell_type": "code",
   "execution_count": null,
   "metadata": {},
   "outputs": [],
   "source": [
    "df.info()"
   ]
  },
  {
   "cell_type": "code",
   "execution_count": 46,
   "metadata": {},
   "outputs": [],
   "source": [
    "df[\"ext_version\"] = df[\"ext_version\"].apply(clean_ext_version)\n",
    "df['ext_version'] = pd.to_numeric(df['ext_version'], errors=\"coerce\")"
   ]
  },
  {
   "cell_type": "code",
   "execution_count": null,
   "metadata": {},
   "outputs": [],
   "source": [
    "df[\"ext_version\"].value_counts()"
   ]
  },
  {
   "cell_type": "code",
   "execution_count": null,
   "metadata": {},
   "outputs": [],
   "source": [
    "# df[(df[\"ext_version\"] > 10) & (df[\"ext_rating\"] == 0) & (df[\"ext_install_count\"] < 100) & (df[\"repo_stars\"] < 10)]\n",
    "df[(df[\"ext_rating\"] == 0) & (df[\"ext_install_count\"] < 10) & (df[\"repo_stars\"] < 10)]"
   ]
  },
  {
   "cell_type": "code",
   "execution_count": 30,
   "metadata": {},
   "outputs": [],
   "source": [
    "cols_num = df.select_dtypes(include = ['float','int']).columns.to_list()\n",
    "cols_cat = df.select_dtypes(include = ['object', 'category']).columns.to_list()"
   ]
  },
  {
   "cell_type": "code",
   "execution_count": null,
   "metadata": {},
   "outputs": [],
   "source": [
    "# df['repo_topics'] = df['repo_topics'].apply(lambda x: literal_eval(x) if pd.notna(x) else [])\n",
    "# df['repo_topics'] = df['repo_topics'].apply(lambda x: ', '.join(map(str, x)) if x else \"Unknown\")"
   ]
  },
  {
   "cell_type": "markdown",
   "metadata": {},
   "source": [
    "Check duplicated and remove"
   ]
  },
  {
   "cell_type": "markdown",
   "metadata": {},
   "source": [
    "Clean column names and remove columns"
   ]
  },
  {
   "cell_type": "markdown",
   "metadata": {},
   "source": [
    "Check null values and drop na"
   ]
  },
  {
   "cell_type": "markdown",
   "metadata": {},
   "source": [
    "Check values in column"
   ]
  },
  {
   "cell_type": "markdown",
   "metadata": {},
   "source": [
    "### 3. EDA"
   ]
  },
  {
   "cell_type": "code",
   "execution_count": null,
   "metadata": {},
   "outputs": [],
   "source": []
  }
 ],
 "metadata": {
  "kernelspec": {
   "display_name": "Final",
   "language": "python",
   "name": "python3"
  },
  "language_info": {
   "codemirror_mode": {
    "name": "ipython",
    "version": 3
   },
   "file_extension": ".py",
   "mimetype": "text/x-python",
   "name": "python",
   "nbconvert_exporter": "python",
   "pygments_lexer": "ipython3",
   "version": "3.13.5"
  }
 },
 "nbformat": 4,
 "nbformat_minor": 2
}

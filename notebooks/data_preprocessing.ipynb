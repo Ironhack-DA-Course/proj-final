{
 "cells": [
  {
   "cell_type": "code",
   "execution_count": 1,
   "metadata": {},
   "outputs": [],
   "source": [
    "# Data handling\n",
    "import numpy as np\n",
    "import pandas as pd\n",
    "import re\n",
    "\n",
    "# Data visualization\n",
    "import matplotlib.pyplot as plt\n",
    "import seaborn as sns\n",
    "import matplotlib.ticker as ticker\n",
    "import graphviz\n",
    "import optuna\n",
    "import optuna.visualization as vis\n",
    "%matplotlib inline\n",
    "\n",
    "# Stats\n",
    "from statsmodels.graphics.gofplots import qqplot\n",
    "import statsmodels.api as sm\n",
    "import scipy.stats as st\n",
    "from scipy.stats import shapiro, norm, chi2_contingency\n",
    "\n",
    "# Preprocessing\n",
    "from sklearn.model_selection import train_test_split, cross_val_score, GridSearchCV, RandomizedSearchCV\n",
    "from sklearn.preprocessing import MinMaxScaler, StandardScaler\n",
    "from sklearn.preprocessing import OneHotEncoder\n",
    "from sklearn.compose import ColumnTransformer\n",
    "\n",
    "# Models\n",
    "from sklearn.linear_model import LinearRegression, LogisticRegression\n",
    "from sklearn.neighbors import KNeighborsRegressor,KNeighborsClassifier\n",
    "from sklearn.ensemble import BaggingRegressor, RandomForestRegressor,AdaBoostRegressor, GradientBoostingRegressor\n",
    "from sklearn.tree import DecisionTreeRegressor, export_graphviz\n",
    "\n",
    "# Metrics\n",
    "from sklearn.metrics import r2_score, mean_absolute_error, mean_squared_error, root_mean_squared_error\n",
    "\n",
    "# typing\n",
    "from typing import Dict,List\n",
    "\n",
    "# os\n",
    "import os\n",
    "\n",
    "# time\n",
    "import time\n",
    "\n",
    "# warnings\n",
    "import warnings\n",
    "warnings.filterwarnings('ignore')"
   ]
  },
  {
   "cell_type": "code",
   "execution_count": 2,
   "metadata": {},
   "outputs": [],
   "source": [
    "import yaml\n",
    "\n",
    "try:\n",
    "    with open(\"../config.yaml\", \"r\") as file:\n",
    "        config = yaml.safe_load(file)\n",
    "except:\n",
    "    print(\"Yaml configuration file not found!\")"
   ]
  },
  {
   "cell_type": "markdown",
   "metadata": {},
   "source": [
    "### 1. Loading"
   ]
  },
  {
   "cell_type": "code",
   "execution_count": 7,
   "metadata": {},
   "outputs": [
    {
     "data": {
      "application/vnd.microsoft.datawrangler.viewer.v0+json": {
       "columns": [
        {
         "name": "index",
         "rawType": "int64",
         "type": "integer"
        },
        {
         "name": "verified",
         "rawType": "bool",
         "type": "boolean"
        },
        {
         "name": "ext_name",
         "rawType": "object",
         "type": "string"
        },
        {
         "name": "ext_publisher",
         "rawType": "object",
         "type": "string"
        },
        {
         "name": "ext_version",
         "rawType": "object",
         "type": "string"
        },
        {
         "name": "ext_categories",
         "rawType": "object",
         "type": "string"
        },
        {
         "name": "ext_tags",
         "rawType": "object",
         "type": "string"
        },
        {
         "name": "ext_install_count",
         "rawType": "int64",
         "type": "integer"
        },
        {
         "name": "ext_rating",
         "rawType": "float64",
         "type": "float"
        },
        {
         "name": "ext_last_updated",
         "rawType": "object",
         "type": "string"
        },
        {
         "name": "repo_publisher",
         "rawType": "object",
         "type": "string"
        },
        {
         "name": "repository",
         "rawType": "object",
         "type": "string"
        },
        {
         "name": "total_vulnerabilities",
         "rawType": "int64",
         "type": "integer"
        },
        {
         "name": "critical",
         "rawType": "int64",
         "type": "integer"
        },
        {
         "name": "high",
         "rawType": "int64",
         "type": "integer"
        },
        {
         "name": "medium",
         "rawType": "int64",
         "type": "integer"
        },
        {
         "name": "low",
         "rawType": "int64",
         "type": "integer"
        },
        {
         "name": "repo_owner",
         "rawType": "object",
         "type": "string"
        },
        {
         "name": "repo_name",
         "rawType": "object",
         "type": "string"
        },
        {
         "name": "repo_stars",
         "rawType": "int64",
         "type": "integer"
        },
        {
         "name": "repo_forks",
         "rawType": "int64",
         "type": "integer"
        },
        {
         "name": "language",
         "rawType": "object",
         "type": "string"
        },
        {
         "name": "topics",
         "rawType": "object",
         "type": "string"
        }
       ],
       "ref": "56c50cc3-c729-499b-87b2-587067163866",
       "rows": [
        [
         "0",
         "True",
         "Python",
         "ms-python",
         "2025.11.2025072901",
         "Programming Languages;Debuggers;Data Science;Machine Learning",
         "__ext_j2;__ext_jinja2;__web_extension;debuggers;django;ini;jinja;json;keybindings;language-model-tools;linters;multi-root ready;piprequirements;pip-requirements;python;requirements.txt;toml;tools;unittest;yaml",
         "177844528",
         "4.192868719611021",
         "2025-07-29T10:50:24.31Z",
         "Microsoft",
         "https://github.com/Microsoft/vscode-python",
         "0",
         "0",
         "0",
         "0",
         "0",
         "Microsoft",
         "vscode-python",
         "4",
         "1",
         "[]",
         "[]"
        ],
        [
         "1",
         "True",
         "Pylance",
         "ms-python",
         "2025.7.100",
         "Programming Languages",
         "__web_extension;json;python",
         "146473811",
         "3.0077219009399414",
         "2025-07-30T23:10:58.657Z",
         "Microsoft",
         "https://github.com/microsoft/pylance-release",
         "0",
         "0",
         "0",
         "0",
         "0",
         "microsoft",
         "pylance-release",
         "1",
         "856",
         "[\"Python\",\"Jupyter Notebook\"]",
         "[\"python\",\"language-server\",\"code-analysis\",\"language-server-protocol\"]"
        ],
        [
         "2",
         "True",
         "Jupyter",
         "ms-toolsai",
         "2025.7.2025073101",
         "Extension Packs;Data Science;Machine Learning;Visualization;Notebooks",
         "__ext_jl;__web_extension;debuggers;interactive;julia;jupyter;keybindings;language-model-tools;multi-root ready;notebook;notebookKernelJupyterNotebook;python;raw;tools",
         "93931981",
         "2.700598717",
         "2025-07-31T09:54:06Z",
         "Microsoft",
         "https://github.com/Microsoft/vscode-jupyter",
         "0",
         "0",
         "0",
         "0",
         "0",
         "Microsoft",
         "vscode-jupyter",
         "1",
         "337",
         "[\"TypeScript\",\"Python\",\"Jupyter Notebook\",\"JavaScript\",\"Shell\",\"CSS\"]",
         "[\"machine-learning\",\"jupyter\",\"vscode\",\"datascience\",\"vscode-extension\"]"
        ],
        [
         "3",
         "True",
         "C/C++",
         "ms-vscode",
         "1.26.3",
         "Programming Languages;Snippets;Linters;Debuggers;Formatters",
         "C;C++;cpp;cuda-cpp;debuggers;IntelliSense;json;keybindings;Microsoft;multi-root ready",
         "85413454",
         "3.426870822906494",
         "2025-06-25T19:02:16.243Z",
         "Microsoft",
         "https://github.com/Microsoft/vscode-cpptools",
         "11",
         "0",
         "0",
         "0",
         "11",
         "Microsoft",
         "vscode-cpptools",
         "5",
         "1",
         "[\"TypeScript\",\"C++\",\"HTML\",\"JavaScript\"]",
         "[\"microsoft\",\"typescript\",\"vscode-extension\"]"
        ],
        [
         "4",
         "True",
         "Jupyter Keymap",
         "ms-toolsai",
         "1.1.2",
         "Notebooks",
         "__web_extension;keybindings;notebook-keymap",
         "74084334",
         "4.0",
         "2023-06-05T17:53:31.993Z",
         "Microsoft",
         "https://github.com/Microsoft/vscode-jupyter-keymap",
         "17",
         "0",
         "0",
         "9",
         "8",
         "Microsoft",
         "vscode-jupyter-keymap",
         "32",
         "14",
         "[]",
         "[]"
        ]
       ],
       "shape": {
        "columns": 22,
        "rows": 5
       }
      },
      "text/html": [
       "<div>\n",
       "<style scoped>\n",
       "    .dataframe tbody tr th:only-of-type {\n",
       "        vertical-align: middle;\n",
       "    }\n",
       "\n",
       "    .dataframe tbody tr th {\n",
       "        vertical-align: top;\n",
       "    }\n",
       "\n",
       "    .dataframe thead th {\n",
       "        text-align: right;\n",
       "    }\n",
       "</style>\n",
       "<table border=\"1\" class=\"dataframe\">\n",
       "  <thead>\n",
       "    <tr style=\"text-align: right;\">\n",
       "      <th></th>\n",
       "      <th>verified</th>\n",
       "      <th>ext_name</th>\n",
       "      <th>ext_publisher</th>\n",
       "      <th>ext_version</th>\n",
       "      <th>ext_categories</th>\n",
       "      <th>ext_tags</th>\n",
       "      <th>ext_install_count</th>\n",
       "      <th>ext_rating</th>\n",
       "      <th>ext_last_updated</th>\n",
       "      <th>repo_publisher</th>\n",
       "      <th>...</th>\n",
       "      <th>critical</th>\n",
       "      <th>high</th>\n",
       "      <th>medium</th>\n",
       "      <th>low</th>\n",
       "      <th>repo_owner</th>\n",
       "      <th>repo_name</th>\n",
       "      <th>repo_stars</th>\n",
       "      <th>repo_forks</th>\n",
       "      <th>language</th>\n",
       "      <th>topics</th>\n",
       "    </tr>\n",
       "  </thead>\n",
       "  <tbody>\n",
       "    <tr>\n",
       "      <th>0</th>\n",
       "      <td>True</td>\n",
       "      <td>Python</td>\n",
       "      <td>ms-python</td>\n",
       "      <td>2025.11.2025072901</td>\n",
       "      <td>Programming Languages;Debuggers;Data Science;M...</td>\n",
       "      <td>__ext_j2;__ext_jinja2;__web_extension;debugger...</td>\n",
       "      <td>177844528</td>\n",
       "      <td>4.192869</td>\n",
       "      <td>2025-07-29T10:50:24.31Z</td>\n",
       "      <td>Microsoft</td>\n",
       "      <td>...</td>\n",
       "      <td>0</td>\n",
       "      <td>0</td>\n",
       "      <td>0</td>\n",
       "      <td>0</td>\n",
       "      <td>Microsoft</td>\n",
       "      <td>vscode-python</td>\n",
       "      <td>4</td>\n",
       "      <td>1</td>\n",
       "      <td>[]</td>\n",
       "      <td>[]</td>\n",
       "    </tr>\n",
       "    <tr>\n",
       "      <th>1</th>\n",
       "      <td>True</td>\n",
       "      <td>Pylance</td>\n",
       "      <td>ms-python</td>\n",
       "      <td>2025.7.100</td>\n",
       "      <td>Programming Languages</td>\n",
       "      <td>__web_extension;json;python</td>\n",
       "      <td>146473811</td>\n",
       "      <td>3.007722</td>\n",
       "      <td>2025-07-30T23:10:58.657Z</td>\n",
       "      <td>Microsoft</td>\n",
       "      <td>...</td>\n",
       "      <td>0</td>\n",
       "      <td>0</td>\n",
       "      <td>0</td>\n",
       "      <td>0</td>\n",
       "      <td>microsoft</td>\n",
       "      <td>pylance-release</td>\n",
       "      <td>1</td>\n",
       "      <td>856</td>\n",
       "      <td>[\"Python\",\"Jupyter Notebook\"]</td>\n",
       "      <td>[\"python\",\"language-server\",\"code-analysis\",\"l...</td>\n",
       "    </tr>\n",
       "    <tr>\n",
       "      <th>2</th>\n",
       "      <td>True</td>\n",
       "      <td>Jupyter</td>\n",
       "      <td>ms-toolsai</td>\n",
       "      <td>2025.7.2025073101</td>\n",
       "      <td>Extension Packs;Data Science;Machine Learning;...</td>\n",
       "      <td>__ext_jl;__web_extension;debuggers;interactive...</td>\n",
       "      <td>93931981</td>\n",
       "      <td>2.700599</td>\n",
       "      <td>2025-07-31T09:54:06Z</td>\n",
       "      <td>Microsoft</td>\n",
       "      <td>...</td>\n",
       "      <td>0</td>\n",
       "      <td>0</td>\n",
       "      <td>0</td>\n",
       "      <td>0</td>\n",
       "      <td>Microsoft</td>\n",
       "      <td>vscode-jupyter</td>\n",
       "      <td>1</td>\n",
       "      <td>337</td>\n",
       "      <td>[\"TypeScript\",\"Python\",\"Jupyter Notebook\",\"Jav...</td>\n",
       "      <td>[\"machine-learning\",\"jupyter\",\"vscode\",\"datasc...</td>\n",
       "    </tr>\n",
       "    <tr>\n",
       "      <th>3</th>\n",
       "      <td>True</td>\n",
       "      <td>C/C++</td>\n",
       "      <td>ms-vscode</td>\n",
       "      <td>1.26.3</td>\n",
       "      <td>Programming Languages;Snippets;Linters;Debugge...</td>\n",
       "      <td>C;C++;cpp;cuda-cpp;debuggers;IntelliSense;json...</td>\n",
       "      <td>85413454</td>\n",
       "      <td>3.426871</td>\n",
       "      <td>2025-06-25T19:02:16.243Z</td>\n",
       "      <td>Microsoft</td>\n",
       "      <td>...</td>\n",
       "      <td>0</td>\n",
       "      <td>0</td>\n",
       "      <td>0</td>\n",
       "      <td>11</td>\n",
       "      <td>Microsoft</td>\n",
       "      <td>vscode-cpptools</td>\n",
       "      <td>5</td>\n",
       "      <td>1</td>\n",
       "      <td>[\"TypeScript\",\"C++\",\"HTML\",\"JavaScript\"]</td>\n",
       "      <td>[\"microsoft\",\"typescript\",\"vscode-extension\"]</td>\n",
       "    </tr>\n",
       "    <tr>\n",
       "      <th>4</th>\n",
       "      <td>True</td>\n",
       "      <td>Jupyter Keymap</td>\n",
       "      <td>ms-toolsai</td>\n",
       "      <td>1.1.2</td>\n",
       "      <td>Notebooks</td>\n",
       "      <td>__web_extension;keybindings;notebook-keymap</td>\n",
       "      <td>74084334</td>\n",
       "      <td>4.000000</td>\n",
       "      <td>2023-06-05T17:53:31.993Z</td>\n",
       "      <td>Microsoft</td>\n",
       "      <td>...</td>\n",
       "      <td>0</td>\n",
       "      <td>0</td>\n",
       "      <td>9</td>\n",
       "      <td>8</td>\n",
       "      <td>Microsoft</td>\n",
       "      <td>vscode-jupyter-keymap</td>\n",
       "      <td>32</td>\n",
       "      <td>14</td>\n",
       "      <td>[]</td>\n",
       "      <td>[]</td>\n",
       "    </tr>\n",
       "  </tbody>\n",
       "</table>\n",
       "<p>5 rows × 22 columns</p>\n",
       "</div>"
      ],
      "text/plain": [
       "   verified        ext_name ext_publisher         ext_version  \\\n",
       "0      True          Python     ms-python  2025.11.2025072901   \n",
       "1      True         Pylance     ms-python          2025.7.100   \n",
       "2      True         Jupyter    ms-toolsai   2025.7.2025073101   \n",
       "3      True           C/C++     ms-vscode              1.26.3   \n",
       "4      True  Jupyter Keymap    ms-toolsai               1.1.2   \n",
       "\n",
       "                                      ext_categories  \\\n",
       "0  Programming Languages;Debuggers;Data Science;M...   \n",
       "1                              Programming Languages   \n",
       "2  Extension Packs;Data Science;Machine Learning;...   \n",
       "3  Programming Languages;Snippets;Linters;Debugge...   \n",
       "4                                          Notebooks   \n",
       "\n",
       "                                            ext_tags  ext_install_count  \\\n",
       "0  __ext_j2;__ext_jinja2;__web_extension;debugger...          177844528   \n",
       "1                        __web_extension;json;python          146473811   \n",
       "2  __ext_jl;__web_extension;debuggers;interactive...           93931981   \n",
       "3  C;C++;cpp;cuda-cpp;debuggers;IntelliSense;json...           85413454   \n",
       "4        __web_extension;keybindings;notebook-keymap           74084334   \n",
       "\n",
       "   ext_rating          ext_last_updated repo_publisher  ... critical  high  \\\n",
       "0    4.192869   2025-07-29T10:50:24.31Z      Microsoft  ...        0     0   \n",
       "1    3.007722  2025-07-30T23:10:58.657Z      Microsoft  ...        0     0   \n",
       "2    2.700599      2025-07-31T09:54:06Z      Microsoft  ...        0     0   \n",
       "3    3.426871  2025-06-25T19:02:16.243Z      Microsoft  ...        0     0   \n",
       "4    4.000000  2023-06-05T17:53:31.993Z      Microsoft  ...        0     0   \n",
       "\n",
       "   medium  low  repo_owner              repo_name repo_stars repo_forks  \\\n",
       "0       0    0   Microsoft          vscode-python          4          1   \n",
       "1       0    0   microsoft        pylance-release          1        856   \n",
       "2       0    0   Microsoft         vscode-jupyter          1        337   \n",
       "3       0   11   Microsoft        vscode-cpptools          5          1   \n",
       "4       9    8   Microsoft  vscode-jupyter-keymap         32         14   \n",
       "\n",
       "                                            language  \\\n",
       "0                                                 []   \n",
       "1                      [\"Python\",\"Jupyter Notebook\"]   \n",
       "2  [\"TypeScript\",\"Python\",\"Jupyter Notebook\",\"Jav...   \n",
       "3           [\"TypeScript\",\"C++\",\"HTML\",\"JavaScript\"]   \n",
       "4                                                 []   \n",
       "\n",
       "                                              topics  \n",
       "0                                                 []  \n",
       "1  [\"python\",\"language-server\",\"code-analysis\",\"l...  \n",
       "2  [\"machine-learning\",\"jupyter\",\"vscode\",\"datasc...  \n",
       "3      [\"microsoft\",\"typescript\",\"vscode-extension\"]  \n",
       "4                                                 []  \n",
       "\n",
       "[5 rows x 22 columns]"
      ]
     },
     "execution_count": 7,
     "metadata": {},
     "output_type": "execute_result"
    }
   ],
   "source": [
    "df = pd.read_csv(config[\"data\"][\"raw\"][\"file_ext_repo\"])\n",
    "df = df.sort_values(by = [\"ext_install_count\", \"ext_rating\"], ascending= False)\n",
    "df.head()"
   ]
  },
  {
   "cell_type": "code",
   "execution_count": 4,
   "metadata": {},
   "outputs": [
    {
     "data": {
      "text/plain": [
       "(30921, 23)"
      ]
     },
     "execution_count": 4,
     "metadata": {},
     "output_type": "execute_result"
    }
   ],
   "source": [
    "df.shape"
   ]
  },
  {
   "cell_type": "code",
   "execution_count": null,
   "metadata": {},
   "outputs": [],
   "source": []
  },
  {
   "cell_type": "markdown",
   "metadata": {},
   "source": [
    "### 2. Cleaning"
   ]
  },
  {
   "cell_type": "markdown",
   "metadata": {},
   "source": [
    "Check duplicated and remove"
   ]
  },
  {
   "cell_type": "markdown",
   "metadata": {},
   "source": [
    "Clean column names and remove columns"
   ]
  },
  {
   "cell_type": "markdown",
   "metadata": {},
   "source": [
    "Check null values and drop na"
   ]
  },
  {
   "cell_type": "markdown",
   "metadata": {},
   "source": [
    "Check values in column"
   ]
  },
  {
   "cell_type": "markdown",
   "metadata": {},
   "source": [
    "### 3. EDA"
   ]
  },
  {
   "cell_type": "code",
   "execution_count": null,
   "metadata": {},
   "outputs": [],
   "source": []
  }
 ],
 "metadata": {
  "kernelspec": {
   "display_name": "Final",
   "language": "python",
   "name": "python3"
  },
  "language_info": {
   "codemirror_mode": {
    "name": "ipython",
    "version": 3
   },
   "file_extension": ".py",
   "mimetype": "text/x-python",
   "name": "python",
   "nbconvert_exporter": "python",
   "pygments_lexer": "ipython3",
   "version": "3.13.5"
  }
 },
 "nbformat": 4,
 "nbformat_minor": 2
}

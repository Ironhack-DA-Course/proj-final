{
 "cells": [
  {
   "cell_type": "code",
   "execution_count": null,
   "metadata": {},
   "outputs": [],
   "source": [
    "# Data handling\n",
    "import numpy as np\n",
    "import pandas as pd\n",
    "\n",
    "#lib\n",
    "from lib.clean_data_functions import clean_ext_version, clean_ext_publisher, clean_repo_publisher, filter_string\n",
    "\n",
    "#\n",
    "from ast import literal_eval\n",
    "from collections import Counter\n",
    "\n",
    "import warnings\n",
    "warnings.filterwarnings(\"ignore\")    # (Optional)\n",
    "\n",
    "print(\"Project has been created with Pandas: \" ,pd. __version__,\" And with Numpy: \",np. __version__)"
   ]
  },
  {
   "cell_type": "code",
   "execution_count": null,
   "metadata": {},
   "outputs": [],
   "source": []
  },
  {
   "cell_type": "code",
   "execution_count": 2,
   "metadata": {},
   "outputs": [],
   "source": [
    "import yaml\n",
    "\n",
    "try:\n",
    "    with open(\"../config.yaml\", \"r\") as file:\n",
    "        config = yaml.safe_load(file)\n",
    "except:\n",
    "    print(\"Yaml configuration file not found!\")"
   ]
  },
  {
   "cell_type": "markdown",
   "metadata": {},
   "source": [
    "### 1. Loading"
   ]
  },
  {
   "cell_type": "code",
   "execution_count": null,
   "metadata": {},
   "outputs": [],
   "source": [
    "df = pd.read_csv(config[\"data\"][\"raw\"][\"file_ext_repo\"])\n",
    "# df = df.sort_values(by = [\"ext_install_count\", \"ext_rating\"], ascending= False)\n",
    "df.head()"
   ]
  },
  {
   "cell_type": "code",
   "execution_count": null,
   "metadata": {},
   "outputs": [],
   "source": [
    "print(f'The dataset has {df.shape[0]} rows and {df.shape[1]} columns')"
   ]
  },
  {
   "cell_type": "code",
   "execution_count": null,
   "metadata": {},
   "outputs": [],
   "source": [
    "df.info()"
   ]
  },
  {
   "cell_type": "markdown",
   "metadata": {},
   "source": [
    "#### Metadata:\n",
    "- **_verified_:**                 check, whether extension's security is breached         (boolean)\n",
    "- **_ext_name_:**                 name of extension                                       (obj)\n",
    "- **_ext_publisher_:**            name of extension'S publisher                           (obj)\n",
    "- **_ext_version_:**              current version of extension                            (obj)\n",
    "- **_ext_categories_:**           categories of extension                                 (obj)   (multi values)\n",
    "- **_ext_tags_:**                 keywords related to extension                           (obj)   (multi values)\n",
    "- **_ext\\_install\\_count_:**      total number of installations of extension              (int64)\n",
    "- **_ext\\_rating_:**              rating of extension (avg of stars rating)               (float64)\n",
    "- **_ext\\_last\\_updated_:**       timestamp of last update                                (obj)\n",
    "- **_repo_publisher_:**           publisher of extension                                  (obj)\n",
    "- **_repository_:**               url of repository                                       (obj)\n",
    "- **_total_vulnerabilities_:**    number of detected vulnerabilities                      (int64)\n",
    "- **_critical_:**                 number of critical(severity) vulnerabilities            (int64)\n",
    "- **_high_:**                     number of high(severity) vulnerabilities                (int64)\n",
    "- **_medium_:**                   number of medium(severity) vulnerabilities              (int64)\n",
    "- **_low_:**                      number of low(severity) vulnerabilities                 (int64)\n",
    "- **_repo\\_owner_:**              owner of repository (via column repository)             (obj)\n",
    "- **_repo\\_name_:**               name of repository (via column repository)              (obj)\n",
    "- **_repo\\_stars_:**              number of stars of repository (via column repository)   (int64)   \n",
    "- **_repo\\_forks_:**              number of forks of repository (via column repository)   (int64)   \n",
    "- **_language_:**                 program languages used (via column repository)          (obj)   (multi values)\n",
    "- **_topics_:**                   keywords related to repository (via column repository)  (obj)   (multi values)\n",
    "- **_error_:**                    log of fetching repository                              (obj)\n"
   ]
  },
  {
   "cell_type": "markdown",
   "metadata": {},
   "source": [
    "### 2. Cleaning"
   ]
  },
  {
   "cell_type": "code",
   "execution_count": null,
   "metadata": {},
   "outputs": [],
   "source": [
    "# Check missing values\n",
    "df.isna().sum()"
   ]
  },
  {
   "cell_type": "code",
   "execution_count": null,
   "metadata": {},
   "outputs": [],
   "source": [
    "df.columns[df.isnull().mean() > 0.8]"
   ]
  },
  {
   "cell_type": "markdown",
   "metadata": {},
   "source": [
    "Remove record with values (not null) in \"error\" column due to unavailability of repository"
   ]
  },
  {
   "cell_type": "code",
   "execution_count": null,
   "metadata": {},
   "outputs": [],
   "source": [
    "df = df[df[\"error\"].isna()]\n",
    "print(f\"After removing extensions with unavailable repository, the dataset has {df.shape[0]} rows and {df.shape[1]} columns\")"
   ]
  },
  {
   "cell_type": "markdown",
   "metadata": {},
   "source": [
    "#### Clean columns"
   ]
  },
  {
   "cell_type": "markdown",
   "metadata": {},
   "source": [
    "Rename and remove columns for noises and avoiding of overfit [\"ext\\_tags\", \"repo\\_publisher\", \"error\"]"
   ]
  },
  {
   "cell_type": "code",
   "execution_count": 9,
   "metadata": {},
   "outputs": [],
   "source": [
    "# Use  \"repo\\_owner\" over \"repo\\_publisher\" due to correctness from fetching infos directly)\n",
    "df = df.drop(columns=[\"ext_name\",\"ext_publisher\",\"ext_tags\",\"ext_last_updated\", \"repo_publisher\", \"error\"]).rename(columns={\"total_vulnerabilities\": \"total_vulners\", \"critical\": \"critical_vulners\", \"high\": \"high_vulners\", \"medium\": \"medium_vulners\", \"low\": \"low_vulners\", \"language\": \"repo_languages\", \"topics\": \"repo_topics\"})"
   ]
  },
  {
   "cell_type": "code",
   "execution_count": 11,
   "metadata": {},
   "outputs": [],
   "source": [
    "# df.info()"
   ]
  },
  {
   "cell_type": "markdown",
   "metadata": {},
   "source": [
    "#### Clean data inconsistencies"
   ]
  },
  {
   "cell_type": "code",
   "execution_count": 12,
   "metadata": {},
   "outputs": [],
   "source": [
    "#ext_version\n",
    "\n",
    "df[\"ext_version\"] = df[\"ext_version\"].apply(clean_ext_version)\n",
    "df['ext_version'] = pd.to_numeric(df['ext_version'], errors=\"coerce\")"
   ]
  },
  {
   "cell_type": "code",
   "execution_count": 13,
   "metadata": {},
   "outputs": [],
   "source": [
    "#ext_rating\n",
    "df[\"ext_rating\"] = df[\"ext_rating\"].apply(lambda x: round(x,2) if pd.notna(x) else pd.NA )"
   ]
  },
  {
   "cell_type": "code",
   "execution_count": 15,
   "metadata": {},
   "outputs": [],
   "source": [
    "#repo_languages\n",
    "# eval the obj[] and transform to str\n",
    "df[\"repo_languages\"] = df[\"repo_languages\"].apply(lambda x: literal_eval(x) if pd.notna(x) else [])\n",
    "df[\"repo_languages\"] = df[\"repo_languages\"].apply(lambda x: ';'.join(map(str, x)) if x else x)\n",
    "df[\"repo_languages\"] = df[\"repo_languages\"].str.lower()\n",
    "# prog_languages = languages_set"
   ]
  },
  {
   "cell_type": "code",
   "execution_count": 16,
   "metadata": {},
   "outputs": [],
   "source": [
    "#repo_topics\n",
    "df[\"repo_topics\"] = df[\"repo_topics\"].apply(lambda x: literal_eval(x) if pd.notna(x) else [])\n",
    "df[\"repo_topics\"] = df[\"repo_topics\"].apply(lambda x: ';'.join(map(str, x)) if x else pd.NA)\n",
    "df[\"repo_topics\"] = df[\"repo_topics\"].str.lower()\n"
   ]
  },
  {
   "cell_type": "code",
   "execution_count": 19,
   "metadata": {},
   "outputs": [],
   "source": [
    "repo_languages = \"\"\n",
    "for lang in df[\"repo_languages\"]:\n",
    "    if not pd.isna(lang):\n",
    "        repo_languages += lang + \";\"\n",
    "    \n",
    "repo_languages_list = repo_languages.split(';')\n",
    "repo_languages_set  = set(repo_languages_list)"
   ]
  },
  {
   "cell_type": "code",
   "execution_count": 20,
   "metadata": {},
   "outputs": [],
   "source": [
    "# Fill NA in language where topics is not NA with parts of topics in languages\n",
    "mask = pd.isna(df['repo_languages']) & ~pd.isna(df['repo_topics'])\n",
    "df.loc[mask, 'repo_languages'] = df.loc[mask, 'repo_topics'].apply(lambda x: filter_string(x, repo_languages_set))"
   ]
  },
  {
   "cell_type": "code",
   "execution_count": null,
   "metadata": {},
   "outputs": [],
   "source": [
    "df[\"repo_languages\"].isna().sum()/df[\"repo_languages\"].shape[0]\n",
    "# sorted(languages_set)"
   ]
  },
  {
   "cell_type": "markdown",
   "metadata": {},
   "source": [
    "NA in column \"repo_languages\" is 24,6%. We will try to fill missing values in languages with topic as part of languages"
   ]
  },
  {
   "cell_type": "markdown",
   "metadata": {},
   "source": []
  },
  {
   "cell_type": "markdown",
   "metadata": {},
   "source": [
    "#### Handle missing/na values"
   ]
  },
  {
   "cell_type": "code",
   "execution_count": 22,
   "metadata": {},
   "outputs": [],
   "source": [
    "df[\"repo_languages\"] = df[\"repo_languages\"].fillna(\"unknown\")"
   ]
  },
  {
   "cell_type": "markdown",
   "metadata": {},
   "source": [
    "#### Handle duplicating\n"
   ]
  },
  {
   "cell_type": "code",
   "execution_count": 23,
   "metadata": {},
   "outputs": [],
   "source": [
    "# df.duplicated().sum()\n",
    "df = df[~df.duplicated(subset=[\"repo_owner\",\"repo_stars\", \"repo_forks\"])]"
   ]
  },
  {
   "cell_type": "markdown",
   "metadata": {},
   "source": [
    "#### Transform"
   ]
  },
  {
   "cell_type": "code",
   "execution_count": null,
   "metadata": {},
   "outputs": [],
   "source": [
    "# df[df[\"repo_languages\"].isna()]\n",
    "df = df.drop(columns=\"repo_topics\")\n",
    "# df[(df[\"repo_languages\"].isna()) & df[\"verified\"] == True]\n",
    "df"
   ]
  },
  {
   "cell_type": "code",
   "execution_count": 25,
   "metadata": {},
   "outputs": [],
   "source": [
    "df.to_csv(config[\"data\"][\"clean\"][\"file_data_cleaned\"],index=False )"
   ]
  },
  {
   "cell_type": "code",
   "execution_count": 26,
   "metadata": {},
   "outputs": [],
   "source": [
    "# languages = \"\"\n",
    "# for lang in df[\"repo_languages\"]:\n",
    "#     if not pd.isna(lang):\n",
    "#         languages += lang + \";\"\n",
    "    \n",
    "# languages_list = languages.split(';')\n",
    "# languages_set  = set(languages_list)"
   ]
  },
  {
   "cell_type": "code",
   "execution_count": 27,
   "metadata": {},
   "outputs": [],
   "source": [
    "\n",
    "# categories = \"\"\n",
    "# for cate in df[\"ext_categories\"]:\n",
    "#     categories += cate + \";\"\n",
    "\n",
    "# categories_list = categories.split(';')\n",
    "# categories_set  = set(categories_list)\n",
    "\n",
    "# categories_set"
   ]
  }
 ],
 "metadata": {
  "kernelspec": {
   "display_name": "Final",
   "language": "python",
   "name": "python3"
  },
  "language_info": {
   "codemirror_mode": {
    "name": "ipython",
    "version": 3
   },
   "file_extension": ".py",
   "mimetype": "text/x-python",
   "name": "python",
   "nbconvert_exporter": "python",
   "pygments_lexer": "ipython3",
   "version": "3.13.5"
  }
 },
 "nbformat": 4,
 "nbformat_minor": 2
}
